{
  "nbformat": 4,
  "nbformat_minor": 0,
  "metadata": {
    "colab": {
      "provenance": [],
      "include_colab_link": true
    },
    "kernelspec": {
      "display_name": "Python 3",
      "name": "python3"
    },
    "language_info": {
      "codemirror_mode": {
        "name": "ipython",
        "version": 3
      },
      "file_extension": ".py",
      "mimetype": "text/x-python",
      "name": "python",
      "nbconvert_exporter": "python",
      "pygments_lexer": "ipython3",
      "version": "3.6.4"
    }
  },
  "cells": [
    {
      "cell_type": "markdown",
      "metadata": {
        "id": "view-in-github",
        "colab_type": "text"
      },
      "source": [
        "<a href=\"https://colab.research.google.com/github/Imran123885/InspiritAI_work/blob/main/imran_mirza_student_yelp_review_sentiment_classification.ipynb\" target=\"_parent\"><img src=\"https://colab.research.google.com/assets/colab-badge.svg\" alt=\"Open In Colab\"/></a>"
      ]
    },
    {
      "cell_type": "markdown",
      "metadata": {
        "id": "TiM6gYg0nhkY"
      },
      "source": [
        "<font color=\"#de3023\"><h1><b>MAKE A COPY OF THIS NOTEBOOK SO YOUR EDITS ARE SAVED</b></h1></font>"
      ]
    },
    {
      "cell_type": "markdown",
      "metadata": {
        "id": "svLhCiU3Evm6"
      },
      "source": [
        "# Introduction to Yelp Review Sentiment Classification\n",
        "\n",
        "In this project, we will build a classifier that can predict how a user feels (positively or negatively) about a given restaurant from their review. This is an example of **sentiment analysis**: being able to quantify an individual's opinion about a particular topic merely from the words they use.\n",
        "\n",
        "**Discuss:** Can you think of other ways companies might use sentiment analysis?\n",
        "\n",
        "In this notebook, we'll:\n",
        "\n",
        "\n",
        "*   Explore the Yelp review dataset\n",
        "*   Preprocess and vectorize our text data for NLP\n",
        "*   Train a sentiment analysis classifier with logistic regression\n",
        "*   (Optional) Explore and improve our model\n",
        "*   (Optional, Advanced) Train a model with word embeddings\n",
        "*   (Optional, Challenge) Use word embeddings to calculate similarity and analogies\n",
        "\n",
        "Let's dive in!\n",
        "\n",
        "\n"
      ]
    },
    {
      "cell_type": "markdown",
      "metadata": {
        "id": "BZgELVS8I6kc"
      },
      "source": [
        "<center> <img src=https://storage.googleapis.com/inspirit-ai-data-bucket-1/Data/AI%20Scholars/Sessions%201%20-%205/Session%203%20-%20NLP/Taco%20Bell%20Reviews.png> </center>"
      ]
    },
    {
      "cell_type": "code",
      "metadata": {
        "id": "2jS5ThMCEvnC",
        "colab": {
          "base_uri": "https://localhost:8080/"
        },
        "outputId": "5622415d-1ee3-4c63-b1f2-f69f0248508c"
      },
      "source": [
        "#@title Import our libraries and data (this may take a minute or two)\n",
        "import pandas as pd   # Great for tables (google spreadsheets, microsoft excel, csv).\n",
        "import numpy as np\n",
        "import matplotlib.pyplot as plt\n",
        "import seaborn as sns\n",
        "import string\n",
        "import nltk\n",
        "import spacy\n",
        "import wordcloud\n",
        "import os # Good for navigating your computer's files\n",
        "import sys\n",
        "pd.options.mode.chained_assignment = None #suppress warnings\n",
        "\n",
        "from nltk.corpus import stopwords\n",
        "from nltk.stem import WordNetLemmatizer\n",
        "from nltk.corpus import stopwords\n",
        "from nltk.tokenize import word_tokenize\n",
        "from spacy.lang.en.stop_words import STOP_WORDS\n",
        "nltk.download('wordnet')\n",
        "nltk.download('punkt')\n",
        "\n",
        "from wordcloud import WordCloud\n",
        "import matplotlib.pyplot as plt\n",
        "from sklearn.feature_extraction.text import CountVectorizer\n",
        "from sklearn.model_selection import train_test_split\n",
        "from sklearn.linear_model import LogisticRegression\n",
        "from sklearn.metrics import confusion_matrix, classification_report\n",
        "from sklearn.metrics import accuracy_score\n",
        "import locale\n",
        "locale.getpreferredencoding = lambda: \"UTF-8\"\n",
        "!python -m spacy download en_core_web_md\n",
        "import en_core_web_md\n",
        "text_to_nlp = spacy.load('en_core_web_md')\n",
        "\n",
        "# Import our data\n",
        "!wget -q --show-progress \"https://storage.googleapis.com/inspirit-ai-data-bucket-1/Data/AI%20Scholars/Sessions%201%20-%205/Session%203%20-%20NLP/yelp_final.csv\""
      ],
      "execution_count": null,
      "outputs": [
        {
          "output_type": "stream",
          "name": "stderr",
          "text": [
            "[nltk_data] Downloading package wordnet to /root/nltk_data...\n",
            "[nltk_data] Downloading package punkt to /root/nltk_data...\n",
            "[nltk_data]   Unzipping tokenizers/punkt.zip.\n"
          ]
        },
        {
          "output_type": "stream",
          "name": "stdout",
          "text": [
            "Collecting en-core-web-md==3.7.1\n",
            "  Downloading https://github.com/explosion/spacy-models/releases/download/en_core_web_md-3.7.1/en_core_web_md-3.7.1-py3-none-any.whl (42.8 MB)\n",
            "\u001b[2K     \u001b[90m━━━━━━━━━━━━━━━━━━━━━━━━━━━━━━━━━━━━━━━━\u001b[0m \u001b[32m42.8/42.8 MB\u001b[0m \u001b[31m15.8 MB/s\u001b[0m eta \u001b[36m0:00:00\u001b[0m\n",
            "\u001b[?25hRequirement already satisfied: spacy<3.8.0,>=3.7.2 in /usr/local/lib/python3.10/dist-packages (from en-core-web-md==3.7.1) (3.7.2)\n",
            "Requirement already satisfied: spacy-legacy<3.1.0,>=3.0.11 in /usr/local/lib/python3.10/dist-packages (from spacy<3.8.0,>=3.7.2->en-core-web-md==3.7.1) (3.0.12)\n",
            "Requirement already satisfied: spacy-loggers<2.0.0,>=1.0.0 in /usr/local/lib/python3.10/dist-packages (from spacy<3.8.0,>=3.7.2->en-core-web-md==3.7.1) (1.0.5)\n",
            "Requirement already satisfied: murmurhash<1.1.0,>=0.28.0 in /usr/local/lib/python3.10/dist-packages (from spacy<3.8.0,>=3.7.2->en-core-web-md==3.7.1) (1.0.10)\n",
            "Requirement already satisfied: cymem<2.1.0,>=2.0.2 in /usr/local/lib/python3.10/dist-packages (from spacy<3.8.0,>=3.7.2->en-core-web-md==3.7.1) (2.0.8)\n",
            "Requirement already satisfied: preshed<3.1.0,>=3.0.2 in /usr/local/lib/python3.10/dist-packages (from spacy<3.8.0,>=3.7.2->en-core-web-md==3.7.1) (3.0.9)\n",
            "Requirement already satisfied: thinc<8.3.0,>=8.1.8 in /usr/local/lib/python3.10/dist-packages (from spacy<3.8.0,>=3.7.2->en-core-web-md==3.7.1) (8.2.2)\n",
            "Requirement already satisfied: wasabi<1.2.0,>=0.9.1 in /usr/local/lib/python3.10/dist-packages (from spacy<3.8.0,>=3.7.2->en-core-web-md==3.7.1) (1.1.2)\n",
            "Requirement already satisfied: srsly<3.0.0,>=2.4.3 in /usr/local/lib/python3.10/dist-packages (from spacy<3.8.0,>=3.7.2->en-core-web-md==3.7.1) (2.4.8)\n",
            "Requirement already satisfied: catalogue<2.1.0,>=2.0.6 in /usr/local/lib/python3.10/dist-packages (from spacy<3.8.0,>=3.7.2->en-core-web-md==3.7.1) (2.0.10)\n",
            "Requirement already satisfied: weasel<0.4.0,>=0.1.0 in /usr/local/lib/python3.10/dist-packages (from spacy<3.8.0,>=3.7.2->en-core-web-md==3.7.1) (0.3.4)\n",
            "Requirement already satisfied: typer<0.10.0,>=0.3.0 in /usr/local/lib/python3.10/dist-packages (from spacy<3.8.0,>=3.7.2->en-core-web-md==3.7.1) (0.9.0)\n",
            "Requirement already satisfied: smart-open<7.0.0,>=5.2.1 in /usr/local/lib/python3.10/dist-packages (from spacy<3.8.0,>=3.7.2->en-core-web-md==3.7.1) (6.4.0)\n",
            "Requirement already satisfied: tqdm<5.0.0,>=4.38.0 in /usr/local/lib/python3.10/dist-packages (from spacy<3.8.0,>=3.7.2->en-core-web-md==3.7.1) (4.66.1)\n",
            "Requirement already satisfied: requests<3.0.0,>=2.13.0 in /usr/local/lib/python3.10/dist-packages (from spacy<3.8.0,>=3.7.2->en-core-web-md==3.7.1) (2.31.0)\n",
            "Requirement already satisfied: pydantic!=1.8,!=1.8.1,<3.0.0,>=1.7.4 in /usr/local/lib/python3.10/dist-packages (from spacy<3.8.0,>=3.7.2->en-core-web-md==3.7.1) (1.10.14)\n",
            "Requirement already satisfied: jinja2 in /usr/local/lib/python3.10/dist-packages (from spacy<3.8.0,>=3.7.2->en-core-web-md==3.7.1) (3.1.3)\n",
            "Requirement already satisfied: setuptools in /usr/local/lib/python3.10/dist-packages (from spacy<3.8.0,>=3.7.2->en-core-web-md==3.7.1) (67.7.2)\n",
            "Requirement already satisfied: packaging>=20.0 in /usr/local/lib/python3.10/dist-packages (from spacy<3.8.0,>=3.7.2->en-core-web-md==3.7.1) (23.2)\n",
            "Requirement already satisfied: langcodes<4.0.0,>=3.2.0 in /usr/local/lib/python3.10/dist-packages (from spacy<3.8.0,>=3.7.2->en-core-web-md==3.7.1) (3.3.0)\n",
            "Requirement already satisfied: numpy>=1.19.0 in /usr/local/lib/python3.10/dist-packages (from spacy<3.8.0,>=3.7.2->en-core-web-md==3.7.1) (1.23.5)\n",
            "Requirement already satisfied: typing-extensions>=4.2.0 in /usr/local/lib/python3.10/dist-packages (from pydantic!=1.8,!=1.8.1,<3.0.0,>=1.7.4->spacy<3.8.0,>=3.7.2->en-core-web-md==3.7.1) (4.5.0)\n",
            "Requirement already satisfied: charset-normalizer<4,>=2 in /usr/local/lib/python3.10/dist-packages (from requests<3.0.0,>=2.13.0->spacy<3.8.0,>=3.7.2->en-core-web-md==3.7.1) (3.3.2)\n",
            "Requirement already satisfied: idna<4,>=2.5 in /usr/local/lib/python3.10/dist-packages (from requests<3.0.0,>=2.13.0->spacy<3.8.0,>=3.7.2->en-core-web-md==3.7.1) (3.6)\n",
            "Requirement already satisfied: urllib3<3,>=1.21.1 in /usr/local/lib/python3.10/dist-packages (from requests<3.0.0,>=2.13.0->spacy<3.8.0,>=3.7.2->en-core-web-md==3.7.1) (2.0.7)\n",
            "Requirement already satisfied: certifi>=2017.4.17 in /usr/local/lib/python3.10/dist-packages (from requests<3.0.0,>=2.13.0->spacy<3.8.0,>=3.7.2->en-core-web-md==3.7.1) (2023.11.17)\n",
            "Requirement already satisfied: blis<0.8.0,>=0.7.8 in /usr/local/lib/python3.10/dist-packages (from thinc<8.3.0,>=8.1.8->spacy<3.8.0,>=3.7.2->en-core-web-md==3.7.1) (0.7.11)\n",
            "Requirement already satisfied: confection<1.0.0,>=0.0.1 in /usr/local/lib/python3.10/dist-packages (from thinc<8.3.0,>=8.1.8->spacy<3.8.0,>=3.7.2->en-core-web-md==3.7.1) (0.1.4)\n",
            "Requirement already satisfied: click<9.0.0,>=7.1.1 in /usr/local/lib/python3.10/dist-packages (from typer<0.10.0,>=0.3.0->spacy<3.8.0,>=3.7.2->en-core-web-md==3.7.1) (8.1.7)\n",
            "Requirement already satisfied: cloudpathlib<0.17.0,>=0.7.0 in /usr/local/lib/python3.10/dist-packages (from weasel<0.4.0,>=0.1.0->spacy<3.8.0,>=3.7.2->en-core-web-md==3.7.1) (0.16.0)\n",
            "Requirement already satisfied: MarkupSafe>=2.0 in /usr/local/lib/python3.10/dist-packages (from jinja2->spacy<3.8.0,>=3.7.2->en-core-web-md==3.7.1) (2.1.4)\n",
            "Installing collected packages: en-core-web-md\n",
            "Successfully installed en-core-web-md-3.7.1\n",
            "\u001b[38;5;2m✔ Download and installation successful\u001b[0m\n",
            "You can now load the package via spacy.load('en_core_web_md')\n",
            "yelp_final.csv      100%[===================>] 534.28K  --.-KB/s    in 0.009s  \n"
          ]
        }
      ]
    },
    {
      "cell_type": "markdown",
      "metadata": {
        "id": "DQ267zCBOjet"
      },
      "source": [
        "# Data Exploration"
      ]
    },
    {
      "cell_type": "markdown",
      "metadata": {
        "id": "_BLs_2JkEvnw"
      },
      "source": [
        "First we read in the file containing the reviews and take a look at the data available to us."
      ]
    },
    {
      "cell_type": "code",
      "metadata": {
        "id": "8dZ_lymcN_K9",
        "colab": {
          "base_uri": "https://localhost:8080/",
          "height": 206
        },
        "outputId": "90006a42-d075-489b-c3a7-c81cb109de36"
      },
      "source": [
        "# read our data in using 'pd.read_csv('file')'\n",
        "yelp_full = pd.read_csv('yelp_final.csv')\n",
        "yelp_full.head()"
      ],
      "execution_count": null,
      "outputs": [
        {
          "output_type": "execute_result",
          "data": {
            "text/plain": [
              "   Unnamed: 0             business_id  stars  \\\n",
              "0           0  9yKzy9PApeiPPOUJEtnvkg      5   \n",
              "1           1  ZRJwVLyzEJq1VAihDhYiow      5   \n",
              "2           2  _1QQZuf4zZOyFCvXc0o6Vg      5   \n",
              "3           3  6ozycU1RpktNG2-1BroVtw      5   \n",
              "4           4  zp713qNhx8d9KCJJnrw1xA      5   \n",
              "\n",
              "                                                text                 user_id  \\\n",
              "0  My wife took me here on my birthday for breakf...  rLtl8ZkDX5vH5nAx9C3q5Q   \n",
              "1  I have no idea why some people give bad review...  0a2KyEL0d3Yb1V6aivbIuQ   \n",
              "2  Rosie, Dakota, and I LOVE Chaparral Dog Park!!...  uZetl9T0NcROGOyFfughhg   \n",
              "3  General Manager Scott Petello is a good egg!!!...  vYmM4KTsC8ZfQBg-j5MWkw   \n",
              "4  Drop what you're doing and drive here. After I...  wFweIWhv2fREZV_dYkz_1g   \n",
              "\n",
              "   cool  useful  funny  contains_profanity  \n",
              "0     2       5      0               False  \n",
              "1     0       0      0               False  \n",
              "2     1       2      0               False  \n",
              "3     0       0      0               False  \n",
              "4     7       7      4               False  "
            ],
            "text/html": [
              "\n",
              "  <div id=\"df-6b79cf4a-acf8-4c96-a49b-bf1c02d34490\" class=\"colab-df-container\">\n",
              "    <div>\n",
              "<style scoped>\n",
              "    .dataframe tbody tr th:only-of-type {\n",
              "        vertical-align: middle;\n",
              "    }\n",
              "\n",
              "    .dataframe tbody tr th {\n",
              "        vertical-align: top;\n",
              "    }\n",
              "\n",
              "    .dataframe thead th {\n",
              "        text-align: right;\n",
              "    }\n",
              "</style>\n",
              "<table border=\"1\" class=\"dataframe\">\n",
              "  <thead>\n",
              "    <tr style=\"text-align: right;\">\n",
              "      <th></th>\n",
              "      <th>Unnamed: 0</th>\n",
              "      <th>business_id</th>\n",
              "      <th>stars</th>\n",
              "      <th>text</th>\n",
              "      <th>user_id</th>\n",
              "      <th>cool</th>\n",
              "      <th>useful</th>\n",
              "      <th>funny</th>\n",
              "      <th>contains_profanity</th>\n",
              "    </tr>\n",
              "  </thead>\n",
              "  <tbody>\n",
              "    <tr>\n",
              "      <th>0</th>\n",
              "      <td>0</td>\n",
              "      <td>9yKzy9PApeiPPOUJEtnvkg</td>\n",
              "      <td>5</td>\n",
              "      <td>My wife took me here on my birthday for breakf...</td>\n",
              "      <td>rLtl8ZkDX5vH5nAx9C3q5Q</td>\n",
              "      <td>2</td>\n",
              "      <td>5</td>\n",
              "      <td>0</td>\n",
              "      <td>False</td>\n",
              "    </tr>\n",
              "    <tr>\n",
              "      <th>1</th>\n",
              "      <td>1</td>\n",
              "      <td>ZRJwVLyzEJq1VAihDhYiow</td>\n",
              "      <td>5</td>\n",
              "      <td>I have no idea why some people give bad review...</td>\n",
              "      <td>0a2KyEL0d3Yb1V6aivbIuQ</td>\n",
              "      <td>0</td>\n",
              "      <td>0</td>\n",
              "      <td>0</td>\n",
              "      <td>False</td>\n",
              "    </tr>\n",
              "    <tr>\n",
              "      <th>2</th>\n",
              "      <td>2</td>\n",
              "      <td>_1QQZuf4zZOyFCvXc0o6Vg</td>\n",
              "      <td>5</td>\n",
              "      <td>Rosie, Dakota, and I LOVE Chaparral Dog Park!!...</td>\n",
              "      <td>uZetl9T0NcROGOyFfughhg</td>\n",
              "      <td>1</td>\n",
              "      <td>2</td>\n",
              "      <td>0</td>\n",
              "      <td>False</td>\n",
              "    </tr>\n",
              "    <tr>\n",
              "      <th>3</th>\n",
              "      <td>3</td>\n",
              "      <td>6ozycU1RpktNG2-1BroVtw</td>\n",
              "      <td>5</td>\n",
              "      <td>General Manager Scott Petello is a good egg!!!...</td>\n",
              "      <td>vYmM4KTsC8ZfQBg-j5MWkw</td>\n",
              "      <td>0</td>\n",
              "      <td>0</td>\n",
              "      <td>0</td>\n",
              "      <td>False</td>\n",
              "    </tr>\n",
              "    <tr>\n",
              "      <th>4</th>\n",
              "      <td>4</td>\n",
              "      <td>zp713qNhx8d9KCJJnrw1xA</td>\n",
              "      <td>5</td>\n",
              "      <td>Drop what you're doing and drive here. After I...</td>\n",
              "      <td>wFweIWhv2fREZV_dYkz_1g</td>\n",
              "      <td>7</td>\n",
              "      <td>7</td>\n",
              "      <td>4</td>\n",
              "      <td>False</td>\n",
              "    </tr>\n",
              "  </tbody>\n",
              "</table>\n",
              "</div>\n",
              "    <div class=\"colab-df-buttons\">\n",
              "\n",
              "  <div class=\"colab-df-container\">\n",
              "    <button class=\"colab-df-convert\" onclick=\"convertToInteractive('df-6b79cf4a-acf8-4c96-a49b-bf1c02d34490')\"\n",
              "            title=\"Convert this dataframe to an interactive table.\"\n",
              "            style=\"display:none;\">\n",
              "\n",
              "  <svg xmlns=\"http://www.w3.org/2000/svg\" height=\"24px\" viewBox=\"0 -960 960 960\">\n",
              "    <path d=\"M120-120v-720h720v720H120Zm60-500h600v-160H180v160Zm220 220h160v-160H400v160Zm0 220h160v-160H400v160ZM180-400h160v-160H180v160Zm440 0h160v-160H620v160ZM180-180h160v-160H180v160Zm440 0h160v-160H620v160Z\"/>\n",
              "  </svg>\n",
              "    </button>\n",
              "\n",
              "  <style>\n",
              "    .colab-df-container {\n",
              "      display:flex;\n",
              "      gap: 12px;\n",
              "    }\n",
              "\n",
              "    .colab-df-convert {\n",
              "      background-color: #E8F0FE;\n",
              "      border: none;\n",
              "      border-radius: 50%;\n",
              "      cursor: pointer;\n",
              "      display: none;\n",
              "      fill: #1967D2;\n",
              "      height: 32px;\n",
              "      padding: 0 0 0 0;\n",
              "      width: 32px;\n",
              "    }\n",
              "\n",
              "    .colab-df-convert:hover {\n",
              "      background-color: #E2EBFA;\n",
              "      box-shadow: 0px 1px 2px rgba(60, 64, 67, 0.3), 0px 1px 3px 1px rgba(60, 64, 67, 0.15);\n",
              "      fill: #174EA6;\n",
              "    }\n",
              "\n",
              "    .colab-df-buttons div {\n",
              "      margin-bottom: 4px;\n",
              "    }\n",
              "\n",
              "    [theme=dark] .colab-df-convert {\n",
              "      background-color: #3B4455;\n",
              "      fill: #D2E3FC;\n",
              "    }\n",
              "\n",
              "    [theme=dark] .colab-df-convert:hover {\n",
              "      background-color: #434B5C;\n",
              "      box-shadow: 0px 1px 3px 1px rgba(0, 0, 0, 0.15);\n",
              "      filter: drop-shadow(0px 1px 2px rgba(0, 0, 0, 0.3));\n",
              "      fill: #FFFFFF;\n",
              "    }\n",
              "  </style>\n",
              "\n",
              "    <script>\n",
              "      const buttonEl =\n",
              "        document.querySelector('#df-6b79cf4a-acf8-4c96-a49b-bf1c02d34490 button.colab-df-convert');\n",
              "      buttonEl.style.display =\n",
              "        google.colab.kernel.accessAllowed ? 'block' : 'none';\n",
              "\n",
              "      async function convertToInteractive(key) {\n",
              "        const element = document.querySelector('#df-6b79cf4a-acf8-4c96-a49b-bf1c02d34490');\n",
              "        const dataTable =\n",
              "          await google.colab.kernel.invokeFunction('convertToInteractive',\n",
              "                                                    [key], {});\n",
              "        if (!dataTable) return;\n",
              "\n",
              "        const docLinkHtml = 'Like what you see? Visit the ' +\n",
              "          '<a target=\"_blank\" href=https://colab.research.google.com/notebooks/data_table.ipynb>data table notebook</a>'\n",
              "          + ' to learn more about interactive tables.';\n",
              "        element.innerHTML = '';\n",
              "        dataTable['output_type'] = 'display_data';\n",
              "        await google.colab.output.renderOutput(dataTable, element);\n",
              "        const docLink = document.createElement('div');\n",
              "        docLink.innerHTML = docLinkHtml;\n",
              "        element.appendChild(docLink);\n",
              "      }\n",
              "    </script>\n",
              "  </div>\n",
              "\n",
              "\n",
              "<div id=\"df-f434ab46-6857-4b71-a96e-7ddc29f3ff3d\">\n",
              "  <button class=\"colab-df-quickchart\" onclick=\"quickchart('df-f434ab46-6857-4b71-a96e-7ddc29f3ff3d')\"\n",
              "            title=\"Suggest charts\"\n",
              "            style=\"display:none;\">\n",
              "\n",
              "<svg xmlns=\"http://www.w3.org/2000/svg\" height=\"24px\"viewBox=\"0 0 24 24\"\n",
              "     width=\"24px\">\n",
              "    <g>\n",
              "        <path d=\"M19 3H5c-1.1 0-2 .9-2 2v14c0 1.1.9 2 2 2h14c1.1 0 2-.9 2-2V5c0-1.1-.9-2-2-2zM9 17H7v-7h2v7zm4 0h-2V7h2v10zm4 0h-2v-4h2v4z\"/>\n",
              "    </g>\n",
              "</svg>\n",
              "  </button>\n",
              "\n",
              "<style>\n",
              "  .colab-df-quickchart {\n",
              "      --bg-color: #E8F0FE;\n",
              "      --fill-color: #1967D2;\n",
              "      --hover-bg-color: #E2EBFA;\n",
              "      --hover-fill-color: #174EA6;\n",
              "      --disabled-fill-color: #AAA;\n",
              "      --disabled-bg-color: #DDD;\n",
              "  }\n",
              "\n",
              "  [theme=dark] .colab-df-quickchart {\n",
              "      --bg-color: #3B4455;\n",
              "      --fill-color: #D2E3FC;\n",
              "      --hover-bg-color: #434B5C;\n",
              "      --hover-fill-color: #FFFFFF;\n",
              "      --disabled-bg-color: #3B4455;\n",
              "      --disabled-fill-color: #666;\n",
              "  }\n",
              "\n",
              "  .colab-df-quickchart {\n",
              "    background-color: var(--bg-color);\n",
              "    border: none;\n",
              "    border-radius: 50%;\n",
              "    cursor: pointer;\n",
              "    display: none;\n",
              "    fill: var(--fill-color);\n",
              "    height: 32px;\n",
              "    padding: 0;\n",
              "    width: 32px;\n",
              "  }\n",
              "\n",
              "  .colab-df-quickchart:hover {\n",
              "    background-color: var(--hover-bg-color);\n",
              "    box-shadow: 0 1px 2px rgba(60, 64, 67, 0.3), 0 1px 3px 1px rgba(60, 64, 67, 0.15);\n",
              "    fill: var(--button-hover-fill-color);\n",
              "  }\n",
              "\n",
              "  .colab-df-quickchart-complete:disabled,\n",
              "  .colab-df-quickchart-complete:disabled:hover {\n",
              "    background-color: var(--disabled-bg-color);\n",
              "    fill: var(--disabled-fill-color);\n",
              "    box-shadow: none;\n",
              "  }\n",
              "\n",
              "  .colab-df-spinner {\n",
              "    border: 2px solid var(--fill-color);\n",
              "    border-color: transparent;\n",
              "    border-bottom-color: var(--fill-color);\n",
              "    animation:\n",
              "      spin 1s steps(1) infinite;\n",
              "  }\n",
              "\n",
              "  @keyframes spin {\n",
              "    0% {\n",
              "      border-color: transparent;\n",
              "      border-bottom-color: var(--fill-color);\n",
              "      border-left-color: var(--fill-color);\n",
              "    }\n",
              "    20% {\n",
              "      border-color: transparent;\n",
              "      border-left-color: var(--fill-color);\n",
              "      border-top-color: var(--fill-color);\n",
              "    }\n",
              "    30% {\n",
              "      border-color: transparent;\n",
              "      border-left-color: var(--fill-color);\n",
              "      border-top-color: var(--fill-color);\n",
              "      border-right-color: var(--fill-color);\n",
              "    }\n",
              "    40% {\n",
              "      border-color: transparent;\n",
              "      border-right-color: var(--fill-color);\n",
              "      border-top-color: var(--fill-color);\n",
              "    }\n",
              "    60% {\n",
              "      border-color: transparent;\n",
              "      border-right-color: var(--fill-color);\n",
              "    }\n",
              "    80% {\n",
              "      border-color: transparent;\n",
              "      border-right-color: var(--fill-color);\n",
              "      border-bottom-color: var(--fill-color);\n",
              "    }\n",
              "    90% {\n",
              "      border-color: transparent;\n",
              "      border-bottom-color: var(--fill-color);\n",
              "    }\n",
              "  }\n",
              "</style>\n",
              "\n",
              "  <script>\n",
              "    async function quickchart(key) {\n",
              "      const quickchartButtonEl =\n",
              "        document.querySelector('#' + key + ' button');\n",
              "      quickchartButtonEl.disabled = true;  // To prevent multiple clicks.\n",
              "      quickchartButtonEl.classList.add('colab-df-spinner');\n",
              "      try {\n",
              "        const charts = await google.colab.kernel.invokeFunction(\n",
              "            'suggestCharts', [key], {});\n",
              "      } catch (error) {\n",
              "        console.error('Error during call to suggestCharts:', error);\n",
              "      }\n",
              "      quickchartButtonEl.classList.remove('colab-df-spinner');\n",
              "      quickchartButtonEl.classList.add('colab-df-quickchart-complete');\n",
              "    }\n",
              "    (() => {\n",
              "      let quickchartButtonEl =\n",
              "        document.querySelector('#df-f434ab46-6857-4b71-a96e-7ddc29f3ff3d button');\n",
              "      quickchartButtonEl.style.display =\n",
              "        google.colab.kernel.accessAllowed ? 'block' : 'none';\n",
              "    })();\n",
              "  </script>\n",
              "</div>\n",
              "    </div>\n",
              "  </div>\n"
            ]
          },
          "metadata": {},
          "execution_count": 2
        }
      ]
    },
    {
      "cell_type": "markdown",
      "metadata": {
        "id": "QjL5FrSLEvoP"
      },
      "source": [
        "**Discuss:**\n",
        "- Which column gives us our output: the user's sentiment?\n",
        "- Which column gives us our input: the review?\n",
        "- Why aren't businesses' and users' real names included? (You'll notice they're replaced with random strings through [hashing](https://medium.com/tech-tales/what-is-hashing-6edba0ebfa67)). Why aren't the real names included?\n",
        "\n",
        "Let's keep only the two columns we need:\n",
        "\n"
      ]
    },
    {
      "cell_type": "code",
      "metadata": {
        "id": "pB1yKcUtcpg9",
        "colab": {
          "base_uri": "https://localhost:8080/",
          "height": 206
        },
        "outputId": "52bdc1a2-1668-46c7-ba72-d58436063e0d"
      },
      "source": [
        "needed_columns = ['stars', 'text'] #YOUR CODE HERE: fill in the columns\n",
        "yelp = yelp_full[needed_columns]\n",
        "yelp.head()"
      ],
      "execution_count": null,
      "outputs": [
        {
          "output_type": "execute_result",
          "data": {
            "text/plain": [
              "   stars                                               text\n",
              "0      5  My wife took me here on my birthday for breakf...\n",
              "1      5  I have no idea why some people give bad review...\n",
              "2      5  Rosie, Dakota, and I LOVE Chaparral Dog Park!!...\n",
              "3      5  General Manager Scott Petello is a good egg!!!...\n",
              "4      5  Drop what you're doing and drive here. After I..."
            ],
            "text/html": [
              "\n",
              "  <div id=\"df-66964b75-076d-4948-8f78-47964245318a\" class=\"colab-df-container\">\n",
              "    <div>\n",
              "<style scoped>\n",
              "    .dataframe tbody tr th:only-of-type {\n",
              "        vertical-align: middle;\n",
              "    }\n",
              "\n",
              "    .dataframe tbody tr th {\n",
              "        vertical-align: top;\n",
              "    }\n",
              "\n",
              "    .dataframe thead th {\n",
              "        text-align: right;\n",
              "    }\n",
              "</style>\n",
              "<table border=\"1\" class=\"dataframe\">\n",
              "  <thead>\n",
              "    <tr style=\"text-align: right;\">\n",
              "      <th></th>\n",
              "      <th>stars</th>\n",
              "      <th>text</th>\n",
              "    </tr>\n",
              "  </thead>\n",
              "  <tbody>\n",
              "    <tr>\n",
              "      <th>0</th>\n",
              "      <td>5</td>\n",
              "      <td>My wife took me here on my birthday for breakf...</td>\n",
              "    </tr>\n",
              "    <tr>\n",
              "      <th>1</th>\n",
              "      <td>5</td>\n",
              "      <td>I have no idea why some people give bad review...</td>\n",
              "    </tr>\n",
              "    <tr>\n",
              "      <th>2</th>\n",
              "      <td>5</td>\n",
              "      <td>Rosie, Dakota, and I LOVE Chaparral Dog Park!!...</td>\n",
              "    </tr>\n",
              "    <tr>\n",
              "      <th>3</th>\n",
              "      <td>5</td>\n",
              "      <td>General Manager Scott Petello is a good egg!!!...</td>\n",
              "    </tr>\n",
              "    <tr>\n",
              "      <th>4</th>\n",
              "      <td>5</td>\n",
              "      <td>Drop what you're doing and drive here. After I...</td>\n",
              "    </tr>\n",
              "  </tbody>\n",
              "</table>\n",
              "</div>\n",
              "    <div class=\"colab-df-buttons\">\n",
              "\n",
              "  <div class=\"colab-df-container\">\n",
              "    <button class=\"colab-df-convert\" onclick=\"convertToInteractive('df-66964b75-076d-4948-8f78-47964245318a')\"\n",
              "            title=\"Convert this dataframe to an interactive table.\"\n",
              "            style=\"display:none;\">\n",
              "\n",
              "  <svg xmlns=\"http://www.w3.org/2000/svg\" height=\"24px\" viewBox=\"0 -960 960 960\">\n",
              "    <path d=\"M120-120v-720h720v720H120Zm60-500h600v-160H180v160Zm220 220h160v-160H400v160Zm0 220h160v-160H400v160ZM180-400h160v-160H180v160Zm440 0h160v-160H620v160ZM180-180h160v-160H180v160Zm440 0h160v-160H620v160Z\"/>\n",
              "  </svg>\n",
              "    </button>\n",
              "\n",
              "  <style>\n",
              "    .colab-df-container {\n",
              "      display:flex;\n",
              "      gap: 12px;\n",
              "    }\n",
              "\n",
              "    .colab-df-convert {\n",
              "      background-color: #E8F0FE;\n",
              "      border: none;\n",
              "      border-radius: 50%;\n",
              "      cursor: pointer;\n",
              "      display: none;\n",
              "      fill: #1967D2;\n",
              "      height: 32px;\n",
              "      padding: 0 0 0 0;\n",
              "      width: 32px;\n",
              "    }\n",
              "\n",
              "    .colab-df-convert:hover {\n",
              "      background-color: #E2EBFA;\n",
              "      box-shadow: 0px 1px 2px rgba(60, 64, 67, 0.3), 0px 1px 3px 1px rgba(60, 64, 67, 0.15);\n",
              "      fill: #174EA6;\n",
              "    }\n",
              "\n",
              "    .colab-df-buttons div {\n",
              "      margin-bottom: 4px;\n",
              "    }\n",
              "\n",
              "    [theme=dark] .colab-df-convert {\n",
              "      background-color: #3B4455;\n",
              "      fill: #D2E3FC;\n",
              "    }\n",
              "\n",
              "    [theme=dark] .colab-df-convert:hover {\n",
              "      background-color: #434B5C;\n",
              "      box-shadow: 0px 1px 3px 1px rgba(0, 0, 0, 0.15);\n",
              "      filter: drop-shadow(0px 1px 2px rgba(0, 0, 0, 0.3));\n",
              "      fill: #FFFFFF;\n",
              "    }\n",
              "  </style>\n",
              "\n",
              "    <script>\n",
              "      const buttonEl =\n",
              "        document.querySelector('#df-66964b75-076d-4948-8f78-47964245318a button.colab-df-convert');\n",
              "      buttonEl.style.display =\n",
              "        google.colab.kernel.accessAllowed ? 'block' : 'none';\n",
              "\n",
              "      async function convertToInteractive(key) {\n",
              "        const element = document.querySelector('#df-66964b75-076d-4948-8f78-47964245318a');\n",
              "        const dataTable =\n",
              "          await google.colab.kernel.invokeFunction('convertToInteractive',\n",
              "                                                    [key], {});\n",
              "        if (!dataTable) return;\n",
              "\n",
              "        const docLinkHtml = 'Like what you see? Visit the ' +\n",
              "          '<a target=\"_blank\" href=https://colab.research.google.com/notebooks/data_table.ipynb>data table notebook</a>'\n",
              "          + ' to learn more about interactive tables.';\n",
              "        element.innerHTML = '';\n",
              "        dataTable['output_type'] = 'display_data';\n",
              "        await google.colab.output.renderOutput(dataTable, element);\n",
              "        const docLink = document.createElement('div');\n",
              "        docLink.innerHTML = docLinkHtml;\n",
              "        element.appendChild(docLink);\n",
              "      }\n",
              "    </script>\n",
              "  </div>\n",
              "\n",
              "\n",
              "<div id=\"df-f1b7276c-80af-4588-b3d1-770aacf60301\">\n",
              "  <button class=\"colab-df-quickchart\" onclick=\"quickchart('df-f1b7276c-80af-4588-b3d1-770aacf60301')\"\n",
              "            title=\"Suggest charts\"\n",
              "            style=\"display:none;\">\n",
              "\n",
              "<svg xmlns=\"http://www.w3.org/2000/svg\" height=\"24px\"viewBox=\"0 0 24 24\"\n",
              "     width=\"24px\">\n",
              "    <g>\n",
              "        <path d=\"M19 3H5c-1.1 0-2 .9-2 2v14c0 1.1.9 2 2 2h14c1.1 0 2-.9 2-2V5c0-1.1-.9-2-2-2zM9 17H7v-7h2v7zm4 0h-2V7h2v10zm4 0h-2v-4h2v4z\"/>\n",
              "    </g>\n",
              "</svg>\n",
              "  </button>\n",
              "\n",
              "<style>\n",
              "  .colab-df-quickchart {\n",
              "      --bg-color: #E8F0FE;\n",
              "      --fill-color: #1967D2;\n",
              "      --hover-bg-color: #E2EBFA;\n",
              "      --hover-fill-color: #174EA6;\n",
              "      --disabled-fill-color: #AAA;\n",
              "      --disabled-bg-color: #DDD;\n",
              "  }\n",
              "\n",
              "  [theme=dark] .colab-df-quickchart {\n",
              "      --bg-color: #3B4455;\n",
              "      --fill-color: #D2E3FC;\n",
              "      --hover-bg-color: #434B5C;\n",
              "      --hover-fill-color: #FFFFFF;\n",
              "      --disabled-bg-color: #3B4455;\n",
              "      --disabled-fill-color: #666;\n",
              "  }\n",
              "\n",
              "  .colab-df-quickchart {\n",
              "    background-color: var(--bg-color);\n",
              "    border: none;\n",
              "    border-radius: 50%;\n",
              "    cursor: pointer;\n",
              "    display: none;\n",
              "    fill: var(--fill-color);\n",
              "    height: 32px;\n",
              "    padding: 0;\n",
              "    width: 32px;\n",
              "  }\n",
              "\n",
              "  .colab-df-quickchart:hover {\n",
              "    background-color: var(--hover-bg-color);\n",
              "    box-shadow: 0 1px 2px rgba(60, 64, 67, 0.3), 0 1px 3px 1px rgba(60, 64, 67, 0.15);\n",
              "    fill: var(--button-hover-fill-color);\n",
              "  }\n",
              "\n",
              "  .colab-df-quickchart-complete:disabled,\n",
              "  .colab-df-quickchart-complete:disabled:hover {\n",
              "    background-color: var(--disabled-bg-color);\n",
              "    fill: var(--disabled-fill-color);\n",
              "    box-shadow: none;\n",
              "  }\n",
              "\n",
              "  .colab-df-spinner {\n",
              "    border: 2px solid var(--fill-color);\n",
              "    border-color: transparent;\n",
              "    border-bottom-color: var(--fill-color);\n",
              "    animation:\n",
              "      spin 1s steps(1) infinite;\n",
              "  }\n",
              "\n",
              "  @keyframes spin {\n",
              "    0% {\n",
              "      border-color: transparent;\n",
              "      border-bottom-color: var(--fill-color);\n",
              "      border-left-color: var(--fill-color);\n",
              "    }\n",
              "    20% {\n",
              "      border-color: transparent;\n",
              "      border-left-color: var(--fill-color);\n",
              "      border-top-color: var(--fill-color);\n",
              "    }\n",
              "    30% {\n",
              "      border-color: transparent;\n",
              "      border-left-color: var(--fill-color);\n",
              "      border-top-color: var(--fill-color);\n",
              "      border-right-color: var(--fill-color);\n",
              "    }\n",
              "    40% {\n",
              "      border-color: transparent;\n",
              "      border-right-color: var(--fill-color);\n",
              "      border-top-color: var(--fill-color);\n",
              "    }\n",
              "    60% {\n",
              "      border-color: transparent;\n",
              "      border-right-color: var(--fill-color);\n",
              "    }\n",
              "    80% {\n",
              "      border-color: transparent;\n",
              "      border-right-color: var(--fill-color);\n",
              "      border-bottom-color: var(--fill-color);\n",
              "    }\n",
              "    90% {\n",
              "      border-color: transparent;\n",
              "      border-bottom-color: var(--fill-color);\n",
              "    }\n",
              "  }\n",
              "</style>\n",
              "\n",
              "  <script>\n",
              "    async function quickchart(key) {\n",
              "      const quickchartButtonEl =\n",
              "        document.querySelector('#' + key + ' button');\n",
              "      quickchartButtonEl.disabled = true;  // To prevent multiple clicks.\n",
              "      quickchartButtonEl.classList.add('colab-df-spinner');\n",
              "      try {\n",
              "        const charts = await google.colab.kernel.invokeFunction(\n",
              "            'suggestCharts', [key], {});\n",
              "      } catch (error) {\n",
              "        console.error('Error during call to suggestCharts:', error);\n",
              "      }\n",
              "      quickchartButtonEl.classList.remove('colab-df-spinner');\n",
              "      quickchartButtonEl.classList.add('colab-df-quickchart-complete');\n",
              "    }\n",
              "    (() => {\n",
              "      let quickchartButtonEl =\n",
              "        document.querySelector('#df-f1b7276c-80af-4588-b3d1-770aacf60301 button');\n",
              "      quickchartButtonEl.style.display =\n",
              "        google.colab.kernel.accessAllowed ? 'block' : 'none';\n",
              "    })();\n",
              "  </script>\n",
              "</div>\n",
              "    </div>\n",
              "  </div>\n"
            ]
          },
          "metadata": {},
          "execution_count": 3
        }
      ]
    },
    {
      "cell_type": "markdown",
      "metadata": {
        "id": "MExj8roOEvog"
      },
      "source": [
        "The text column is the one we are primarily focused with. Let's take a look at a few of these reviews to better understand our problem."
      ]
    },
    {
      "cell_type": "code",
      "metadata": {
        "id": "la3rUPKgEvoi",
        "colab": {
          "base_uri": "https://localhost:8080/"
        },
        "outputId": "9addbd84-adfe-4b86-d7ec-0ff5120f0499"
      },
      "source": [
        "#@title Check out the text in differently rated reviews\n",
        "num_stars =  1#@param {type:\"integer\"}\n",
        "\n",
        "for t in yelp[yelp['stars'] == num_stars]['text'].head(20).values:\n",
        "    print (t)"
      ],
      "execution_count": null,
      "outputs": [
        {
          "output_type": "stream",
          "name": "stdout",
          "text": [
            "Disgusting!  Had a Groupon so my daughter and I tried it out.  Very outdated and gaudy 80's style interior made me feel like I was in an episode of Sopranos.  The food itself was pretty bad.  We ordered pretty simple dishes but they just had no flavor at all!  After trying it out I'm positive all the good reviews on here are employees or owners creating them.\n",
            "Not busy at all but took nearly 45 min to get our meal.  Ordered the trout and was shocked to see lots and lots of bones. Hmmmmm. Well asked the waitress about it and she said \"they try the best they can\"  hmmmmmm isn't this a \"fish\" restaurant? \n",
            "They comped the trout but still not sure I would go back.\n",
            "Yikes, reading other reviews I realize my bad experience wasn't unique. As a server I make a very laid back customer. I like pretty much everything I eat and don't require a lot of attention from the waiter. \n",
            "\n",
            "La Piccola Cucina would benefit from just one extra person in the front of the house. Our guy, though adorable and friendly, was too busy to refill our drinks and to remember to bring our appetizer (though charged us for it). The ahi tuna (highly recommended over the other fish options he said) was so overcooked it was the color and consistency of chicken. Like other reviewers mentioned, he was frantic and made that clear to every customer. At one point I even saw him in the kitchen cooking - they need another person! \n",
            "\n",
            "I left super stressed out from the experience, which is very, very unusual for me. You can either have bad service or bad food, but not both.\n",
            "This is my first year participating in Arizona to sell clothing, just wandering how busy its goona be in there ??? little worried, can any one reply me ??\n",
            "I was really excited about this event, maybe my expectations were too high, because I was really underwhelmed.  Very little shade, ran out of water, by the time I got there at 1pm (other obligations) 20% of the vendors were out of food, and by the time I ate my way through some, everyone else was already out.   60 bucks for that?  I don't think so.  \n",
            "\n",
            "And when I mentioned it to \"the person in charge\", he was patronizing, invalidating and kept telling me how happy the chefs were.  Well, I'm your consumer, big guy.  \n",
            "\n",
            "Sorry, Devoured, wish it could have been better. \n",
            "\n",
            "What food I did try, was pretty good.\n",
            "The beach paradise of Ixtapa-Zihuatenejo awaited us....unfortunately, so did a connecting flight in ARIZONA of all places...\n",
            "\n",
            "Long story short....1/3 of our luggage did not arrive at our final destination, various articles of our clothing are still missing as well as my cell phone charger...not to mention security forcing us to open sealed containers of my son's baby food and milk for litmus tests...\n",
            "\n",
            "I looked on the bright side....at least we didn't get deported =)\n",
            "See the huge sign outside that says $2.50? Yeah, that's for shirts only. I was caught off guard when I brought in my skirt and got nailed for about $3.79. As I sadly handed over my $5 bill, the lady at the counter said a lot of people had told her they felt betrayed by the sign outside. No kidding. I had originally been heading down the street to Regal on 7th Ave.--who does a fine job in half the pickup time--for the \"advertised\" fake price here. Trying to make the best of it,  I told the lady at least I'd learned they had an onsite alteration service, and maybe that was worth a buck. UH OH. Picked up my skirt a few weeks later with some Jersey Shore-type chick at the counter, and was told I owed another $3.79. I flat-out refused to pay twice. She screamed at me, chased me to my car, wrote down my license plate and said the police would be visiting. Ni-i-i-ice.\n",
            "Take your money elsewhere, unless you've got kids.  I really try to like this place.  A family member signed me up for the discount card, so I've been going more often, but I just don't love it.  It's simply ok, but the prices are outrageous.  And the sounds and animatronics are a huge distraction from the so-so food.  The cocktails are alright, but, again, the price is not right.  The ony thing fun about the place for an adult is the gift shop and the light-up cocktail glasses (which cost extra.)  I've seen a lot of happy families in here though, so I bet it's better if you have little ones to bring along.\n",
            "My friend kept telling me how good their lunches are... I tried it, but it didn't do anything for me.  The sandwich tasted like something you can get at Safeway, but twice the price.  For being called a Purveyor of Fine Foods, I expected the food to taste like not just any ordinary sandwich. \n",
            "\n",
            "What I had:\n",
            "Ham, cheese with portobello mushrooms on a panini with 2 sides of pasta, one was parmesan and the other was macaroni. Maybe it was the panini bread. I think the parmesan pasta was made there, but I know for sure the macaroni was not made there, it tasted like something I had at a picnic which was in a carton. It wasn't anything to brag home about. \n",
            "\n",
            "I found out the head chef made my sandwich... keep him in the kitchen and away from the customers, no personality whatsoever. I asked for his suggestion, and his reaction was \"anythings good.\" \n",
            "\n",
            "Normally, when I go to AJ's, I go for their desserts. Their desserts are fabulous and you can get individual servings at a reasonable price.  I can take an assortment home and have them for later. \n",
            "\n",
            "Our company does use them for their catering and I've had many compliments on their dishes, but pass on the lunches.\n",
            "Absolutely horrendous.  This post office will lose your mail (repeatedly), laugh about it to your face, lie about it, blow it off, make it seem like it's your fault and make you wish you had sent it UPS.\n",
            "Other than the really great happy hour prices, its hit or miss with this place. More often a miss. :(\n",
            "\n",
            "The food is less than average, the drinks NOT strong ( at least they are inexpensive) , but the service is truly hit or miss.\n",
            "\n",
            "I'll pass.\n",
            "Been here for many years but have seen a recent decline in quality service. Felt scolded by the bartender today at lunch. Felt disrespected as a customer. Service sucks stay away. \"bad service = bad review\"\n",
            "This place is not there anymore.\n",
            "Rarely do I give a 1 star rating but after four attempts in four months to get my fax line and internet rolling I can honestly say they have earned this.  After finally showing up for a scheduled appointment the tech told us our internet was fine but we disagree because we are getting the same speed we had with Qwest in Cave Creek (SLOW)  and they are charging us $64 a month for what they call the upgraded 20mbs.  Furthermore, I tried to send out a couple faxes after he left and the line is not responding.  Im going to drive down to the store tomorrow and demand that they remove the fees for service I have not received and just get efax.  As I noted in the first review we were excited to upgrade to faster internet so that makes this experience even worse.\n",
            "Wednesday 7pm.  This place is your average over priced, lack of taste chain food restaurant and this place was no different. \n",
            "\n",
            "I have to say, I was super disappointed as I have always heard rave reviews, now I'm starting to question who I associate with and their taste in food.\n",
            "\n",
            "Service=slow.\n",
            "Food=just tastes like salt\n",
            "Noise=loud and they do a dance...like a lot.\n",
            "\n",
            "Go somewhere else and skip Joe's Crabs.\n",
            "Where are the managers????   It took 1 1/2 hours for our meal to come out at 8:15 in the evening.  Items came out at different times so we couldn't all eat at the same time.  The asparagus tempura was inedible because they didn't cut the ends.  Waitress just took it away and did not comp us.  Waitress knew next to nothing about the sushi menu.  She sat and talked with the hostess the entire time instead of waiting on her tables.  Food was WAY over priced, and I couldn't speak to my dinner companions because the music was way to loud.  One of the worst dining experiences in a long time.  Paid $70 for a dinner for 4 and went home hungry.  HORRIBLE!\n",
            "Still quite poor both in service and food. maybe I made a mistake and ordered Sichuan Gong Bao ji ding for what seemed like people from canton district. Unfortunately to get the good service U have to speak Mandarin/Cantonese. I do speak a smattering but try not to use it as I never feel confident about the intonation. \n",
            "\n",
            "The dish came out with zichini and bell peppers (what!??)  Where is the peanuts the dried fried red peppers and the large pieces of scallion. On pointing this out all I got was \" Oh you like peanuts.. ok I will put some on\" and she then proceeded to get some peanuts and sprinkle it on the chicken.\n",
            "\n",
            "Well at that point I was happy that atleast the chicken pieces were present else she would probably end up sprinkling raw chicken pieces on it like the raw peanuts she dumped on top of the food. \n",
            "\n",
            "Well then  I spoke a few chinese words and the scowl turned into a smile and she then became a bit more friendlier. \n",
            "\n",
            "Unfortunately I do not condone this type of behavior. It is all in poor taste...\n",
            "First, I hope La Fonda management reads these reviews and takes steps to improve their restaurant.  Second, we miss the bloody mary bar too.  Hubby & I visited LF a few weeks ago on a Saturday night for dinner. We asked the waitress a general question about a beer and she made something up that was ridiculously wrong.  Okay, she doesn't know beer.  We liked the chips & salsa, it was a good start, then I took a sip of my water.  What the?  I know what Tempe tap water tastes like, but this was weird.  The aftertaste made me cringe, I couldn't drink it, even with a slice of lemon in it, maybe it was the ice.  Hubby ordered chicken enchiladas, which he orders practically everywhere, and it was so bad he didn't finish it.  My meal was not memorable either.  I wanted to love this place, or at least like it.  We walked out of there terribly disappointed, I doubt we'll go back.\n",
            "Not that any SBUX is worth going out of your way for, but this one is worth skipping. The service I've experienced each time I've been is pretty dang poor and the drinks always seem quite cold.\n",
            "How does this restaurant generate so many 4 and 5 star ratings? \n",
            "\n",
            "I know it was on the food channel, but honestly the food was sub-par. Maybe it was just an off day, but I have a feeling it wasn't. The prices were not outrageous, but it wasn't cheap either. The atmosphere was nice, if very cafeteria like.\n",
            "\n",
            "But the food was way way too \"greasy.\" And bland. And my stomach now aches after eating there....\n"
          ]
        }
      ]
    },
    {
      "cell_type": "markdown",
      "metadata": {
        "id": "0GZ6NN4yEvos"
      },
      "source": [
        "**Discuss:**\n",
        "\n",
        "\n",
        "*   What words are often used in highly rated reviews?\n",
        "*   What words are often used in low-rated reviews?\n",
        "*   Do you notice any interesting exceptions? (For example, \"The seating and ambience were impressive, but the food served to us was not\")\n"
      ]
    },
    {
      "cell_type": "markdown",
      "metadata": {
        "id": "TQHod14KEvoz"
      },
      "source": [
        "## Word Clouds\n",
        "\n",
        "Another way to take a look at the most prominent words in any given star rating is through the use of word clouds.\n",
        "\n",
        "Edit the value in the cell below to see the word cloud for each star rating."
      ]
    },
    {
      "cell_type": "code",
      "metadata": {
        "id": "FtMnf1zLEvo_",
        "colab": {
          "base_uri": "https://localhost:8080/",
          "height": 620
        },
        "outputId": "cc317a4b-0ba5-482b-ba3b-d5d151b7f121"
      },
      "source": [
        "#@title Word cloud for differently rated reviews\n",
        "num_stars =  5#@param {type:\"integer\"}\n",
        "this_star_text = ''\n",
        "for t in yelp[yelp['stars'] == num_stars]['text'].values: # form field cell\n",
        "    this_star_text += t + ' '\n",
        "\n",
        "wordcloud = WordCloud()\n",
        "wordcloud.generate_from_text(this_star_text)\n",
        "plt.figure(figsize=(14,7))\n",
        "plt.imshow(wordcloud, interpolation='bilinear')"
      ],
      "execution_count": null,
      "outputs": [
        {
          "output_type": "execute_result",
          "data": {
            "text/plain": [
              "<matplotlib.image.AxesImage at 0x7e8ce99486a0>"
            ]
          },
          "metadata": {},
          "execution_count": 6
        },
        {
          "output_type": "display_data",
          "data": {
            "text/plain": [
              "<Figure size 1400x700 with 1 Axes>"
            ],
            "image/png": "[encoded data removed]"
          },
          "metadata": {}
        }
      ]
    },
    {
      "cell_type": "markdown",
      "metadata": {
        "id": "Nn4v3upxEvpL"
      },
      "source": [
        "**What are the differences between the reviews that have 1, 2, 3, 4, and 5 stars?**\n",
        "\n",
        "Any surprising similarities?\n"
      ]
    },
    {
      "cell_type": "markdown",
      "metadata": {
        "id": "ZpU7nrWTEvov"
      },
      "source": [
        "### Exercise: Rules for Sentiment Analysis\n",
        "\n",
        "Can you think of any combinations of words, or rules, that would indicate if a particular review is **positive** or **negative**? Note them down below:\n",
        "\n",
        "\n"
      ]
    },
    {
      "cell_type": "code",
      "metadata": {
        "id": "dxuZyKOKy6Cc"
      },
      "source": [
        "#@title Rules\n",
        "rule_1 = \"\" #@param {type:\"string\"}\n",
        "rule_2 = \"\" #@param {type:\"string\"}\n",
        "rule_3 = \"\" #@param {type:\"string\"}"
      ],
      "execution_count": null,
      "outputs": []
    },
    {
      "cell_type": "markdown",
      "metadata": {
        "id": "J4PQg8FhEvow"
      },
      "source": [
        "**Discuss**: Will rules like this work well?\n",
        "\n"
      ]
    },
    {
      "cell_type": "markdown",
      "metadata": {
        "id": "dArbYofKN206"
      },
      "source": [
        "# Preparing Our Data for Machine Learning\n",
        "\n",
        "Of course, it's much more efficient to use machine learning to analyze our text than try to create rules by hand!\n",
        "\n",
        "We'll need to prepare our data to use logistic regression. First, let's prepare our output column:"
      ]
    },
    {
      "cell_type": "markdown",
      "metadata": {
        "id": "0bwasn11BfD4"
      },
      "source": [
        "## Exercise: Preparing to Classify\n",
        "We're going to try to predict the sentiment - **positive** or **negative** - based on a review's text.\n",
        "\n",
        "In order to reduce our problem to a **binary classification** (two classes) problem, we will:\n",
        "\n",
        " - label 4 and 5 star reviews as 'good'\n",
        " - label 1, 2, 3 star reviews as 'bad'\n",
        "\n",
        "Please complete the function below and run it to create a new `is_good_review` column!"
      ]
    },
    {
      "cell_type": "code",
      "metadata": {
        "id": "ck4iX6PITzHS",
        "colab": {
          "base_uri": "https://localhost:8080/",
          "height": 206
        },
        "outputId": "fa467cab-8b32-44bc-e361-04f44974fa82"
      },
      "source": [
        "def is_good_review(num_stars):\n",
        "    if num_stars >= 4: ### YOUR CODE HERE\n",
        "        return True\n",
        "    else:\n",
        "        return False\n",
        "\n",
        "# Change the stars column to either be 'good' or 'bad'.\n",
        "yelp['is_good_review'] = yelp['stars'].apply(is_good_review)\n",
        "yelp.head()"
      ],
      "execution_count": null,
      "outputs": [
        {
          "output_type": "execute_result",
          "data": {
            "text/plain": [
              "   stars                                               text  is_good_review\n",
              "0      5  My wife took me here on my birthday for breakf...            True\n",
              "1      5  I have no idea why some people give bad review...            True\n",
              "2      5  Rosie, Dakota, and I LOVE Chaparral Dog Park!!...            True\n",
              "3      5  General Manager Scott Petello is a good egg!!!...            True\n",
              "4      5  Drop what you're doing and drive here. After I...            True"
            ],
            "text/html": [
              "\n",
              "  <div id=\"df-d7e4727a-e4fb-4466-8a23-34a5e291f824\" class=\"colab-df-container\">\n",
              "    <div>\n",
              "<style scoped>\n",
              "    .dataframe tbody tr th:only-of-type {\n",
              "        vertical-align: middle;\n",
              "    }\n",
              "\n",
              "    .dataframe tbody tr th {\n",
              "        vertical-align: top;\n",
              "    }\n",
              "\n",
              "    .dataframe thead th {\n",
              "        text-align: right;\n",
              "    }\n",
              "</style>\n",
              "<table border=\"1\" class=\"dataframe\">\n",
              "  <thead>\n",
              "    <tr style=\"text-align: right;\">\n",
              "      <th></th>\n",
              "      <th>stars</th>\n",
              "      <th>text</th>\n",
              "      <th>is_good_review</th>\n",
              "    </tr>\n",
              "  </thead>\n",
              "  <tbody>\n",
              "    <tr>\n",
              "      <th>0</th>\n",
              "      <td>5</td>\n",
              "      <td>My wife took me here on my birthday for breakf...</td>\n",
              "      <td>True</td>\n",
              "    </tr>\n",
              "    <tr>\n",
              "      <th>1</th>\n",
              "      <td>5</td>\n",
              "      <td>I have no idea why some people give bad review...</td>\n",
              "      <td>True</td>\n",
              "    </tr>\n",
              "    <tr>\n",
              "      <th>2</th>\n",
              "      <td>5</td>\n",
              "      <td>Rosie, Dakota, and I LOVE Chaparral Dog Park!!...</td>\n",
              "      <td>True</td>\n",
              "    </tr>\n",
              "    <tr>\n",
              "      <th>3</th>\n",
              "      <td>5</td>\n",
              "      <td>General Manager Scott Petello is a good egg!!!...</td>\n",
              "      <td>True</td>\n",
              "    </tr>\n",
              "    <tr>\n",
              "      <th>4</th>\n",
              "      <td>5</td>\n",
              "      <td>Drop what you're doing and drive here. After I...</td>\n",
              "      <td>True</td>\n",
              "    </tr>\n",
              "  </tbody>\n",
              "</table>\n",
              "</div>\n",
              "    <div class=\"colab-df-buttons\">\n",
              "\n",
              "  <div class=\"colab-df-container\">\n",
              "    <button class=\"colab-df-convert\" onclick=\"convertToInteractive('df-d7e4727a-e4fb-4466-8a23-34a5e291f824')\"\n",
              "            title=\"Convert this dataframe to an interactive table.\"\n",
              "            style=\"display:none;\">\n",
              "\n",
              "  <svg xmlns=\"http://www.w3.org/2000/svg\" height=\"24px\" viewBox=\"0 -960 960 960\">\n",
              "    <path d=\"M120-120v-720h720v720H120Zm60-500h600v-160H180v160Zm220 220h160v-160H400v160Zm0 220h160v-160H400v160ZM180-400h160v-160H180v160Zm440 0h160v-160H620v160ZM180-180h160v-160H180v160Zm440 0h160v-160H620v160Z\"/>\n",
              "  </svg>\n",
              "    </button>\n",
              "\n",
              "  <style>\n",
              "    .colab-df-container {\n",
              "      display:flex;\n",
              "      gap: 12px;\n",
              "    }\n",
              "\n",
              "    .colab-df-convert {\n",
              "      background-color: #E8F0FE;\n",
              "      border: none;\n",
              "      border-radius: 50%;\n",
              "      cursor: pointer;\n",
              "      display: none;\n",
              "      fill: #1967D2;\n",
              "      height: 32px;\n",
              "      padding: 0 0 0 0;\n",
              "      width: 32px;\n",
              "    }\n",
              "\n",
              "    .colab-df-convert:hover {\n",
              "      background-color: #E2EBFA;\n",
              "      box-shadow: 0px 1px 2px rgba(60, 64, 67, 0.3), 0px 1px 3px 1px rgba(60, 64, 67, 0.15);\n",
              "      fill: #174EA6;\n",
              "    }\n",
              "\n",
              "    .colab-df-buttons div {\n",
              "      margin-bottom: 4px;\n",
              "    }\n",
              "\n",
              "    [theme=dark] .colab-df-convert {\n",
              "      background-color: #3B4455;\n",
              "      fill: #D2E3FC;\n",
              "    }\n",
              "\n",
              "    [theme=dark] .colab-df-convert:hover {\n",
              "      background-color: #434B5C;\n",
              "      box-shadow: 0px 1px 3px 1px rgba(0, 0, 0, 0.15);\n",
              "      filter: drop-shadow(0px 1px 2px rgba(0, 0, 0, 0.3));\n",
              "      fill: #FFFFFF;\n",
              "    }\n",
              "  </style>\n",
              "\n",
              "    <script>\n",
              "      const buttonEl =\n",
              "        document.querySelector('#df-d7e4727a-e4fb-4466-8a23-34a5e291f824 button.colab-df-convert');\n",
              "      buttonEl.style.display =\n",
              "        google.colab.kernel.accessAllowed ? 'block' : 'none';\n",
              "\n",
              "      async function convertToInteractive(key) {\n",
              "        const element = document.querySelector('#df-d7e4727a-e4fb-4466-8a23-34a5e291f824');\n",
              "        const dataTable =\n",
              "          await google.colab.kernel.invokeFunction('convertToInteractive',\n",
              "                                                    [key], {});\n",
              "        if (!dataTable) return;\n",
              "\n",
              "        const docLinkHtml = 'Like what you see? Visit the ' +\n",
              "          '<a target=\"_blank\" href=https://colab.research.google.com/notebooks/data_table.ipynb>data table notebook</a>'\n",
              "          + ' to learn more about interactive tables.';\n",
              "        element.innerHTML = '';\n",
              "        dataTable['output_type'] = 'display_data';\n",
              "        await google.colab.output.renderOutput(dataTable, element);\n",
              "        const docLink = document.createElement('div');\n",
              "        docLink.innerHTML = docLinkHtml;\n",
              "        element.appendChild(docLink);\n",
              "      }\n",
              "    </script>\n",
              "  </div>\n",
              "\n",
              "\n",
              "<div id=\"df-15eaa4e1-86be-4d92-b695-182e1c2d071a\">\n",
              "  <button class=\"colab-df-quickchart\" onclick=\"quickchart('df-15eaa4e1-86be-4d92-b695-182e1c2d071a')\"\n",
              "            title=\"Suggest charts\"\n",
              "            style=\"display:none;\">\n",
              "\n",
              "<svg xmlns=\"http://www.w3.org/2000/svg\" height=\"24px\"viewBox=\"0 0 24 24\"\n",
              "     width=\"24px\">\n",
              "    <g>\n",
              "        <path d=\"M19 3H5c-1.1 0-2 .9-2 2v14c0 1.1.9 2 2 2h14c1.1 0 2-.9 2-2V5c0-1.1-.9-2-2-2zM9 17H7v-7h2v7zm4 0h-2V7h2v10zm4 0h-2v-4h2v4z\"/>\n",
              "    </g>\n",
              "</svg>\n",
              "  </button>\n",
              "\n",
              "<style>\n",
              "  .colab-df-quickchart {\n",
              "      --bg-color: #E8F0FE;\n",
              "      --fill-color: #1967D2;\n",
              "      --hover-bg-color: #E2EBFA;\n",
              "      --hover-fill-color: #174EA6;\n",
              "      --disabled-fill-color: #AAA;\n",
              "      --disabled-bg-color: #DDD;\n",
              "  }\n",
              "\n",
              "  [theme=dark] .colab-df-quickchart {\n",
              "      --bg-color: #3B4455;\n",
              "      --fill-color: #D2E3FC;\n",
              "      --hover-bg-color: #434B5C;\n",
              "      --hover-fill-color: #FFFFFF;\n",
              "      --disabled-bg-color: #3B4455;\n",
              "      --disabled-fill-color: #666;\n",
              "  }\n",
              "\n",
              "  .colab-df-quickchart {\n",
              "    background-color: var(--bg-color);\n",
              "    border: none;\n",
              "    border-radius: 50%;\n",
              "    cursor: pointer;\n",
              "    display: none;\n",
              "    fill: var(--fill-color);\n",
              "    height: 32px;\n",
              "    padding: 0;\n",
              "    width: 32px;\n",
              "  }\n",
              "\n",
              "  .colab-df-quickchart:hover {\n",
              "    background-color: var(--hover-bg-color);\n",
              "    box-shadow: 0 1px 2px rgba(60, 64, 67, 0.3), 0 1px 3px 1px rgba(60, 64, 67, 0.15);\n",
              "    fill: var(--button-hover-fill-color);\n",
              "  }\n",
              "\n",
              "  .colab-df-quickchart-complete:disabled,\n",
              "  .colab-df-quickchart-complete:disabled:hover {\n",
              "    background-color: var(--disabled-bg-color);\n",
              "    fill: var(--disabled-fill-color);\n",
              "    box-shadow: none;\n",
              "  }\n",
              "\n",
              "  .colab-df-spinner {\n",
              "    border: 2px solid var(--fill-color);\n",
              "    border-color: transparent;\n",
              "    border-bottom-color: var(--fill-color);\n",
              "    animation:\n",
              "      spin 1s steps(1) infinite;\n",
              "  }\n",
              "\n",
              "  @keyframes spin {\n",
              "    0% {\n",
              "      border-color: transparent;\n",
              "      border-bottom-color: var(--fill-color);\n",
              "      border-left-color: var(--fill-color);\n",
              "    }\n",
              "    20% {\n",
              "      border-color: transparent;\n",
              "      border-left-color: var(--fill-color);\n",
              "      border-top-color: var(--fill-color);\n",
              "    }\n",
              "    30% {\n",
              "      border-color: transparent;\n",
              "      border-left-color: var(--fill-color);\n",
              "      border-top-color: var(--fill-color);\n",
              "      border-right-color: var(--fill-color);\n",
              "    }\n",
              "    40% {\n",
              "      border-color: transparent;\n",
              "      border-right-color: var(--fill-color);\n",
              "      border-top-color: var(--fill-color);\n",
              "    }\n",
              "    60% {\n",
              "      border-color: transparent;\n",
              "      border-right-color: var(--fill-color);\n",
              "    }\n",
              "    80% {\n",
              "      border-color: transparent;\n",
              "      border-right-color: var(--fill-color);\n",
              "      border-bottom-color: var(--fill-color);\n",
              "    }\n",
              "    90% {\n",
              "      border-color: transparent;\n",
              "      border-bottom-color: var(--fill-color);\n",
              "    }\n",
              "  }\n",
              "</style>\n",
              "\n",
              "  <script>\n",
              "    async function quickchart(key) {\n",
              "      const quickchartButtonEl =\n",
              "        document.querySelector('#' + key + ' button');\n",
              "      quickchartButtonEl.disabled = true;  // To prevent multiple clicks.\n",
              "      quickchartButtonEl.classList.add('colab-df-spinner');\n",
              "      try {\n",
              "        const charts = await google.colab.kernel.invokeFunction(\n",
              "            'suggestCharts', [key], {});\n",
              "      } catch (error) {\n",
              "        console.error('Error during call to suggestCharts:', error);\n",
              "      }\n",
              "      quickchartButtonEl.classList.remove('colab-df-spinner');\n",
              "      quickchartButtonEl.classList.add('colab-df-quickchart-complete');\n",
              "    }\n",
              "    (() => {\n",
              "      let quickchartButtonEl =\n",
              "        document.querySelector('#df-15eaa4e1-86be-4d92-b695-182e1c2d071a button');\n",
              "      quickchartButtonEl.style.display =\n",
              "        google.colab.kernel.accessAllowed ? 'block' : 'none';\n",
              "    })();\n",
              "  </script>\n",
              "</div>\n",
              "    </div>\n",
              "  </div>\n"
            ]
          },
          "metadata": {},
          "execution_count": 16
        }
      ]
    },
    {
      "cell_type": "markdown",
      "metadata": {
        "id": "W8raBKzTEvpM"
      },
      "source": [
        "## Text Preprocessing: A Preview\n",
        "\n",
        "Now, the trickier part: preparing our text input.\n",
        "\n",
        "We'll need a few steps to preprocess our text and represent it numerically. **Why do we need to represent our text as numbers?**\n",
        "\n",
        "We'll talk through all the steps here, then use a single function to implement them."
      ]
    },
    {
      "cell_type": "markdown",
      "metadata": {
        "id": "pby7LlwhEvpN"
      },
      "source": [
        "## Tokenization\n",
        "\n",
        "First of all, we would like to **tokenize** each review: convert it from a single string into a list of words. Enter some example text into the cell below to see the tokenized version."
      ]
    },
    {
      "cell_type": "code",
      "metadata": {
        "id": "7XOaa1uEEvpY",
        "colab": {
          "base_uri": "https://localhost:8080/"
        },
        "outputId": "bc8e4777-be19-4fb0-c0e5-7ebea6262e2f"
      },
      "source": [
        "#@title Basic tokenization example\n",
        "example_text = \"\" #@param {type:\"string\"}\n",
        "tokens = word_tokenize(example_text)\n",
        "tokens"
      ],
      "execution_count": null,
      "outputs": [
        {
          "output_type": "execute_result",
          "data": {
            "text/plain": [
              "[]"
            ]
          },
          "metadata": {},
          "execution_count": 18
        }
      ]
    },
    {
      "cell_type": "markdown",
      "metadata": {
        "id": "QKCP5Q_LEvpg"
      },
      "source": [
        "## Stopwords\n",
        "\n",
        "Next, let's remove **stopwords**: words which are there to provide grammatical structure, but don't give us much information about a review's sentiment.\n",
        "\n",
        "Edit the cell below to see if we're considering a given word as a stopword! Do you agree with the results?"
      ]
    },
    {
      "cell_type": "code",
      "metadata": {
        "id": "Nqq4w-ZrEvpj",
        "colab": {
          "base_uri": "https://localhost:8080/"
        },
        "outputId": "1cc99b66-49e3-47d4-bc04-08710d011f55"
      },
      "source": [
        "  #@title Check if a word is a stop word\n",
        "example_word = \"not\" #@param {type:'string'}\n",
        "if example_word.lower() in STOP_WORDS:\n",
        "    print('\"' + example_word + '\" is a stop word.')\n",
        "else:\n",
        "    print('\"' + example_word + '\" is NOT a stop word.')"
      ],
      "execution_count": null,
      "outputs": [
        {
          "output_type": "stream",
          "name": "stdout",
          "text": [
            "\"not\" is a stop word.\n"
          ]
        }
      ]
    },
    {
      "cell_type": "markdown",
      "metadata": {
        "id": "5vubl4ejEvpv"
      },
      "source": [
        "We're going to remove these stopwords from the user reviews.\n",
        "\n",
        "Tokenization and removal of stop words are universal to nearly every NLP application. In some cases, additional cleaning may be required (for example, removal of proper nouns, removal of digits) but we can build a text preprocessing function with these \"base\" cleaning steps.\n",
        "\n",
        "Putting all these together, we can come up with a text cleaning function that we can apply to all of our reviews."
      ]
    },
    {
      "cell_type": "markdown",
      "metadata": {
        "id": "XfIUrRtEWr3H"
      },
      "source": [
        "## Vectors\n",
        "\n",
        "Finally, we'll need to convert our text to **vectors**, or lists of numbers. We'll start off doing this with Bag of Words, but we'll talk about another approach later!\n"
      ]
    },
    {
      "cell_type": "markdown",
      "metadata": {
        "id": "43hbR0vha7E3"
      },
      "source": [
        "### Bag of Words\n",
        "\n",
        "In a **bag of words** approach, we count how many times each word was used in each review.\n",
        "\n",
        "Suppose we want to represent two **reviews**:\n",
        "- \"The food was great. The ambience was also great.\"\n",
        "- \"Great ambience, but not great food!\"\n",
        "\n",
        "First we define our vocabulary. This is *each unique word* in the review. So our **vocabulary** is:\n",
        "- [also, ambience, but, food, great, not, the, was].\n",
        "\n",
        "Next, we count up how many times each word was used! (You can also think of this as adding up one-hot encodings.)\n",
        "\n",
        "Our reviews are encoded as:\n",
        "- **First review:** [1, 1, 0, 1, 2, 0, 2, 2]. Can you explain why?\n",
        "- **Second review:** [_, _, _, _, _, _, _, _] Fill it in here!\n",
        "\n"
      ]
    },
    {
      "cell_type": "markdown",
      "metadata": {
        "id": "NbFU78B5bXka"
      },
      "source": [
        "## Preprocessing Our Text in Action\n",
        "\n",
        "Let's use bag-of-words to prepare our data!\n",
        "\n",
        "First, let's select our input *X* and output *y*:"
      ]
    },
    {
      "cell_type": "code",
      "metadata": {
        "id": "6t6HQm1vEvrQ"
      },
      "source": [
        "X_text = yelp['text']\n",
        "y = yelp['is_good_review']"
      ],
      "execution_count": null,
      "outputs": []
    },
    {
      "cell_type": "markdown",
      "metadata": {
        "id": "xhRyg_YEeA5t"
      },
      "source": [
        "Now, let's prepare our data! First, we'll use CountVectorizer, a useful tool from Scikit-learn, to:\n",
        "*   Tokenize our reviews\n",
        "*   Remove stopwords\n",
        "*   Prepare our vocabulary\n"
      ]
    },
    {
      "cell_type": "code",
      "metadata": {
        "id": "yrSQAeKjAiXJ"
      },
      "source": [
        "#@title Initialize the text cleaning function { display-mode: \"form\" }\n",
        "def tokenize(text):\n",
        "    clean_tokens = []\n",
        "    for token in text_to_nlp(text):\n",
        "        if (not token.is_stop) & (token.lemma_ != '-PRON-') & (not token.is_punct): # -PRON- is a special all inclusive \"lemma\" spaCy uses for any pronoun, we want to exclude these\n",
        "            clean_tokens.append(token.lemma_)\n",
        "    return clean_tokens\n"
      ],
      "execution_count": null,
      "outputs": []
    },
    {
      "cell_type": "markdown",
      "metadata": {
        "id": "NfDtH-XTSrCK"
      },
      "source": [
        "The cell below will take a moment! **Can you guess what `max_features` is for?**\n"
      ]
    },
    {
      "cell_type": "code",
      "metadata": {
        "id": "blZ7RJ2zEvrU"
      },
      "source": [
        "bow_transformer = CountVectorizer(analyzer=tokenize, max_features=800).fit(X_text)"
      ],
      "execution_count": null,
      "outputs": []
    },
    {
      "cell_type": "markdown",
      "metadata": {
        "id": "RaheGj_RmKW7"
      },
      "source": [
        "Now, we can see our entire vocabulary! Can you guess what the numbers represent?"
      ]
    },
    {
      "cell_type": "code",
      "metadata": {
        "id": "6TjdgYVxmKgd",
        "colab": {
          "base_uri": "https://localhost:8080/"
        },
        "outputId": "b3169dae-99db-4dee-e234-2e1ef3f4434d"
      },
      "source": [
        "bow_transformer.vocabulary_"
      ],
      "execution_count": null,
      "outputs": [
        {
          "output_type": "execute_result",
          "data": {
            "text/plain": [
              "{'wife': 779,\n",
              " 'take': 704,\n",
              " 'birthday': 104,\n",
              " 'breakfast': 119,\n",
              " 'excellent': 269,\n",
              " ' ': 2,\n",
              " 'perfect': 523,\n",
              " 'sit': 643,\n",
              " 'outside': 504,\n",
              " 'waitress': 761,\n",
              " 'food': 304,\n",
              " 'arrive': 70,\n",
              " 'quickly': 571,\n",
              " 'busy': 131,\n",
              " 'Saturday': 41,\n",
              " 'morning': 464,\n",
              " 'look': 423,\n",
              " 'like': 411,\n",
              " 'place': 536,\n",
              " 'fill': 293,\n",
              " 'pretty': 557,\n",
              " 'early': 251,\n",
              " 'well': 775,\n",
              " '\\n\\n': 1,\n",
              " 'simply': 642,\n",
              " 'good': 330,\n",
              " 'sure': 697,\n",
              " 'use': 746,\n",
              " 'ingredient': 381,\n",
              " 'fresh': 310,\n",
              " 'order': 501,\n",
              " 'amazing': 62,\n",
              " 'menu': 451,\n",
              " 'white': 777,\n",
              " 'egg': 255,\n",
              " 'vegetable': 752,\n",
              " 'tasty': 707,\n",
              " 'delicious': 221,\n",
              " 'come': 175,\n",
              " '2': 12,\n",
              " 'piece': 534,\n",
              " 'bread': 118,\n",
              " 'absolutely': 53,\n",
              " 'meal': 444,\n",
              " 'toast': 720,\n",
              " 'wait': 759,\n",
              " 'idea': 373,\n",
              " 'people': 521,\n",
              " 'bad': 86,\n",
              " 'review': 596,\n",
              " 'go': 329,\n",
              " 'probably': 561,\n",
              " 'case': 139,\n",
              " 'friend': 313,\n",
              " 'pm': 544,\n",
              " 'past': 516,\n",
              " 'Sunday': 46,\n",
              " 'crowded': 202,\n",
              " 'think': 715,\n",
              " 'evening': 266,\n",
              " 'seat': 618,\n",
              " 'say': 616,\n",
              " 'girl': 325,\n",
              " 'waiter': 760,\n",
              " 'get': 323,\n",
              " 'drink': 246,\n",
              " 'pleasant': 540,\n",
              " 'server': 628,\n",
              " 'price': 559,\n",
              " 'decide': 218,\n",
              " 'want': 764,\n",
              " 'share': 631,\n",
              " 'small': 649,\n",
              " 'pizza': 535,\n",
              " 'try': 736,\n",
              " 'huge': 369,\n",
              " 'personal': 526,\n",
              " 'awesome': 83,\n",
              " 'sauce': 614,\n",
              " 'box': 117,\n",
              " 'home': 362,\n",
              " 'door': 242,\n",
              " 'great': 334,\n",
              " 'reviewer': 597,\n",
              " 'thing': 714,\n",
              " 'issue': 386,\n",
              " 'love': 426,\n",
              " 'lot': 424,\n",
              " 'desert': 225,\n",
              " 'duck': 250,\n",
              " 'Scottsdale': 42,\n",
              " 'wonderful': 786,\n",
              " 'job': 389,\n",
              " 'keep': 391,\n",
              " 'park': 512,\n",
              " 'clean': 165,\n",
              " 'find': 295,\n",
              " 'pick': 530,\n",
              " 'locate': 420,\n",
              " 'area': 69,\n",
              " 'let': 406,\n",
              " 'dog': 240,\n",
              " 'run': 606,\n",
              " 'play': 539,\n",
              " 'speak': 662,\n",
              " 'treat': 733,\n",
              " 'guy': 341,\n",
              " 'state': 676,\n",
              " 'surprised': 699,\n",
              " 'walk': 762,\n",
              " 'totally': 727,\n",
              " 'mistake': 459,\n",
              " 'important': 375,\n",
              " 'thank': 713,\n",
              " 'staff': 671,\n",
              " 'customer': 207,\n",
              " 'life': 409,\n",
              " 'drop': 248,\n",
              " 'drive': 247,\n",
              " 'eat': 254,\n",
              " 'day': 214,\n",
              " 'cute': 209,\n",
              " 'little': 416,\n",
              " 'green': 335,\n",
              " 'avoid': 81,\n",
              " 'turn': 738,\n",
              " 'sign': 639,\n",
              " 'catch': 142,\n",
              " 'eye': 277,\n",
              " 'yelp': 796,\n",
              " 'new': 474,\n",
              " 'open': 498,\n",
              " 'easy': 253,\n",
              " 'decor': 219,\n",
              " 'smell': 650,\n",
              " 'inside': 382,\n",
              " 'dinner': 233,\n",
              " 'see': 622,\n",
              " 'variety': 751,\n",
              " 'pepper': 522,\n",
              " 'mushroom': 468,\n",
              " 'wrap': 792,\n",
              " 'banana': 89,\n",
              " 'leave': 405,\n",
              " 'difficult': 230,\n",
              " 'choose': 161,\n",
              " 'far': 287,\n",
              " 'shrimp': 637,\n",
              " 'flavor': 300,\n",
              " 'bite': 107,\n",
              " 'salsa': 609,\n",
              " 'bar': 90,\n",
              " 'stock': 682,\n",
              " 'excited': 270,\n",
              " 'strawberry': 686,\n",
              " 'hot': 365,\n",
              " 'fact': 279,\n",
              " 'big': 102,\n",
              " 'throw': 716,\n",
              " 'fruit': 315,\n",
              " 'yummy': 799,\n",
              " 'bonus': 112,\n",
              " 'art': 71,\n",
              " 'restaurant': 594,\n",
              " 'mexican': 452,\n",
              " 'folk': 302,\n",
              " 'hang': 346,\n",
              " 'show': 636,\n",
              " 'unique': 745,\n",
              " 'start': 675,\n",
              " 'pork': 550,\n",
              " 'bun': 126,\n",
              " 'long': 422,\n",
              " 'man': 436,\n",
              " 'store': 684,\n",
              " 'sweet': 701,\n",
              " 'cookie': 186,\n",
              " 'ice': 372,\n",
              " 'cream': 198,\n",
              " 'sandwich': 613,\n",
              " 'super': 695,\n",
              " 'cheap': 150,\n",
              " 'basically': 93,\n",
              " 'butter': 132,\n",
              " 'choice': 160,\n",
              " 'selection': 623,\n",
              " 'roll': 603,\n",
              " 'bring': 120,\n",
              " 'cash': 140,\n",
              " 'card': 137,\n",
              " 'limited': 412,\n",
              " 'time': 717,\n",
              " 'right': 601,\n",
              " 'BBQ': 26,\n",
              " 'chicken': 154,\n",
              " 'Chicken': 29,\n",
              " 'tomato': 722,\n",
              " 'basil': 94,\n",
              " 'soup': 659,\n",
              " ' \\n\\n': 4,\n",
              " '5': 18,\n",
              " 'star': 674,\n",
              " 'rate': 573,\n",
              " '4': 17,\n",
              " 'okay': 493,\n",
              " 'grow': 338,\n",
              " 'shop': 632,\n",
              " 'world': 789,\n",
              " 'stuff': 690,\n",
              " 'cheese': 152,\n",
              " 'wine': 782,\n",
              " 'tell': 710,\n",
              " 'happy': 348,\n",
              " 'Arizona': 25,\n",
              " 'kind': 394,\n",
              " 'garlic': 320,\n",
              " 'favorite': 289,\n",
              " 'course': 194,\n",
              " '\\n': 0,\n",
              " 'burger': 127,\n",
              " 'wing': 783,\n",
              " 'atmosphere': 75,\n",
              " 'fun': 317,\n",
              " 'cool': 188,\n",
              " 'healthy': 353,\n",
              " 'recommend': 583,\n",
              " 'highly': 358,\n",
              " 'onion': 497,\n",
              " 'noodle': 478,\n",
              " 'street': 687,\n",
              " 'taco': 703,\n",
              " 'entree': 262,\n",
              " 'dish': 239,\n",
              " 'disappoint': 236,\n",
              " 'salad': 607,\n",
              " 'chop': 162,\n",
              " 'table': 702,\n",
              " 'patio': 518,\n",
              " 'date': 212,\n",
              " 'live': 417,\n",
              " 'Food': 31,\n",
              " 'color': 173,\n",
              " 'have': 351,\n",
              " 'lunch': 430,\n",
              " 'minute': 457,\n",
              " 'close': 167,\n",
              " 'serve': 627,\n",
              " 'perfectly': 524,\n",
              " 'sausage': 615,\n",
              " 'flavorful': 301,\n",
              " 'red': 585,\n",
              " 'finish': 297,\n",
              " 'quality': 568,\n",
              " 'friendly': 314,\n",
              " 'comfortable': 176,\n",
              " 'bit': 106,\n",
              " 'deal': 216,\n",
              " 'Phoenix': 40,\n",
              " 'service': 629,\n",
              " 'know': 397,\n",
              " 'expect': 271,\n",
              " 'parking': 513,\n",
              " 'seating': 619,\n",
              " '6': 19,\n",
              " 'car': 136,\n",
              " 'work': 788,\n",
              " 'help': 355,\n",
              " 'soon': 655,\n",
              " 'plan': 537,\n",
              " 'give': 326,\n",
              " 'option': 499,\n",
              " 'head': 352,\n",
              " 'check': 151,\n",
              " 'unfortunately': 744,\n",
              " 'call': 135,\n",
              " 'exactly': 268,\n",
              " 'apologize': 64,\n",
              " 'need': 472,\n",
              " 'sorry': 656,\n",
              " 'forget': 305,\n",
              " 'professional': 564,\n",
              " 'future': 318,\n",
              " 'definitely': 220,\n",
              " 'appointment': 68,\n",
              " 'believe': 101,\n",
              " 'house': 368,\n",
              " 'poor': 548,\n",
              " 'coffee': 170,\n",
              " 'music': 469,\n",
              " 'will': 780,\n",
              " 'beat': 96,\n",
              " 'add': 55,\n",
              " 'offer': 488,\n",
              " 'wide': 778,\n",
              " 'fry': 316,\n",
              " 'incredible': 379,\n",
              " 'pasta': 517,\n",
              " 'taste': 706,\n",
              " 'mom': 461,\n",
              " 'attention': 76,\n",
              " 'italian': 387,\n",
              " 'feel': 290,\n",
              " 'town': 729,\n",
              " 'owner': 507,\n",
              " 'helpful': 356,\n",
              " 'care': 138,\n",
              " 'provide': 566,\n",
              " 'positive': 552,\n",
              " 'dining': 232,\n",
              " 'experience': 273,\n",
              " 'spot': 669,\n",
              " 'recommendation': 584,\n",
              " 'event': 267,\n",
              " 'list': 414,\n",
              " 'change': 148,\n",
              " 'location': 421,\n",
              " 'Tempe': 47,\n",
              " '  ': 5,\n",
              " 'appeal': 66,\n",
              " 'biscuit': 105,\n",
              " 'complaint': 180,\n",
              " 'pack': 508,\n",
              " 'website': 769,\n",
              " 'wedding': 770,\n",
              " 'step': 680,\n",
              " 'way': 768,\n",
              " 'style': 691,\n",
              " 'nail': 470,\n",
              " 'incredibly': 380,\n",
              " 'gift': 324,\n",
              " 'item': 388,\n",
              " 'clear': 166,\n",
              " '8': 21,\n",
              " 'year': 795,\n",
              " 'range': 572,\n",
              " 'hand': 345,\n",
              " 'baby': 84,\n",
              " 'base': 92,\n",
              " 'occasion': 486,\n",
              " 'make': 434,\n",
              " 'sale': 608,\n",
              " 'blow': 110,\n",
              " 'ask': 74,\n",
              " 'miss': 458,\n",
              " 'large': 402,\n",
              " 'group': 337,\n",
              " 'beer': 100,\n",
              " 'hour': 367,\n",
              " 'Happy': 34,\n",
              " 'fair': 280,\n",
              " 'write': 793,\n",
              " 'special': 663,\n",
              " 'understand': 743,\n",
              " 'cut': 208,\n",
              " 'steak': 679,\n",
              " 'fantastic': 286,\n",
              " 'point': 545,\n",
              " 'mean': 445,\n",
              " 'meat': 446,\n",
              " 'plate': 538,\n",
              " 'different': 229,\n",
              " 'present': 556,\n",
              " 'away': 82,\n",
              " 'side': 638,\n",
              " 'suggest': 693,\n",
              " 'potato': 554,\n",
              " 'hungry': 370,\n",
              " 'notch': 482,\n",
              " 'top': 724,\n",
              " 'describe': 224,\n",
              " 'adult': 57,\n",
              " 'literally': 415,\n",
              " 'middle': 453,\n",
              " 'warm': 765,\n",
              " 'request': 591,\n",
              " 'milk': 454,\n",
              " 'note': 483,\n",
              " 'hope': 364,\n",
              " 'sub': 692,\n",
              " 'discover': 238,\n",
              " 'manicure': 439,\n",
              " 'extremely': 276,\n",
              " 'reasonable': 581,\n",
              " 'Grill': 33,\n",
              " 'game': 319,\n",
              " 'reservation': 592,\n",
              " 'wall': 763,\n",
              " 'cover': 195,\n",
              " 'sport': 668,\n",
              " 'especially': 263,\n",
              " 'pair': 510,\n",
              " 'city': 163,\n",
              " 'team': 709,\n",
              " '=': 23,\n",
              " 'Old': 39,\n",
              " 'etc': 265,\n",
              " 'worth': 790,\n",
              " 'mention': 450,\n",
              " 'bagel': 88,\n",
              " 'chip': 158,\n",
              " 'rib': 598,\n",
              " 'combo': 174,\n",
              " '$': 6,\n",
              " 'bowl': 116,\n",
              " 'dessert': 226,\n",
              " 'possible': 553,\n",
              " 'book': 113,\n",
              " 'cake': 134,\n",
              " 'impressive': 377,\n",
              " 'truly': 735,\n",
              " 'create': 200,\n",
              " 'family': 283,\n",
              " 'impressed': 376,\n",
              " 'spring': 670,\n",
              " 'center': 143,\n",
              " 'party': 514,\n",
              " 'light': 410,\n",
              " 'office': 489,\n",
              " 'husband': 371,\n",
              " 'ambiance': 63,\n",
              " 'trip': 734,\n",
              " '10': 9,\n",
              " 'die': 227,\n",
              " '30': 16,\n",
              " 'main': 432,\n",
              " 'rice': 599,\n",
              " 'orange': 500,\n",
              " 'buck': 124,\n",
              " 'normally': 480,\n",
              " 'fan': 284,\n",
              " 'fish': 298,\n",
              " 'grill': 336,\n",
              " 'sushi': 700,\n",
              " 'Valley': 50,\n",
              " 'immediately': 374,\n",
              " 'notice': 484,\n",
              " 'dark': 211,\n",
              " 'low': 428,\n",
              " 'appetizer': 67,\n",
              " 'guacamole': 339,\n",
              " 'talk': 705,\n",
              " 'tender': 711,\n",
              " 'fall': 282,\n",
              " 'tortilla': 726,\n",
              " 'include': 378,\n",
              " 'water': 767,\n",
              " 'level': 408,\n",
              " 'glass': 328,\n",
              " 'entire': 261,\n",
              " 'night': 476,\n",
              " 'plenty': 542,\n",
              " 'nice': 475,\n",
              " 'problem': 562,\n",
              " 'visit': 757,\n",
              " 'hard': 349,\n",
              " 'portion': 551,\n",
              " 'knowledgeable': 398,\n",
              " 'extra': 275,\n",
              " 'usual': 747,\n",
              " 'overall': 506,\n",
              " 'welcome': 774,\n",
              " 'neighborhood': 473,\n",
              " 'smoke': 652,\n",
              " 'corn': 189,\n",
              " 'texture': 712,\n",
              " 'Service': 43,\n",
              " 'near': 471,\n",
              " 'remember': 589,\n",
              " 'hole': 361,\n",
              " 'regular': 588,\n",
              " 'stick': 681,\n",
              " 'cook': 185,\n",
              " 'pie': 533,\n",
              " '20': 13,\n",
              " 'brunch': 123,\n",
              " 'chocolate': 159,\n",
              " 'weekend': 772,\n",
              " 'person': 525,\n",
              " 'move': 466,\n",
              " 'Mesa': 36,\n",
              " 'slice': 647,\n",
              " 'lettuce': 407,\n",
              " 'realize': 579,\n",
              " 'hotel': 366,\n",
              " 'stay': 678,\n",
              " 'hear': 354,\n",
              " 'explain': 274,\n",
              " 'wheat': 776,\n",
              " 'free': 308,\n",
              " 'summer': 694,\n",
              " 'sized': 646,\n",
              " 'beautiful': 97,\n",
              " 'oh': 490,\n",
              " 'forward': 306,\n",
              " 'yes': 797,\n",
              " 'admit': 56,\n",
              " 'travel': 732,\n",
              " 'downtown': 243,\n",
              " 'pass': 515,\n",
              " 'establishment': 264,\n",
              " 'compare': 178,\n",
              " 'lack': 399,\n",
              " 'bean': 95,\n",
              " 'seriously': 626,\n",
              " 'money': 462,\n",
              " 'training': 731,\n",
              " 'shot': 635,\n",
              " 'disappointed': 237,\n",
              " 'pay': 519,\n",
              " 'kid': 393,\n",
              " 'rating': 574,\n",
              " 'curry': 206,\n",
              " 'couple': 193,\n",
              " 'month': 463,\n",
              " 'ago': 59,\n",
              " 'New': 38,\n",
              " 'wrong': 794,\n",
              " 'plus': 543,\n",
              " 'real': 578,\n",
              " 'week': 771,\n",
              " 'quick': 570,\n",
              " 'space': 661,\n",
              " 'phone': 529,\n",
              " '+': 7,\n",
              " 'product': 563,\n",
              " 'sell': 624,\n",
              " 'line': 413,\n",
              " 'cup': 204,\n",
              " 'counter': 192,\n",
              " 'ready': 577,\n",
              " 'mix': 460,\n",
              " 'creamy': 199,\n",
              " 'strong': 688,\n",
              " 'melt': 449,\n",
              " 'valley': 749,\n",
              " 'pho': 528,\n",
              " 'Joe': 35,\n",
              " 'end': 258,\n",
              " 'stand': 672,\n",
              " 'number': 485,\n",
              " 'spend': 664,\n",
              " 'dressing': 245,\n",
              " 'size': 645,\n",
              " 'homemade': 363,\n",
              " 'load': 418,\n",
              " 'cupcake': 205,\n",
              " 'maybe': 443,\n",
              " 'similar': 640,\n",
              " 'set': 630,\n",
              " 'ok': 492,\n",
              " 'view': 756,\n",
              " 'olive': 495,\n",
              " 'oil': 491,\n",
              " 'season': 617,\n",
              " 'hit': 359,\n",
              " 'tea': 708,\n",
              " 'later': 404,\n",
              " 'touch': 728,\n",
              " 'actually': 54,\n",
              " 'today': 721,\n",
              " 'enjoy': 259,\n",
              " 'room': 604,\n",
              " 'sort': 657,\n",
              " '3': 15,\n",
              " 'interesting': 384,\n",
              " 'chain': 145,\n",
              " 'wish': 784,\n",
              " 'crab': 196,\n",
              " 'goodness': 331,\n",
              " 'outstanding': 505,\n",
              " 'manager': 438,\n",
              " 'stop': 683,\n",
              " 'read': 576,\n",
              " 'mouth': 465,\n",
              " 'half': 344,\n",
              " 'feeling': 291,\n",
              " 'original': 502,\n",
              " 'chef': 153,\n",
              " 'reason': 580,\n",
              " 'lucky': 429,\n",
              " 'vibe': 755,\n",
              " 'class': 164,\n",
              " 'tip': 718,\n",
              " 'glad': 327,\n",
              " 'authentic': 78,\n",
              " 'remind': 590,\n",
              " 'fabulous': 278,\n",
              " 'Yelp': 51,\n",
              " 'enter': 260,\n",
              " 'register': 587,\n",
              " 'booth': 114,\n",
              " 'not': 481,\n",
              " 'beef': 99,\n",
              " 'veggie': 754,\n",
              " 'local': 419,\n",
              " 'high': 357,\n",
              " 'vegetarian': 753,\n",
              " 'spinach': 667,\n",
              " 'dip': 234,\n",
              " 'chile': 155,\n",
              " 'club': 169,\n",
              " 'gym': 342,\n",
              " 'pool': 547,\n",
              " 'round': 605,\n",
              " 'Chandler': 28,\n",
              " 'section': 621,\n",
              " 'picture': 532,\n",
              " 'bartender': 91,\n",
              " 'buy': 133,\n",
              " 'daughter': 213,\n",
              " 'Starbucks': 45,\n",
              " 'spicy': 666,\n",
              " 'lamb': 401,\n",
              " 'greasy': 333,\n",
              " 'type': 741,\n",
              " 'Burger': 27,\n",
              " 'fast': 288,\n",
              " 'french': 309,\n",
              " 'bacon': 85,\n",
              " 'turkey': 737,\n",
              " 'mall': 435,\n",
              " 'woman': 785,\n",
              " 'black': 108,\n",
              " 'late': 403,\n",
              " 'situation': 644,\n",
              " 'Friday': 32,\n",
              " 'pickle': 531,\n",
              " 'fountain': 307,\n",
              " 'refill': 586,\n",
              " 'return': 595,\n",
              " 'consider': 182,\n",
              " 'crowd': 201,\n",
              " 'old': 494,\n",
              " 'bill': 103,\n",
              " 'business': 130,\n",
              " 'follow': 303,\n",
              " 'hold': 360,\n",
              " 'crazy': 197,\n",
              " 'corner': 190,\n",
              " 'employee': 256,\n",
              " 'completely': 181,\n",
              " 'standard': 673,\n",
              " 'delish': 222,\n",
              " 'Thai': 48,\n",
              " 'usually': 748,\n",
              " 'agree': 60,\n",
              " 'gyro': 343,\n",
              " 'buffet': 125,\n",
              " 'waffle': 758,\n",
              " 'wow': 791,\n",
              " 'station': 677,\n",
              " 'freshly': 311,\n",
              " 'mind': 455,\n",
              " 'figure': 292,\n",
              " 'receive': 582,\n",
              " 'fix': 299,\n",
              " 'normal': 479,\n",
              " 'dirty': 235,\n",
              " 'loud': 425,\n",
              " 'smile': 651,\n",
              " 'surprise': 698,\n",
              " 'college': 172,\n",
              " 'student': 689,\n",
              " 'AZ': 24,\n",
              " 'straight': 685,\n",
              " 'margarita': 440,\n",
              " 'salty': 611,\n",
              " '15': 11,\n",
              " 'grab': 332,\n",
              " '25': 14,\n",
              " 'sample': 612,\n",
              " 'guess': 340,\n",
              " 'casual': 141,\n",
              " 'crust': 203,\n",
              " 'rock': 602,\n",
              " 'word': 787,\n",
              " 'value': 750,\n",
              " 'dollar': 241,\n",
              " 'prompt': 565,\n",
              " 'purchase': 567,\n",
              " 'draw': 244,\n",
              " 'matter': 442,\n",
              " 'chance': 147,\n",
              " 'decent': 217,\n",
              " 'delivery': 223,\n",
              " 'meet': 448,\n",
              " 'hate': 350,\n",
              " 'available': 79,\n",
              " 'peanut': 520,\n",
              " 'fine': 296,\n",
              " 'soft': 653,\n",
              " 'easily': 252,\n",
              " 'clothing': 168,\n",
              " 'one': 496,\n",
              " 'kinda': 395,\n",
              " 'generally': 322,\n",
              " 'movie': 467,\n",
              " 'St.': 44,\n",
              " 'short': 634,\n",
              " 'mini': 456,\n",
              " 'continue': 183,\n",
              " 'certainly': 144,\n",
              " 'non': 477,\n",
              " 'major': 433,\n",
              " 'bottle': 115,\n",
              " 'air': 61,\n",
              " 'dry': 249,\n",
              " 'charge': 149,\n",
              " 'company': 177,\n",
              " 'previous': 558,\n",
              " 'sour': 660,\n",
              " 'attentive': 77,\n",
              " 'salt': 610,\n",
              " 'bed': 98,\n",
              " 'lovely': 427,\n",
              " 'asian': 73,\n",
              " 'burn': 128,\n",
              " '12': 10,\n",
              " 'simple': 641,\n",
              " 'odd': 487,\n",
              " 'burrito': 129,\n",
              " 'average': 80,\n",
              " 'Mexican': 37,\n",
              " 'somewhat': 654,\n",
              " 'tv': 739,\n",
              " 'expensive': 272,\n",
              " 'fancy': 285,\n",
              " 'joint': 390,\n",
              " 'pleased': 541,\n",
              " 'to': 719,\n",
              " 'market': 441,\n",
              " 'finally': 294,\n",
              " 'suppose': 696,\n",
              " 'paper': 511,\n",
              " 'traditional': 730,\n",
              " 'spice': 665,\n",
              " 'brownie': 122,\n",
              " 'cold': 171,\n",
              " 'sound': 658,\n",
              " 'rest': 593,\n",
              " '1': 8,\n",
              " 'polite': 546,\n",
              " 'conversation': 184,\n",
              " 'kitchen': 396,\n",
              " ' \\n': 3,\n",
              " 'window': 781,\n",
              " 'difference': 228,\n",
              " 'send': 625,\n",
              " 'pop': 549,\n",
              " 'brown': 121,\n",
              " 'de': 215,\n",
              " 'fried': 312,\n",
              " 'bag': 87,\n",
              " 'pet': 527,\n",
              " 'watch': 766,\n",
              " 'chair': 146,\n",
              " 'instead': 383,\n",
              " '7': 20,\n",
              " 'second': 620,\n",
              " 'complain': 179,\n",
              " 'able': 52,\n",
              " 'asada': 72,\n",
              " 'Town': 49,\n",
              " 'happen': 347,\n",
              " 'cooking': 187,\n",
              " 'kick': 392,\n",
              " 'rave': 575,\n",
              " 'chinese': 157,\n",
              " 'management': 437,\n",
              " 'twice': 740,\n",
              " 'afternoon': 58,\n",
              " 'ton': 723,\n",
              " 'ride': 600,\n",
              " 'slow': 648,\n",
              " 'meatball': 447,\n",
              " 'gel': 321,\n",
              " 'lady': 400,\n",
              " 'machine': 431,\n",
              " 'pad': 509,\n",
              " 'apparently': 65,\n",
              " 'blue': 111,\n",
              " 'topping': 725,\n",
              " 'pricey': 560,\n",
              " 'enchilada': 257,\n",
              " 'fairly': 281,\n",
              " 'yesterday': 798,\n",
              " '9': 22,\n",
              " 'bland': 109,\n",
              " 'outdoor': 503,\n",
              " 'interior': 385,\n",
              " 'typical': 742,\n",
              " 'shopping': 633,\n",
              " 'weird': 773,\n",
              " 'cost': 191,\n",
              " 'chili': 156,\n",
              " 'dine': 231,\n",
              " 'quiche': 569,\n",
              " 'dance': 210,\n",
              " 'prefer': 555,\n",
              " 'Chili': 30}"
            ]
          },
          "metadata": {},
          "execution_count": 43
        }
      ]
    },
    {
      "cell_type": "markdown",
      "metadata": {
        "id": "nGEf8h1lEvrY"
      },
      "source": [
        "The number represents the **index** (alphabetical position) of a word in the vocabulary.\n",
        "\n",
        "By the way, how many words do we have?\n"
      ]
    },
    {
      "cell_type": "code",
      "metadata": {
        "id": "upN1gxm5Evrb",
        "colab": {
          "base_uri": "https://localhost:8080/"
        },
        "outputId": "61ad4ebc-34c1-466f-aa52-510f405d49b3"
      },
      "source": [
        "len(bow_transformer.vocabulary_)"
      ],
      "execution_count": null,
      "outputs": [
        {
          "output_type": "execute_result",
          "data": {
            "text/plain": [
              "800"
            ]
          },
          "metadata": {},
          "execution_count": 38
        }
      ]
    },
    {
      "cell_type": "markdown",
      "metadata": {
        "id": "qkN4E-QCTFom"
      },
      "source": [
        "It's the same as `max_features`! Is that a coincidence? What's the point of `max_features`?"
      ]
    },
    {
      "cell_type": "markdown",
      "metadata": {
        "id": "YsFa7Nu5Evr4"
      },
      "source": [
        "Now that our vocabulary is ready, we can **transform** each review into a bag of words.\n",
        "\n"
      ]
    },
    {
      "cell_type": "code",
      "metadata": {
        "id": "VRJJe2HGEvr6"
      },
      "source": [
        "X = bow_transformer.transform(X_text)"
      ],
      "execution_count": null,
      "outputs": []
    },
    {
      "cell_type": "markdown",
      "metadata": {
        "id": "pu6FEly_UMFC"
      },
      "source": [
        "Finally, we've converted our reviews to numerical data that we can use in a logistic regression!\n",
        "\n",
        "We can see what `X` looks like by printing it out as a DataFrame. **How long is each review's vector?** Why?"
      ]
    },
    {
      "cell_type": "code",
      "metadata": {
        "id": "FdeKo8ZQTiOu",
        "colab": {
          "base_uri": "https://localhost:8080/",
          "height": 424
        },
        "outputId": "dbe92b77-4a05-42b0-b3b5-696619c6c204"
      },
      "source": [
        "pd.DataFrame(X.toarray())"
      ],
      "execution_count": null,
      "outputs": [
        {
          "output_type": "execute_result",
          "data": {
            "text/plain": [
              "     0    1    2    3    4    5    6    7    8    9    ...  790  791  792  \\\n",
              "0      0    3    8    0    0    0    0    0    0    0  ...    0    0    0   \n",
              "1      0    2    1    0    0    0    0    0    0    0  ...    0    0    0   \n",
              "2      0    2    1    0    0    0    0    0    0    0  ...    0    0    0   \n",
              "3      0    1    0    0    0    0    0    0    0    0  ...    0    0    0   \n",
              "4      0    3   18    0    0    0    0    0    0    0  ...    0    0    1   \n",
              "..   ...  ...  ...  ...  ...  ...  ...  ...  ...  ...  ...  ...  ...  ...   \n",
              "818    0    4    0    0    0    0    0    0    0    0  ...    0    0    1   \n",
              "819    0    0    2    0    1    0    0    0    0    0  ...    0    0    0   \n",
              "820    0    0    1    0    0    0    0    0    0    0  ...    0    0    0   \n",
              "821    0    0    0    0    0    0    0    0    0    0  ...    0    0    0   \n",
              "822    3    0    3    0    0    0    3    0    0    0  ...    0    0    0   \n",
              "\n",
              "     793  794  795  796  797  798  799  \n",
              "0      0    0    0    0    0    0    0  \n",
              "1      0    0    0    0    0    0    0  \n",
              "2      0    0    0    0    0    0    0  \n",
              "3      0    0    0    0    0    0    0  \n",
              "4      0    0    0    1    0    0    1  \n",
              "..   ...  ...  ...  ...  ...  ...  ...  \n",
              "818    0    0    0    0    0    0    0  \n",
              "819    0    0    1    0    0    0    0  \n",
              "820    0    0    0    0    0    0    0  \n",
              "821    0    0    0    0    0    0    0  \n",
              "822    0    0    0    0    0    0    0  \n",
              "\n",
              "[823 rows x 800 columns]"
            ],
            "text/html": [
              "\n",
              "  <div id=\"df-fb95b6cb-9027-42de-934e-f1b151cb0e3b\" class=\"colab-df-container\">\n",
              "    <div>\n",
              "<style scoped>\n",
              "    .dataframe tbody tr th:only-of-type {\n",
              "        vertical-align: middle;\n",
              "    }\n",
              "\n",
              "    .dataframe tbody tr th {\n",
              "        vertical-align: top;\n",
              "    }\n",
              "\n",
              "    .dataframe thead th {\n",
              "        text-align: right;\n",
              "    }\n",
              "</style>\n",
              "<table border=\"1\" class=\"dataframe\">\n",
              "  <thead>\n",
              "    <tr style=\"text-align: right;\">\n",
              "      <th></th>\n",
              "      <th>0</th>\n",
              "      <th>1</th>\n",
              "      <th>2</th>\n",
              "      <th>3</th>\n",
              "      <th>4</th>\n",
              "      <th>5</th>\n",
              "      <th>6</th>\n",
              "      <th>7</th>\n",
              "      <th>8</th>\n",
              "      <th>9</th>\n",
              "      <th>...</th>\n",
              "      <th>790</th>\n",
              "      <th>791</th>\n",
              "      <th>792</th>\n",
              "      <th>793</th>\n",
              "      <th>794</th>\n",
              "      <th>795</th>\n",
              "      <th>796</th>\n",
              "      <th>797</th>\n",
              "      <th>798</th>\n",
              "      <th>799</th>\n",
              "    </tr>\n",
              "  </thead>\n",
              "  <tbody>\n",
              "    <tr>\n",
              "      <th>0</th>\n",
              "      <td>0</td>\n",
              "      <td>3</td>\n",
              "      <td>8</td>\n",
              "      <td>0</td>\n",
              "      <td>0</td>\n",
              "      <td>0</td>\n",
              "      <td>0</td>\n",
              "      <td>0</td>\n",
              "      <td>0</td>\n",
              "      <td>0</td>\n",
              "      <td>...</td>\n",
              "      <td>0</td>\n",
              "      <td>0</td>\n",
              "      <td>0</td>\n",
              "      <td>0</td>\n",
              "      <td>0</td>\n",
              "      <td>0</td>\n",
              "      <td>0</td>\n",
              "      <td>0</td>\n",
              "      <td>0</td>\n",
              "      <td>0</td>\n",
              "    </tr>\n",
              "    <tr>\n",
              "      <th>1</th>\n",
              "      <td>0</td>\n",
              "      <td>2</td>\n",
              "      <td>1</td>\n",
              "      <td>0</td>\n",
              "      <td>0</td>\n",
              "      <td>0</td>\n",
              "      <td>0</td>\n",
              "      <td>0</td>\n",
              "      <td>0</td>\n",
              "      <td>0</td>\n",
              "      <td>...</td>\n",
              "      <td>0</td>\n",
              "      <td>0</td>\n",
              "      <td>0</td>\n",
              "      <td>0</td>\n",
              "      <td>0</td>\n",
              "      <td>0</td>\n",
              "      <td>0</td>\n",
              "      <td>0</td>\n",
              "      <td>0</td>\n",
              "      <td>0</td>\n",
              "    </tr>\n",
              "    <tr>\n",
              "      <th>2</th>\n",
              "      <td>0</td>\n",
              "      <td>2</td>\n",
              "      <td>1</td>\n",
              "      <td>0</td>\n",
              "      <td>0</td>\n",
              "      <td>0</td>\n",
              "      <td>0</td>\n",
              "      <td>0</td>\n",
              "      <td>0</td>\n",
              "      <td>0</td>\n",
              "      <td>...</td>\n",
              "      <td>0</td>\n",
              "      <td>0</td>\n",
              "      <td>0</td>\n",
              "      <td>0</td>\n",
              "      <td>0</td>\n",
              "      <td>0</td>\n",
              "      <td>0</td>\n",
              "      <td>0</td>\n",
              "      <td>0</td>\n",
              "      <td>0</td>\n",
              "    </tr>\n",
              "    <tr>\n",
              "      <th>3</th>\n",
              "      <td>0</td>\n",
              "      <td>1</td>\n",
              "      <td>0</td>\n",
              "      <td>0</td>\n",
              "      <td>0</td>\n",
              "      <td>0</td>\n",
              "      <td>0</td>\n",
              "      <td>0</td>\n",
              "      <td>0</td>\n",
              "      <td>0</td>\n",
              "      <td>...</td>\n",
              "      <td>0</td>\n",
              "      <td>0</td>\n",
              "      <td>0</td>\n",
              "      <td>0</td>\n",
              "      <td>0</td>\n",
              "      <td>0</td>\n",
              "      <td>0</td>\n",
              "      <td>0</td>\n",
              "      <td>0</td>\n",
              "      <td>0</td>\n",
              "    </tr>\n",
              "    <tr>\n",
              "      <th>4</th>\n",
              "      <td>0</td>\n",
              "      <td>3</td>\n",
              "      <td>18</td>\n",
              "      <td>0</td>\n",
              "      <td>0</td>\n",
              "      <td>0</td>\n",
              "      <td>0</td>\n",
              "      <td>0</td>\n",
              "      <td>0</td>\n",
              "      <td>0</td>\n",
              "      <td>...</td>\n",
              "      <td>0</td>\n",
              "      <td>0</td>\n",
              "      <td>1</td>\n",
              "      <td>0</td>\n",
              "      <td>0</td>\n",
              "      <td>0</td>\n",
              "      <td>1</td>\n",
              "      <td>0</td>\n",
              "      <td>0</td>\n",
              "      <td>1</td>\n",
              "    </tr>\n",
              "    <tr>\n",
              "      <th>...</th>\n",
              "      <td>...</td>\n",
              "      <td>...</td>\n",
              "      <td>...</td>\n",
              "      <td>...</td>\n",
              "      <td>...</td>\n",
              "      <td>...</td>\n",
              "      <td>...</td>\n",
              "      <td>...</td>\n",
              "      <td>...</td>\n",
              "      <td>...</td>\n",
              "      <td>...</td>\n",
              "      <td>...</td>\n",
              "      <td>...</td>\n",
              "      <td>...</td>\n",
              "      <td>...</td>\n",
              "      <td>...</td>\n",
              "      <td>...</td>\n",
              "      <td>...</td>\n",
              "      <td>...</td>\n",
              "      <td>...</td>\n",
              "      <td>...</td>\n",
              "    </tr>\n",
              "    <tr>\n",
              "      <th>818</th>\n",
              "      <td>0</td>\n",
              "      <td>4</td>\n",
              "      <td>0</td>\n",
              "      <td>0</td>\n",
              "      <td>0</td>\n",
              "      <td>0</td>\n",
              "      <td>0</td>\n",
              "      <td>0</td>\n",
              "      <td>0</td>\n",
              "      <td>0</td>\n",
              "      <td>...</td>\n",
              "      <td>0</td>\n",
              "      <td>0</td>\n",
              "      <td>1</td>\n",
              "      <td>0</td>\n",
              "      <td>0</td>\n",
              "      <td>0</td>\n",
              "      <td>0</td>\n",
              "      <td>0</td>\n",
              "      <td>0</td>\n",
              "      <td>0</td>\n",
              "    </tr>\n",
              "    <tr>\n",
              "      <th>819</th>\n",
              "      <td>0</td>\n",
              "      <td>0</td>\n",
              "      <td>2</td>\n",
              "      <td>0</td>\n",
              "      <td>1</td>\n",
              "      <td>0</td>\n",
              "      <td>0</td>\n",
              "      <td>0</td>\n",
              "      <td>0</td>\n",
              "      <td>0</td>\n",
              "      <td>...</td>\n",
              "      <td>0</td>\n",
              "      <td>0</td>\n",
              "      <td>0</td>\n",
              "      <td>0</td>\n",
              "      <td>0</td>\n",
              "      <td>1</td>\n",
              "      <td>0</td>\n",
              "      <td>0</td>\n",
              "      <td>0</td>\n",
              "      <td>0</td>\n",
              "    </tr>\n",
              "    <tr>\n",
              "      <th>820</th>\n",
              "      <td>0</td>\n",
              "      <td>0</td>\n",
              "      <td>1</td>\n",
              "      <td>0</td>\n",
              "      <td>0</td>\n",
              "      <td>0</td>\n",
              "      <td>0</td>\n",
              "      <td>0</td>\n",
              "      <td>0</td>\n",
              "      <td>0</td>\n",
              "      <td>...</td>\n",
              "      <td>0</td>\n",
              "      <td>0</td>\n",
              "      <td>0</td>\n",
              "      <td>0</td>\n",
              "      <td>0</td>\n",
              "      <td>0</td>\n",
              "      <td>0</td>\n",
              "      <td>0</td>\n",
              "      <td>0</td>\n",
              "      <td>0</td>\n",
              "    </tr>\n",
              "    <tr>\n",
              "      <th>821</th>\n",
              "      <td>0</td>\n",
              "      <td>0</td>\n",
              "      <td>0</td>\n",
              "      <td>0</td>\n",
              "      <td>0</td>\n",
              "      <td>0</td>\n",
              "      <td>0</td>\n",
              "      <td>0</td>\n",
              "      <td>0</td>\n",
              "      <td>0</td>\n",
              "      <td>...</td>\n",
              "      <td>0</td>\n",
              "      <td>0</td>\n",
              "      <td>0</td>\n",
              "      <td>0</td>\n",
              "      <td>0</td>\n",
              "      <td>0</td>\n",
              "      <td>0</td>\n",
              "      <td>0</td>\n",
              "      <td>0</td>\n",
              "      <td>0</td>\n",
              "    </tr>\n",
              "    <tr>\n",
              "      <th>822</th>\n",
              "      <td>3</td>\n",
              "      <td>0</td>\n",
              "      <td>3</td>\n",
              "      <td>0</td>\n",
              "      <td>0</td>\n",
              "      <td>0</td>\n",
              "      <td>3</td>\n",
              "      <td>0</td>\n",
              "      <td>0</td>\n",
              "      <td>0</td>\n",
              "      <td>...</td>\n",
              "      <td>0</td>\n",
              "      <td>0</td>\n",
              "      <td>0</td>\n",
              "      <td>0</td>\n",
              "      <td>0</td>\n",
              "      <td>0</td>\n",
              "      <td>0</td>\n",
              "      <td>0</td>\n",
              "      <td>0</td>\n",
              "      <td>0</td>\n",
              "    </tr>\n",
              "  </tbody>\n",
              "</table>\n",
              "<p>823 rows × 800 columns</p>\n",
              "</div>\n",
              "    <div class=\"colab-df-buttons\">\n",
              "\n",
              "  <div class=\"colab-df-container\">\n",
              "    <button class=\"colab-df-convert\" onclick=\"convertToInteractive('df-fb95b6cb-9027-42de-934e-f1b151cb0e3b')\"\n",
              "            title=\"Convert this dataframe to an interactive table.\"\n",
              "            style=\"display:none;\">\n",
              "\n",
              "  <svg xmlns=\"http://www.w3.org/2000/svg\" height=\"24px\" viewBox=\"0 -960 960 960\">\n",
              "    <path d=\"M120-120v-720h720v720H120Zm60-500h600v-160H180v160Zm220 220h160v-160H400v160Zm0 220h160v-160H400v160ZM180-400h160v-160H180v160Zm440 0h160v-160H620v160ZM180-180h160v-160H180v160Zm440 0h160v-160H620v160Z\"/>\n",
              "  </svg>\n",
              "    </button>\n",
              "\n",
              "  <style>\n",
              "    .colab-df-container {\n",
              "      display:flex;\n",
              "      gap: 12px;\n",
              "    }\n",
              "\n",
              "    .colab-df-convert {\n",
              "      background-color: #E8F0FE;\n",
              "      border: none;\n",
              "      border-radius: 50%;\n",
              "      cursor: pointer;\n",
              "      display: none;\n",
              "      fill: #1967D2;\n",
              "      height: 32px;\n",
              "      padding: 0 0 0 0;\n",
              "      width: 32px;\n",
              "    }\n",
              "\n",
              "    .colab-df-convert:hover {\n",
              "      background-color: #E2EBFA;\n",
              "      box-shadow: 0px 1px 2px rgba(60, 64, 67, 0.3), 0px 1px 3px 1px rgba(60, 64, 67, 0.15);\n",
              "      fill: #174EA6;\n",
              "    }\n",
              "\n",
              "    .colab-df-buttons div {\n",
              "      margin-bottom: 4px;\n",
              "    }\n",
              "\n",
              "    [theme=dark] .colab-df-convert {\n",
              "      background-color: #3B4455;\n",
              "      fill: #D2E3FC;\n",
              "    }\n",
              "\n",
              "    [theme=dark] .colab-df-convert:hover {\n",
              "      background-color: #434B5C;\n",
              "      box-shadow: 0px 1px 3px 1px rgba(0, 0, 0, 0.15);\n",
              "      filter: drop-shadow(0px 1px 2px rgba(0, 0, 0, 0.3));\n",
              "      fill: #FFFFFF;\n",
              "    }\n",
              "  </style>\n",
              "\n",
              "    <script>\n",
              "      const buttonEl =\n",
              "        document.querySelector('#df-fb95b6cb-9027-42de-934e-f1b151cb0e3b button.colab-df-convert');\n",
              "      buttonEl.style.display =\n",
              "        google.colab.kernel.accessAllowed ? 'block' : 'none';\n",
              "\n",
              "      async function convertToInteractive(key) {\n",
              "        const element = document.querySelector('#df-fb95b6cb-9027-42de-934e-f1b151cb0e3b');\n",
              "        const dataTable =\n",
              "          await google.colab.kernel.invokeFunction('convertToInteractive',\n",
              "                                                    [key], {});\n",
              "        if (!dataTable) return;\n",
              "\n",
              "        const docLinkHtml = 'Like what you see? Visit the ' +\n",
              "          '<a target=\"_blank\" href=https://colab.research.google.com/notebooks/data_table.ipynb>data table notebook</a>'\n",
              "          + ' to learn more about interactive tables.';\n",
              "        element.innerHTML = '';\n",
              "        dataTable['output_type'] = 'display_data';\n",
              "        await google.colab.output.renderOutput(dataTable, element);\n",
              "        const docLink = document.createElement('div');\n",
              "        docLink.innerHTML = docLinkHtml;\n",
              "        element.appendChild(docLink);\n",
              "      }\n",
              "    </script>\n",
              "  </div>\n",
              "\n",
              "\n",
              "<div id=\"df-4129321c-a681-4131-9526-87db3434703d\">\n",
              "  <button class=\"colab-df-quickchart\" onclick=\"quickchart('df-4129321c-a681-4131-9526-87db3434703d')\"\n",
              "            title=\"Suggest charts\"\n",
              "            style=\"display:none;\">\n",
              "\n",
              "<svg xmlns=\"http://www.w3.org/2000/svg\" height=\"24px\"viewBox=\"0 0 24 24\"\n",
              "     width=\"24px\">\n",
              "    <g>\n",
              "        <path d=\"M19 3H5c-1.1 0-2 .9-2 2v14c0 1.1.9 2 2 2h14c1.1 0 2-.9 2-2V5c0-1.1-.9-2-2-2zM9 17H7v-7h2v7zm4 0h-2V7h2v10zm4 0h-2v-4h2v4z\"/>\n",
              "    </g>\n",
              "</svg>\n",
              "  </button>\n",
              "\n",
              "<style>\n",
              "  .colab-df-quickchart {\n",
              "      --bg-color: #E8F0FE;\n",
              "      --fill-color: #1967D2;\n",
              "      --hover-bg-color: #E2EBFA;\n",
              "      --hover-fill-color: #174EA6;\n",
              "      --disabled-fill-color: #AAA;\n",
              "      --disabled-bg-color: #DDD;\n",
              "  }\n",
              "\n",
              "  [theme=dark] .colab-df-quickchart {\n",
              "      --bg-color: #3B4455;\n",
              "      --fill-color: #D2E3FC;\n",
              "      --hover-bg-color: #434B5C;\n",
              "      --hover-fill-color: #FFFFFF;\n",
              "      --disabled-bg-color: #3B4455;\n",
              "      --disabled-fill-color: #666;\n",
              "  }\n",
              "\n",
              "  .colab-df-quickchart {\n",
              "    background-color: var(--bg-color);\n",
              "    border: none;\n",
              "    border-radius: 50%;\n",
              "    cursor: pointer;\n",
              "    display: none;\n",
              "    fill: var(--fill-color);\n",
              "    height: 32px;\n",
              "    padding: 0;\n",
              "    width: 32px;\n",
              "  }\n",
              "\n",
              "  .colab-df-quickchart:hover {\n",
              "    background-color: var(--hover-bg-color);\n",
              "    box-shadow: 0 1px 2px rgba(60, 64, 67, 0.3), 0 1px 3px 1px rgba(60, 64, 67, 0.15);\n",
              "    fill: var(--button-hover-fill-color);\n",
              "  }\n",
              "\n",
              "  .colab-df-quickchart-complete:disabled,\n",
              "  .colab-df-quickchart-complete:disabled:hover {\n",
              "    background-color: var(--disabled-bg-color);\n",
              "    fill: var(--disabled-fill-color);\n",
              "    box-shadow: none;\n",
              "  }\n",
              "\n",
              "  .colab-df-spinner {\n",
              "    border: 2px solid var(--fill-color);\n",
              "    border-color: transparent;\n",
              "    border-bottom-color: var(--fill-color);\n",
              "    animation:\n",
              "      spin 1s steps(1) infinite;\n",
              "  }\n",
              "\n",
              "  @keyframes spin {\n",
              "    0% {\n",
              "      border-color: transparent;\n",
              "      border-bottom-color: var(--fill-color);\n",
              "      border-left-color: var(--fill-color);\n",
              "    }\n",
              "    20% {\n",
              "      border-color: transparent;\n",
              "      border-left-color: var(--fill-color);\n",
              "      border-top-color: var(--fill-color);\n",
              "    }\n",
              "    30% {\n",
              "      border-color: transparent;\n",
              "      border-left-color: var(--fill-color);\n",
              "      border-top-color: var(--fill-color);\n",
              "      border-right-color: var(--fill-color);\n",
              "    }\n",
              "    40% {\n",
              "      border-color: transparent;\n",
              "      border-right-color: var(--fill-color);\n",
              "      border-top-color: var(--fill-color);\n",
              "    }\n",
              "    60% {\n",
              "      border-color: transparent;\n",
              "      border-right-color: var(--fill-color);\n",
              "    }\n",
              "    80% {\n",
              "      border-color: transparent;\n",
              "      border-right-color: var(--fill-color);\n",
              "      border-bottom-color: var(--fill-color);\n",
              "    }\n",
              "    90% {\n",
              "      border-color: transparent;\n",
              "      border-bottom-color: var(--fill-color);\n",
              "    }\n",
              "  }\n",
              "</style>\n",
              "\n",
              "  <script>\n",
              "    async function quickchart(key) {\n",
              "      const quickchartButtonEl =\n",
              "        document.querySelector('#' + key + ' button');\n",
              "      quickchartButtonEl.disabled = true;  // To prevent multiple clicks.\n",
              "      quickchartButtonEl.classList.add('colab-df-spinner');\n",
              "      try {\n",
              "        const charts = await google.colab.kernel.invokeFunction(\n",
              "            'suggestCharts', [key], {});\n",
              "      } catch (error) {\n",
              "        console.error('Error during call to suggestCharts:', error);\n",
              "      }\n",
              "      quickchartButtonEl.classList.remove('colab-df-spinner');\n",
              "      quickchartButtonEl.classList.add('colab-df-quickchart-complete');\n",
              "    }\n",
              "    (() => {\n",
              "      let quickchartButtonEl =\n",
              "        document.querySelector('#df-4129321c-a681-4131-9526-87db3434703d button');\n",
              "      quickchartButtonEl.style.display =\n",
              "        google.colab.kernel.accessAllowed ? 'block' : 'none';\n",
              "    })();\n",
              "  </script>\n",
              "</div>\n",
              "    </div>\n",
              "  </div>\n"
            ]
          },
          "metadata": {},
          "execution_count": 44
        }
      ]
    },
    {
      "cell_type": "markdown",
      "metadata": {
        "id": "P8AUxyLHEvr_"
      },
      "source": [
        "# Creating a Baseline Classifier\n",
        "\n",
        "Now, back to our sentiment analysis problem! Our data is ready for machine learning.\n",
        "\n",
        "Our classification problem is a classic two-class classification problem, and so we will use the tried-and-tested **Logistic Regression** machine learning model.\n",
        "\n",
        "As always, we'll start by setting aside testing and training data:"
      ]
    },
    {
      "cell_type": "code",
      "metadata": {
        "id": "PThy6pNUEvsA"
      },
      "source": [
        "X_train, X_test, y_train, y_test = train_test_split(X, y, test_size=0.2, random_state=101)"
      ],
      "execution_count": null,
      "outputs": []
    },
    {
      "cell_type": "markdown",
      "metadata": {
        "id": "42rl41sUXr0-"
      },
      "source": [
        "### ✍ Exercise: Training your Model\n",
        "\n",
        "Now, we can create and train our model! Please **fill in the code to train (or *fit*) your model**.\n",
        "\n",
        "(Need a hint? Refer to last time's notebook or Scikit-learn documentation if needed.)"
      ]
    },
    {
      "cell_type": "code",
      "metadata": {
        "id": "gIpbdNZwgRTn",
        "colab": {
          "base_uri": "https://localhost:8080/",
          "height": 75
        },
        "outputId": "d02a45b7-9508-4b6c-fa33-e831dcea5bae"
      },
      "source": [
        "logistic_model = LogisticRegression()\n",
        "\n",
        "#YOUR CODE HERE to train the model (1 line)\n",
        "logistic_model.fit(X_train, y_train)"
      ],
      "execution_count": null,
      "outputs": [
        {
          "output_type": "execute_result",
          "data": {
            "text/plain": [
              "LogisticRegression()"
            ],
            "text/html": [
              "<style>#sk-container-id-2 {color: black;background-color: white;}#sk-container-id-2 pre{padding: 0;}#sk-container-id-2 div.sk-toggleable {background-color: white;}#sk-container-id-2 label.sk-toggleable__label {cursor: pointer;display: block;width: 100%;margin-bottom: 0;padding: 0.3em;box-sizing: border-box;text-align: center;}#sk-container-id-2 label.sk-toggleable__label-arrow:before {content: \"▸\";float: left;margin-right: 0.25em;color: #696969;}#sk-container-id-2 label.sk-toggleable__label-arrow:hover:before {color: black;}#sk-container-id-2 div.sk-estimator:hover label.sk-toggleable__label-arrow:before {color: black;}#sk-container-id-2 div.sk-toggleable__content {max-height: 0;max-width: 0;overflow: hidden;text-align: left;background-color: #f0f8ff;}#sk-container-id-2 div.sk-toggleable__content pre {margin: 0.2em;color: black;border-radius: 0.25em;background-color: #f0f8ff;}#sk-container-id-2 input.sk-toggleable__control:checked~div.sk-toggleable__content {max-height: 200px;max-width: 100%;overflow: auto;}#sk-container-id-2 input.sk-toggleable__control:checked~label.sk-toggleable__label-arrow:before {content: \"▾\";}#sk-container-id-2 div.sk-estimator input.sk-toggleable__control:checked~label.sk-toggleable__label {background-color: #d4ebff;}#sk-container-id-2 div.sk-label input.sk-toggleable__control:checked~label.sk-toggleable__label {background-color: #d4ebff;}#sk-container-id-2 input.sk-hidden--visually {border: 0;clip: rect(1px 1px 1px 1px);clip: rect(1px, 1px, 1px, 1px);height: 1px;margin: -1px;overflow: hidden;padding: 0;position: absolute;width: 1px;}#sk-container-id-2 div.sk-estimator {font-family: monospace;background-color: #f0f8ff;border: 1px dotted black;border-radius: 0.25em;box-sizing: border-box;margin-bottom: 0.5em;}#sk-container-id-2 div.sk-estimator:hover {background-color: #d4ebff;}#sk-container-id-2 div.sk-parallel-item::after {content: \"\";width: 100%;border-bottom: 1px solid gray;flex-grow: 1;}#sk-container-id-2 div.sk-label:hover label.sk-toggleable__label {background-color: #d4ebff;}#sk-container-id-2 div.sk-serial::before {content: \"\";position: absolute;border-left: 1px solid gray;box-sizing: border-box;top: 0;bottom: 0;left: 50%;z-index: 0;}#sk-container-id-2 div.sk-serial {display: flex;flex-direction: column;align-items: center;background-color: white;padding-right: 0.2em;padding-left: 0.2em;position: relative;}#sk-container-id-2 div.sk-item {position: relative;z-index: 1;}#sk-container-id-2 div.sk-parallel {display: flex;align-items: stretch;justify-content: center;background-color: white;position: relative;}#sk-container-id-2 div.sk-item::before, #sk-container-id-2 div.sk-parallel-item::before {content: \"\";position: absolute;border-left: 1px solid gray;box-sizing: border-box;top: 0;bottom: 0;left: 50%;z-index: -1;}#sk-container-id-2 div.sk-parallel-item {display: flex;flex-direction: column;z-index: 1;position: relative;background-color: white;}#sk-container-id-2 div.sk-parallel-item:first-child::after {align-self: flex-end;width: 50%;}#sk-container-id-2 div.sk-parallel-item:last-child::after {align-self: flex-start;width: 50%;}#sk-container-id-2 div.sk-parallel-item:only-child::after {width: 0;}#sk-container-id-2 div.sk-dashed-wrapped {border: 1px dashed gray;margin: 0 0.4em 0.5em 0.4em;box-sizing: border-box;padding-bottom: 0.4em;background-color: white;}#sk-container-id-2 div.sk-label label {font-family: monospace;font-weight: bold;display: inline-block;line-height: 1.2em;}#sk-container-id-2 div.sk-label-container {text-align: center;}#sk-container-id-2 div.sk-container {/* jupyter's `normalize.less` sets `[hidden] { display: none; }` but bootstrap.min.css set `[hidden] { display: none !important; }` so we also need the `!important` here to be able to override the default hidden behavior on the sphinx rendered scikit-learn.org. See: https://github.com/scikit-learn/scikit-learn/issues/21755 */display: inline-block !important;position: relative;}#sk-container-id-2 div.sk-text-repr-fallback {display: none;}</style><div id=\"sk-container-id-2\" class=\"sk-top-container\"><div class=\"sk-text-repr-fallback\"><pre>LogisticRegression()</pre><b>In a Jupyter environment, please rerun this cell to show the HTML representation or trust the notebook. <br />On GitHub, the HTML representation is unable to render, please try loading this page with nbviewer.org.</b></div><div class=\"sk-container\" hidden><div class=\"sk-item\"><div class=\"sk-estimator sk-toggleable\"><input class=\"sk-toggleable__control sk-hidden--visually\" id=\"sk-estimator-id-2\" type=\"checkbox\" checked><label for=\"sk-estimator-id-2\" class=\"sk-toggleable__label sk-toggleable__label-arrow\">LogisticRegression</label><div class=\"sk-toggleable__content\"><pre>LogisticRegression()</pre></div></div></div></div></div>"
            ]
          },
          "metadata": {},
          "execution_count": 46
        }
      ]
    },
    {
      "cell_type": "markdown",
      "metadata": {
        "id": "8hFMR7NUV84D"
      },
      "source": [
        "### ✍ Exercise: Testing Your Model\n",
        "Now, let's evaluate our model's accuracy! Your model needs to **predict** the sentiment, and then you'll **calculate the accuracy** using `accuracy_score`. **Which dataset** should you use?"
      ]
    },
    {
      "cell_type": "code",
      "metadata": {
        "id": "SVdf84tuWQwM",
        "colab": {
          "base_uri": "https://localhost:8080/"
        },
        "outputId": "44e23453-e4ed-46c7-ae7b-cfc9f57cb8f5"
      },
      "source": [
        "y_pred = logistic_model.predict(X_test) #YOUR CODE HERE\n",
        "accuracy = accuracy_score(y_test, y_pred) #YOUR CODE HERE\n",
        "print(f'Accuracy: {accuracy:.2f}%')"
      ],
      "execution_count": null,
      "outputs": [
        {
          "output_type": "stream",
          "name": "stdout",
          "text": [
            "Accuracy: 0.73%\n"
          ]
        }
      ]
    },
    {
      "cell_type": "markdown",
      "metadata": {
        "id": "Zct-JZPQaXno"
      },
      "source": [
        "Congratulations - you've trained and tested your model! It's not perfect, but a whole lot better than a coin flip :)\n"
      ]
    },
    {
      "cell_type": "markdown",
      "metadata": {
        "id": "qiUFnTXrased"
      },
      "source": [
        "### ✍ Exercise: Trying Out Reviews\n",
        "\n",
        "Accuracy only tells us so much! It's often useful to figure out **what sorts** of mistakes your model makes.\n",
        "\n",
        "Try enterning some reviews below and explore:\n",
        "\n",
        "*   What kind of reviews does your model classify correctly? For example, do long or short reviews work better?\n",
        "*   What kind of reviews does your model get wrong? Does it understand sarcasm or other \"tricky\" language?\n",
        "*   Does it seem like your model pays attention to particular words?\n",
        "\n"
      ]
    },
    {
      "cell_type": "code",
      "metadata": {
        "id": "euuR1VWWEvsX",
        "colab": {
          "base_uri": "https://localhost:8080/"
        },
        "outputId": "da7f94f5-e510-4434-9bba-6c4e39247080"
      },
      "source": [
        "#@title Enter a review to see your model's classification\n",
        "example_review = \"this was  bad bad restaurant i dislike it\" #@param {type:'string'}\n",
        "prediction = logistic_model.predict(bow_transformer.transform([example_review]))\n",
        "\n",
        "if prediction:\n",
        "  print (\"This was a GOOD review!\")\n",
        "else:\n",
        "  print (\"This was a BAD review!\")\n",
        "\n"
      ],
      "execution_count": null,
      "outputs": [
        {
          "output_type": "stream",
          "name": "stdout",
          "text": [
            "This was a BAD review!\n"
          ]
        }
      ]
    },
    {
      "cell_type": "markdown",
      "source": [
        "#Exploring Impact and Ethics"
      ],
      "metadata": {
        "id": "HCpibGeVgy2i"
      }
    },
    {
      "cell_type": "markdown",
      "source": [
        "\n",
        "\n",
        "Whenever we explore a new potential use of AI, it is crucial to have a discussion about the **societal and ethical impact** if it were to be implemented at a large scale.\n",
        "\n",
        "*Illustration: erhui1979/iStock*"
      ],
      "metadata": {
        "id": "6cAMr90IfcQE"
      }
    },
    {
      "cell_type": "markdown",
      "source": [
        "<center> <img src=\"https://storage.googleapis.com/inspirit-ai-data-bucket-1/Data/AI%20Scholars/Sessions%201%20-%205/Session%203%20-%20NLP/AI%20Ethics.png\"> </center>"
      ],
      "metadata": {
        "id": "eDboCWKLlh6g"
      }
    },
    {
      "cell_type": "markdown",
      "source": [
        "### Who might this AI impact?\n",
        "\n",
        "Can you come up with 3 demographics or types of people that would be impacted by an AI that can classify restaurant reviews?"
      ],
      "metadata": {
        "id": "xEOJTWJxmEoI"
      }
    },
    {
      "cell_type": "code",
      "source": [
        "stakeholders = '' #@param {type:\"string\"}\n"
      ],
      "metadata": {
        "id": "4qISnUEcmumt"
      },
      "execution_count": null,
      "outputs": []
    },
    {
      "cell_type": "markdown",
      "source": [
        "\n",
        "\n",
        "*   **Discuss**: For each of those stakeholders, what are some benefits of this AI model? What are some drawbacks?\n",
        "\n",
        "\n",
        "> *Hint: What do each of those stakeholders care about?*\n",
        "\n",
        "\n",
        "\n",
        "* **Discuss**: What are some societal outcomes that can occur to if we had a lot of **false positives** (negative reviews misclassified as positive reviews)? How about **false negatives** (positive reviews misclassified as negative reviews)?\n",
        "\n",
        "*   **Discuss**: What are some potential sources of bias?\n",
        "\n",
        "*   **Discuss**: What are some other ethical questions you can come up with?\n",
        "\n",
        "\n",
        "\n",
        "\n"
      ],
      "metadata": {
        "id": "OLzQjhkpgoiY"
      }
    },
    {
      "cell_type": "markdown",
      "metadata": {
        "id": "ILybPDLAaphw"
      },
      "source": [
        "#(Optional) Exploring Your Model\n",
        "\n",
        "Let's explore your model in more depth."
      ]
    },
    {
      "cell_type": "markdown",
      "metadata": {
        "id": "Vsz6RA7qTS0O"
      },
      "source": [
        "###✍ Exercise: Viewing the Model Weights\n",
        "\n",
        "Now let's look at the weights of our model! Remember that logistic regression works by multiplying all of our inputs by weights, summing the results, and then converting that raw number to a probability score (between 0 and 1)! This means that we can look at the weight assigned to each input (or in our case word) to figure out how that word impacts our model!\n"
      ]
    },
    {
      "cell_type": "markdown",
      "source": [
        "\n",
        "<img src='https://storage.googleapis.com/inspirit-ai-data-bucket-1/Data/AI%20Scholars/Sessions%201%20-%205/Session%203%20-%20NLP/Linear_logistic_regression.jpg' >"
      ],
      "metadata": {
        "id": "N8XL3yam5_XQ"
      }
    },
    {
      "cell_type": "markdown",
      "source": [
        "A dictionary is a data structure that stores information in key:value pairs. You retrieve the value of a given key from a dictionary `d` by calling `d[key]` which returns the value. Similarly, you can assign a value to a key by calling `d[key] = value`.<br><br> In the case of NLP, we need to store our vocabulary in a dictionary, where the key is the word in string format and the value is the index of that word. So, to find the index of a word in our vocab dictionary we would call `vocab[word]`, which would then return the index. Similarly, we can assign a word an index by calling `vocab[word] = index`."
      ],
      "metadata": {
        "id": "R2AOx-WqiqT6"
      }
    },
    {
      "cell_type": "markdown",
      "source": [
        "Finish writing the following function! It takes in the following:\n",
        "\n",
        "* `word`: a word from our vocabulary\n",
        "* `model`: the logistic regression model whose weights we want to query.\n",
        "* `vocab_dict`: a dictionary containg word:index as the key:value pair.\n",
        "\n",
        "\n",
        "\n",
        "The function should then return the weight that the logistic regression model has learned for the word in question. (Hint: the model weights, also called coefficients, can be accessed by calling `model.coef_[0][id]`, where `id` is the index of the vocab word in question.)\n",
        "\n"
      ],
      "metadata": {
        "id": "2mbVUkzXfPTZ"
      }
    },
    {
      "cell_type": "code",
      "source": [
        "def get_word_weight(word,model,vocab_dict):\n",
        "  if word in vocab_dict:\n",
        "    #YOUR CODE HERE\n",
        "\n",
        "    return None #YOUR CODE HERE, replace the None\n",
        "  else:\n",
        "    return \"That word is not in our Vocabulary!\""
      ],
      "metadata": {
        "id": "nwT_d9822rIq"
      },
      "execution_count": null,
      "outputs": []
    },
    {
      "cell_type": "code",
      "source": [
        "#@title Input a sentence to see the weights of each word!\n",
        "sentence = \"\" #@param {type:'string'}\n",
        "words=tokenize(sentence)\n",
        "temp_weight_dict={}\n",
        "for word in words:\n",
        "  weight=get_word_weight(word,logistic_model,bow_transformer.vocabulary_)\n",
        "  temp_weight_dict[word]=weight\n",
        "print(temp_weight_dict,\"bias:  \"+str(logistic_model.intercept_[0]))\n"
      ],
      "metadata": {
        "id": "BWGttdpajfV7"
      },
      "execution_count": null,
      "outputs": []
    },
    {
      "cell_type": "markdown",
      "metadata": {
        "id": "AV0Fe3GpHd2_"
      },
      "source": [
        "### ✍ Exercise: Changing the Vocabulary Size\n"
      ]
    },
    {
      "cell_type": "markdown",
      "metadata": {
        "id": "m1i_LdIeHqgo"
      },
      "source": [
        "Experiment with changing the `max_features` attribute when you created the bag of words model: the maximum size of the vocabulary. Then re-train your model (you might find \"Runtime > Run after\" useful.)\n"
      ]
    },
    {
      "cell_type": "markdown",
      "source": [
        "### 💡 Discussion Question\n",
        "\n",
        "How does this affect the accuracy of your model? Why?"
      ],
      "metadata": {
        "id": "WZcZ9B-RDRiM"
      }
    },
    {
      "cell_type": "markdown",
      "metadata": {
        "id": "4k-2NwiLHL4w"
      },
      "source": [
        "### ✍ Exercise: Using a Different Classifier\n",
        "\n",
        "We used logistic regression for our baseline model, but there are many other classifier models we could use!\n",
        "\n",
        "One common model is called Multinomial Naive Bayes. Naive Bayes uses Bayes' Theorem of probability to predict the class of new input data. The important assumption that Naive Bayes makes is that all the features are independent: the number of times a review uses \"potato\" is unrelated to the number of times a review uses \"server\". (Do you think this is an accurate assumption??)\n",
        "\n",
        "Let's build a model using a Naive Bayes classifier!"
      ]
    },
    {
      "cell_type": "code",
      "metadata": {
        "id": "xPg0Y7cjHH2c"
      },
      "source": [
        "from sklearn.naive_bayes import MultinomialNB\n",
        "nb_model = MultinomialNB()"
      ],
      "execution_count": null,
      "outputs": []
    },
    {
      "cell_type": "markdown",
      "metadata": {
        "id": "5nqtNo_qIsbh"
      },
      "source": [
        "We can train and generate predictions from this model in the same way we did for our Logistic Regression model. Try training this model on the same data and see if it performs better or worse than our logistic regression model. Then, evaluate the model accuracy as you did for the Logistic Regression classifier.\n",
        "\n"
      ]
    },
    {
      "cell_type": "code",
      "metadata": {
        "id": "5q-UOCh0I0BR"
      },
      "source": [
        "###YOUR CODE HERE####"
      ],
      "execution_count": null,
      "outputs": []
    },
    {
      "cell_type": "markdown",
      "metadata": {
        "id": "8TffS4NT-BSS"
      },
      "source": [
        "Experiment with [other models](https://scikit-learn.org/stable/auto_examples/classification/plot_classifier_comparison.html) to try to get the highest accuracy!"
      ]
    },
    {
      "cell_type": "markdown",
      "metadata": {
        "id": "xFeI61HGY2Kt"
      },
      "source": [
        "# Optional (Advanced): Training Logistic Regression with Word Embeddings"
      ]
    },
    {
      "cell_type": "markdown",
      "metadata": {
        "id": "6mLW7krRcBIG"
      },
      "source": [
        "## Interlude: Word Embeddings\n",
        "\n",
        "By the way, there's another way we could have converted our text to vectors: using **word embeddings** like Word2Vec.\n",
        "\n",
        "Let's explore word embeddings using a library called Spacy, which comes built-in with lots of useful information about the English language. Let's prepare a useful function from Spacy:"
      ]
    },
    {
      "cell_type": "code",
      "metadata": {
        "id": "Nuu0QFg-VOiN"
      },
      "source": [
        "text_to_nlp = en_core_web_md.load() #Prepare Spacy"
      ],
      "execution_count": null,
      "outputs": []
    },
    {
      "cell_type": "markdown",
      "metadata": {
        "id": "eYov_nu-VXQn"
      },
      "source": [
        "`text_to_nlp` lets us find lots of information about a sentence. For example, we can pick out a specific word:"
      ]
    },
    {
      "cell_type": "code",
      "metadata": {
        "id": "ldEPkz8NcI6_"
      },
      "source": [
        "doc = text_to_nlp(\"I like apples and cherries and peaches and pie\")\n",
        "token = doc[2] #Try changing this!\n",
        "print (token)\n",
        "print (len(token))"
      ],
      "execution_count": null,
      "outputs": []
    },
    {
      "cell_type": "markdown",
      "metadata": {
        "id": "EWyXczXkePiI"
      },
      "source": [
        "We can also find the **word embedding** for each word: a 300-dimensional vector that captures the word's meaning!"
      ]
    },
    {
      "cell_type": "code",
      "metadata": {
        "id": "E0tBmojQeNhn"
      },
      "source": [
        "print ('Vector for: ', token)\n",
        "print (token.vector)"
      ],
      "execution_count": null,
      "outputs": []
    },
    {
      "cell_type": "markdown",
      "metadata": {
        "id": "JBagECaVMQXZ"
      },
      "source": [
        "### ✍ Exercise: Exploring Similarity\n",
        "\n",
        "A neat thing you can do with word embeddings is calculate similarity, like this:\n",
        "\n",
        "```\n",
        "doc = text_to_nlp(u\"keyboard and mouse\")\n",
        "word1 = doc[0]\n",
        "word2 = doc[2]\n",
        "word1.similarity(word2)\n",
        "```\n",
        "\n",
        "Using the example above, try to find **two words with similarity greater than .80** and **two words with similarity less than .15**!"
      ]
    },
    {
      "cell_type": "code",
      "metadata": {
        "id": "ZD8fVPwlM4Bn"
      },
      "source": [
        "### YOUR CODE HERE\n",
        "doc = text_to_nlp(u\"guitar and piano\")\n",
        "word1 = doc[0]\n",
        "word2 = doc[2]\n",
        "word1.similarity(word2)\n",
        "### END CODE"
      ],
      "execution_count": null,
      "outputs": []
    },
    {
      "cell_type": "markdown",
      "metadata": {
        "id": "E1myx2wBXQmH"
      },
      "source": [
        "Check out the challenge exercises if you're interested in exploring word embeddings further with our Yelp dataset."
      ]
    },
    {
      "cell_type": "markdown",
      "metadata": {
        "id": "b9DUXQXSaMPU"
      },
      "source": [
        "As we've discussed, there's an alternative to bag-of-words: we can use word embeddings to get more sophisticated representations of our reviews. Let's try it out!\n"
      ]
    },
    {
      "cell_type": "markdown",
      "metadata": {
        "id": "9_n7uJ20a_yH"
      },
      "source": [
        "We'll use this helper function to remove stop words, pronouns, and punctuation, and convert each word to a spaCy object (we can use `token.vector` later)."
      ]
    },
    {
      "cell_type": "code",
      "metadata": {
        "id": "QAOs86fEQ_2l"
      },
      "source": [
        "def tokenize_vecs(text):\n",
        "    clean_tokens = []\n",
        "    for token in text_to_nlp(text):\n",
        "        if (not token.is_stop) & (token.lemma_ != '-PRON-') & (not token.is_punct):\n",
        "          # -PRON- is a special all inclusive \"lemma\" spaCy uses for any pronoun, we want to exclude these\n",
        "            clean_tokens.append(token)\n",
        "    return clean_tokens"
      ],
      "execution_count": null,
      "outputs": []
    },
    {
      "cell_type": "markdown",
      "metadata": {
        "id": "Z0XqDYs_b4V8"
      },
      "source": [
        "We want to represent each Yelp review with a vector. Since each review consists of multiple words, we want to find a way to create one vector for each review.\n",
        "\n",
        "Would adding the word vectors work? What about averaging? Which would be preferable?\n",
        "\n",
        "Implement your solution below: convert our array of reviews into an array of vector representations of those reviews."
      ]
    },
    {
      "cell_type": "code",
      "metadata": {
        "id": "4tKKKLymMNsd"
      },
      "source": [
        "X_word2vec = []\n",
        "for text in X_text:\n",
        "  review = tokenize_vecs(text) # returns cleaned list of spacy tokens\n",
        "  #### YOUR CODE HERE\n",
        "\n",
        "\n",
        "  #### END CODE\n",
        "\n",
        "X_word2vec = np.array(X_word2vec)"
      ],
      "execution_count": null,
      "outputs": []
    },
    {
      "cell_type": "markdown",
      "metadata": {
        "id": "frxz5RO5c0ft"
      },
      "source": [
        "Now, test and train a logistic regression mode! Remember to create new training and testing data using `X_word2vec`."
      ]
    },
    {
      "cell_type": "code",
      "metadata": {
        "id": "0c7m639IGVuT"
      },
      "source": [
        "#YOUR CODE HERE"
      ],
      "execution_count": null,
      "outputs": []
    },
    {
      "cell_type": "markdown",
      "metadata": {
        "id": "ehdlMAFaHByC"
      },
      "source": [
        "### 💡 Discussion Question\n",
        "\n",
        "Can you explain the results?"
      ]
    },
    {
      "cell_type": "markdown",
      "metadata": {
        "id": "zcqbg3NSNriB"
      },
      "source": [
        "# Optional (Challenge): Word Embedding Math\n",
        "\n",
        "(Heads-up: this challenge section is math-heavy!)"
      ]
    },
    {
      "cell_type": "markdown",
      "metadata": {
        "id": "kTyeFBh0CbNO"
      },
      "source": [
        "One reason text embeddings are cool is that we can use them to explore connections in meaning between different words, including calculating similarity between words and completing [analogies](http://epsilon-it.utu.fi/wv_demo/).\n",
        "\n",
        "We'll start by creating a dictionary containing the vectors for all the words in our vocabulary. We'll stick to the vocabulary above of 800 words from the Yelp reviews - if you want to use more words, change that number!"
      ]
    },
    {
      "cell_type": "code",
      "metadata": {
        "id": "cHlGBkBKoUPI"
      },
      "source": [
        "vocab_dict = dict() #initialize dictionary\n",
        "\n",
        "for word in bow_transformer.vocabulary_:\n",
        "    vocab_dict[word] = text_to_nlp(word).vector # What is the key? What is the value?\n",
        "\n",
        "for word, vec in vocab_dict.items(): # Iterating through the dictionary to print each key and value\n",
        "  print ('Word: {}. Vector length: {}'.format(word, len(vec)))\n",
        "\n",
        "print()\n",
        "print ('{} words in our dictionary'.format(len(vocab_dict)))"
      ],
      "execution_count": null,
      "outputs": []
    },
    {
      "cell_type": "markdown",
      "metadata": {
        "id": "WPCcIyTpDuab"
      },
      "source": [
        "Next, let's calculate the similarity between two words, using their Word2Vec representations.\n",
        "\n",
        "A common way to calculate the similarity between two vectors is called *cosine similarity*. It depends on the angle between those two vectors when plotted in space. As an example, imagine we had two three-dimensional vectors:"
      ]
    },
    {
      "cell_type": "code",
      "metadata": {
        "id": "omAmAv88GZUp"
      },
      "source": [
        "v0 = [2,3,1]\n",
        "v1 = [2,4,1]"
      ],
      "execution_count": null,
      "outputs": []
    },
    {
      "cell_type": "markdown",
      "metadata": {
        "id": "owbBQZUgGgjs"
      },
      "source": [
        "Run the code below to plot those vectors, and try changing the numbers above.\n",
        "How can you make a very small angle between the vectors? How can you make a very large angle?"
      ]
    },
    {
      "cell_type": "code",
      "metadata": {
        "id": "QtbbBLgcFmE0"
      },
      "source": [
        "#@title Run this to create an interactive 3D plot\n",
        "#Code from https://stackoverflow.com/questions/47319238/python-plot-3d-vectors\n",
        "import numpy as np\n",
        "import plotly.graph_objs as go\n",
        "\n",
        "def vector_plot(tvects,is_vect=True,orig=[0,0,0]):\n",
        "    \"\"\"Plot vectors using plotly\"\"\"\n",
        "\n",
        "    if is_vect:\n",
        "        if not hasattr(orig[0],\"__iter__\"):\n",
        "            coords = [[orig,np.sum([orig,v],axis=0)] for v in tvects]\n",
        "        else:\n",
        "            coords = [[o,np.sum([o,v],axis=0)] for o,v in zip(orig,tvects)]\n",
        "    else:\n",
        "        coords = tvects\n",
        "\n",
        "    data = []\n",
        "    for i,c in enumerate(coords):\n",
        "        X1, Y1, Z1 = zip(c[0])\n",
        "        X2, Y2, Z2 = zip(c[1])\n",
        "        vector = go.Scatter3d(x = [X1[0],X2[0]],\n",
        "                              y = [Y1[0],Y2[0]],\n",
        "                              z = [Z1[0],Z2[0]],\n",
        "                              marker = dict(size = [0,5],\n",
        "                                            color = ['blue'],\n",
        "                                            line=dict(width=5,\n",
        "                                                      color='DarkSlateGrey')),\n",
        "                              name = 'Vector'+str(i+1))\n",
        "        data.append(vector)\n",
        "\n",
        "    layout = go.Layout(\n",
        "             margin = dict(l = 4,\n",
        "                           r = 4,\n",
        "                           b = 4,\n",
        "                           t = 4)\n",
        "                  )\n",
        "    fig = go.Figure(data=data,layout=layout)\n",
        "    fig.show()\n",
        "\n",
        "\n",
        "vector_plot([v0,v1])"
      ],
      "execution_count": null,
      "outputs": []
    },
    {
      "cell_type": "markdown",
      "metadata": {
        "id": "y7xDNfU3HUE3"
      },
      "source": [
        "For our Word2Vec vectors, we can imagine doing the same thing in 300-dimensional space. Of course, it's much harder to plot that! [Here](https://projector.tensorflow.org/) is one representation that you can play around with.\n",
        "\n",
        "Then we find the cosine of the angle between the two vectors to get the similarity.\n",
        "\n",
        "If the vectors are exactly the same, the angle will be 0, so we get a similarity of $\\cos(0) = 1$.\n",
        "\n",
        "If the vectors are exactly opposite, the angle will be 180 degrees, so we get a similarity of $\\cos(180) = -1$.\n",
        "\n",
        "There's a useful [mathematical trick](https://www.mathsisfun.com/algebra/vectors-dot-product.html) to find the cosine similarity:\n",
        "\n",
        "<center> <img src=\"https://wikimedia.org/api/rest_v1/media/math/render/svg/1d94e5903f7936d3c131e040ef2c51b473dd071d\"> </center>\n",
        "\n",
        "Where $A_1, A_2, ..., A_{300}$ are the elements of the first vector and $B_1, B_2, ..., B_{300}$ are the elements of the second vector.\n",
        "\n",
        "Please implement cosine similarity below, and test it out using our 3-dimensional vectors from above. Do the results make sense?\n"
      ]
    },
    {
      "cell_type": "code",
      "metadata": {
        "id": "fAnA_KdoNqr-"
      },
      "source": [
        "def vector_cosine_similarity(vec1, vec2):\n",
        "  # YOUR CODE HERE\n",
        "  pass\n",
        "  # Return a number between -1 and 1\n",
        "\n",
        "print(vector_cosine_similarity(v0, v1))"
      ],
      "execution_count": null,
      "outputs": []
    },
    {
      "cell_type": "markdown",
      "metadata": {
        "id": "IJ2JQmZELItA"
      },
      "source": [
        "Now, use your cosine similarity function to calculate the similarity between two words. Try out a few words from the dataset - what pairs of words can you find that are particularly similar or particularly dissimilar?"
      ]
    },
    {
      "cell_type": "code",
      "metadata": {
        "id": "KwC6EioNJHKR"
      },
      "source": [
        "def word_similarity(word1, word2):\n",
        "  # Should return a similarity between -1 and 1\n",
        "\n",
        "  try:\n",
        "    vec1 = vocab_dict[word1]\n",
        "    vec2 = vocab_dict[word2]\n",
        "\n",
        "    # YOUR CODE HERE: Fill in the return statement here\n",
        "\n",
        "  except KeyError:\n",
        "    print ('Word not in dictionary')\n",
        "\n",
        "print(word_similarity('burger', 'steak'))"
      ],
      "execution_count": null,
      "outputs": []
    },
    {
      "cell_type": "markdown",
      "metadata": {
        "id": "w8KKXG2BLz7K"
      },
      "source": [
        "Now, we can use our functions above to find the *most* similar words to any particular word.\n",
        "\n",
        "`find_most_similar(start_vec)` should output the top 5 words whose vectors are most similar to start_vec, with their similarities. Please fill it in.\n"
      ]
    },
    {
      "cell_type": "code",
      "metadata": {
        "id": "mgNpY_wZpG5A"
      },
      "source": [
        "def find_nearest_neighbor(word):\n",
        "  try:\n",
        "    vec = vocab_dict[word]\n",
        "    find_most_similar(vec)\n",
        "  except KeyError:\n",
        "    print ('Word not in dictionary')\n",
        "\n",
        "def find_most_similar(start_vec):\n",
        "  #Should print the top 5 most similar words to start_vec, and their similarities.,\n",
        "  #Hint: use a for loop to iterate through vocab_dict.\n",
        "  #Consider using a Pandas series.\n",
        "\n",
        "  #YOUR CODE HERE\n",
        "  pass\n",
        "\n",
        "find_nearest_neighbor('bagel')"
      ],
      "execution_count": null,
      "outputs": []
    },
    {
      "cell_type": "markdown",
      "metadata": {
        "id": "rxcyY1YZO9u5"
      },
      "source": [
        "Finally, we can use the functions we've built to complete word analogies, like the ones you can try out [here](http://epsilon-it.utu.fi/wv_demo/). For example:\n",
        "\n",
        "*   Breakfast is to bagel as lunch is to ________,\n",
        "\n",
        "This requires a bit of \"word arithmetic\":\n",
        "let's say A1, A2, and B1 are vectors for three words we know. We're trying to find B2 to complete\n",
        "\n",
        "*   A1 is to A2 as B1 is to B2.\n",
        "\n",
        "Intuitively, this means that the difference between A1 and A2 is the same as the difference between B1 and B2. So we write\n",
        "\n",
        "*   A1 - A2 = B1 - B2\n",
        "\n",
        "**Solve for B2:**\n",
        "\n",
        "*   B2 = ________________\n",
        "\n",
        "Once we know the vector that we \"expect\" for B2, we can use our previous functions to find the word whose representation is closest to that vector. Try it out!"
      ]
    },
    {
      "cell_type": "code",
      "metadata": {
        "id": "QfTeKGqYLw_1"
      },
      "source": [
        "def find_analogy(word_a1, word_a2, word_b1):\n",
        "  # Convert the words to vectors a1, a2, b1\n",
        "  # If word_a1:word_a2 as word_b1:word_b2, then\n",
        "  # a1 - a2 = b1 - b2\n",
        "  # So b2 = ...\n",
        "  # Calculate b2, and use your previous functions to find the best candidates for word_b2.\n",
        "\n",
        "  # YOUR CODE HERE\n",
        "  pass\n",
        "\n",
        "find_analogy('breakfast', 'bagel', 'lunch')"
      ],
      "execution_count": null,
      "outputs": []
    },
    {
      "cell_type": "markdown",
      "metadata": {
        "id": "zlDcBn9kQxNR"
      },
      "source": [
        "Word arithmetic doesn't always work perfectly - it's pretty tricky to find good examples! Which can you discover?\n",
        "\n",
        "If you're looking for a way to expand further on this exercise, you can try seeing what happens when you use [Euclidean distance](https://en.wikipedia.org/wiki/Euclidean_distance), another common measurement, instead of cosine similarity."
      ]
    }
  ]
}