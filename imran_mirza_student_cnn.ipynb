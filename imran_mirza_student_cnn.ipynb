{
  "cells": [
    {
      "cell_type": "markdown",
      "metadata": {
        "id": "view-in-github",
        "colab_type": "text"
      },
      "source": [
        "<a href=\"https://colab.research.google.com/github/Imran123885/InspiritAI_work/blob/main/imran_mirza_student_cnn.ipynb\" target=\"_parent\"><img src=\"https://colab.research.google.com/assets/colab-badge.svg\" alt=\"Open In Colab\"/></a>"
      ]
    },
    {
      "cell_type": "markdown",
      "metadata": {
        "id": "TiM6gYg0nhkY"
      },
      "source": [
        "<font color=\"#de3023\"><h1><b>REMINDER MAKE A COPY OF THIS NOTEBOOK, DO NOT EDIT</b></h1></font>"
      ]
    },
    {
      "cell_type": "markdown",
      "metadata": {
        "id": "Sq-JhCcLpBwS"
      },
      "source": [
        "#Conscientious Cars 2: Convolutional Neural Nets\n",
        "\n",
        "Welcome back to CC: ConscientiousCars! Today, we'll be improving on our system for distinguishing dogs from roads."
      ]
    },
    {
      "cell_type": "code",
      "execution_count": null,
      "metadata": {
        "id": "uhNVum16scIW"
      },
      "outputs": [],
      "source": [
        "#@title Run this to load some packages and data! { display-mode: \"form\" }\n",
        "from sklearn.neural_network import MLPClassifier\n",
        "from sklearn.neighbors import KNeighborsClassifier\n",
        "from sklearn import model_selection\n",
        "from sklearn.metrics import accuracy_score\n",
        "from collections import Counter\n",
        "import tensorflow.keras as keras\n",
        "from keras.models import Sequential\n",
        "from keras.layers import Dense, Conv2D, InputLayer\n",
        "from keras.layers import Activation, MaxPooling2D, Dropout, Flatten, Reshape\n",
        "from keras.utils import to_categorical\n",
        "import numpy as np\n",
        "import pandas as pd\n",
        "import seaborn as sns\n",
        "import matplotlib.pyplot as plt\n",
        "\n",
        "import warnings\n",
        "warnings.filterwarnings(\"ignore\", category=UserWarning)\n",
        "\n",
        "\n",
        "def categorical_to_numpy(labels_in):\n",
        "  labels = []\n",
        "  for label in labels_in:\n",
        "    if label == 'dog':\n",
        "      labels.append(np.array([1, 0]))\n",
        "    else:\n",
        "      labels.append(np.array([0, 1]))\n",
        "  return np.array(labels)\n",
        "\n",
        "def one_hot_encoding(input):\n",
        "  output = np.zeros((input.size, input.max()+1))\n",
        "  output[np.arange(input.size), input] = 1\n",
        "\n",
        "  return output\n",
        "\n",
        "\n",
        "def load_data():\n",
        "  # Run this cell to download our data into a file called 'cifar_data'\n",
        "  !wget -O cifar_data https://storage.googleapis.com/inspirit-ai-data-bucket-1/Data/AI%20Scholars/Sessions%201%20-%205/Session%204%20_%205%20-%20Neural%20Networks%20_%20CNN/dogs_v_roads\n",
        "\n",
        "  # now load the data from our cloud computer\n",
        "  import pickle\n",
        "  data_dict = pickle.load(open( \"cifar_data\", \"rb\" ));\n",
        "\n",
        "  data   = data_dict['data']\n",
        "  labels = data_dict['labels']\n",
        "\n",
        "  return data, labels\n",
        "\n",
        "def plot_one_image(data, labels, img_idx):\n",
        "  from google.colab.patches import cv2_imshow\n",
        "  import cv2\n",
        "  import matplotlib.pyplot as plt\n",
        "\n",
        "  my_img   = data[img_idx, :].reshape([32,32,3]).copy()\n",
        "  my_label = labels[img_idx]\n",
        "  print(f'label: {my_label}')\n",
        "\n",
        "  fig, ax = plt.subplots(1,1)\n",
        "  img = ax.imshow(my_img.astype('uint8'), extent=[-1,1,-1,1])\n",
        "\n",
        "  x_label_list = [0, 8, 16, 24, 32]\n",
        "  y_label_list = [0, 8, 16, 24, 32]\n",
        "\n",
        "  ax.set_xticks([-1, -0.5, 0, 0.5, 1])\n",
        "  ax.set_yticks([-1, -0.5, 0, 0.5, 1])\n",
        "\n",
        "  ax.set_xticklabels(x_label_list)\n",
        "  ax.set_yticklabels(y_label_list)\n",
        "\n",
        "  fig.show(img)\n",
        "\n",
        "def logits_to_one_hot_encoding(input):\n",
        "    \"\"\"\n",
        "    Converts softmax output (logits) to a one-hot encoded format.\n",
        "\n",
        "    This function takes an array of softmax output probabilities\n",
        "    (usually from a neural network's output layer) and converts\n",
        "    each row to a one-hot encoded vector. The highest probability\n",
        "    in each row is marked as 1, with all other values set to 0.\n",
        "\n",
        "    Parameters:\n",
        "    input (numpy.ndarray): A 2D array where each row contains softmax probabilities for each class.\n",
        "                            The shape of the array is (n_samples, n_classes).\n",
        "\n",
        "    Returns:\n",
        "    numpy.ndarray: A 2D array of the same shape as the input, where each row is the one-hot encoded representation\n",
        "                   of the class with the highest probability in the original row.\n",
        "    \"\"\"\n",
        "\n",
        "    output = np.zeros_like(input, dtype=int)\n",
        "    output[np.arange(len(input)), np.argmax(input, axis=1)] = 1\n",
        "    return output\n",
        "\n",
        "\n",
        "class CNNClassifier:\n",
        "    \"\"\"\n",
        "    A Convolutional Neural Network (CNN) classifier using Keras, customized for binary classification tasks.\n",
        "\n",
        "    This class wraps a Keras Sequential model with a specific architecture suitable for image classification tasks.\n",
        "    It includes a custom `predict` method that outputs one-hot encoded predictions, and other standard Keras model\n",
        "    methods are accessible as well. This was done to override the need for the SciKeras wrappers that is frequently\n",
        "    incompatible with Google Colab versions of Keras & Tensorflow. Feel free to modify as needed.\n",
        "\n",
        "    Attributes:\n",
        "        num_epochs (int): The number of training epochs.\n",
        "        layers (int): The number of convolutional layers in the model.\n",
        "        dropout (float): The dropout rate used in dropout layers for regularization.\n",
        "        model (keras.models.Sequential): The underlying Keras Sequential model.\n",
        "\n",
        "    Methods:\n",
        "        build_model(): Constructs the CNN model with the specified architecture and compiles it.\n",
        "\n",
        "        fit(*args, **kwargs): Trains the model. Accepts arguments compatible with the Keras `fit` method.\n",
        "\n",
        "        predict(*args, **kwargs): Predicts labels for the input data. Converts the softmax output of the model\n",
        "                                  to one-hot encoded format using `logits_to_one_hot_encoding`. Necessary to match\n",
        "                                  accuracy_score function expected arguments.\n",
        "\n",
        "        predict_proba(*args, **kwargs): Predicts labels for the input data and returns the raw output of the softmax.\n",
        "                                        Used when wanting to inspect the raw probabilistic scoring of the model.\n",
        "\n",
        "    Usage:\n",
        "        cnn_classifier = CNNClassifier(num_epochs=30, layers=4, dropout=0.5)\n",
        "        cnn_classifier.fit(X_train, y_train)\n",
        "        predictions = cnn_classifier.predict(X_test)\n",
        "\n",
        "    Note:\n",
        "        The `__getattr__` method is overridden to delegate attribute access to the underlying Keras model,\n",
        "        except for the `predict` method which is customized.\n",
        "    \"\"\"\n",
        "    def __init__(self, num_epochs=30, layers=4, dropout=0.5):\n",
        "        self.num_epochs = num_epochs\n",
        "        self.layers = layers\n",
        "        self.dropout = dropout\n",
        "        self.model = self.build_model()\n",
        "\n",
        "    def build_model(self):\n",
        "        model = Sequential()\n",
        "        model.add(Reshape((32, 32, 3)))\n",
        "\n",
        "        for i in range(self.layers):\n",
        "          model.add(Conv2D(32, (3, 3), padding='same'))\n",
        "          model.add(Activation('relu'))\n",
        "\n",
        "        model.add(Conv2D(32, (3, 3)))\n",
        "        model.add(Activation('relu'))\n",
        "        model.add(MaxPooling2D(pool_size=(2, 2)))\n",
        "        model.add(Dropout(self.dropout))\n",
        "\n",
        "        model.add(Conv2D(64, (3, 3), padding='same'))\n",
        "        model.add(Activation('relu'))\n",
        "        model.add(Conv2D(64, (3, 3)))\n",
        "        model.add(Activation('relu'))\n",
        "        model.add(MaxPooling2D(pool_size=(2, 2)))\n",
        "        model.add(Dropout(self.dropout))\n",
        "\n",
        "        model.add(Flatten())\n",
        "        model.add(Dense(512))\n",
        "        model.add(Activation('relu'))\n",
        "        model.add(Dropout(self.dropout))\n",
        "        model.add(Dense(2))\n",
        "        model.add(Activation('softmax'))\n",
        "        opt = keras.optimizers.legacy.RMSprop(learning_rate=0.0001, decay=1e-6)\n",
        "        model.compile(loss='categorical_crossentropy', optimizer=opt, metrics=['accuracy'])\n",
        "\n",
        "        return model\n",
        "\n",
        "    def fit(self, *args, **kwargs):\n",
        "        return self.model.fit(*args, epochs=self.num_epochs, batch_size=10, verbose=2, **kwargs)\n",
        "\n",
        "    #NOTE: WRITTEN TO RETURN ONE HOT ENCODINGS FOR ACCURACY\n",
        "    def predict(self, *args, **kwargs):\n",
        "        predictions = self.model.predict(*args, **kwargs)\n",
        "        return logits_to_one_hot_encoding(predictions)\n",
        "\n",
        "    def predict_proba(self, *args, **kwargs):\n",
        "        predictions = self.model.predict(*args, **kwargs)\n",
        "        return predictions\n",
        "\n",
        "    def score(self, X, y):\n",
        "        predictions = self.predict(X)\n",
        "        return accuracy_score(y, predictions)\n",
        "\n",
        "    def __getattr__(self, name):\n",
        "        if name != 'predict' and name != 'predict_proba':\n",
        "            return getattr(self.model, name)\n",
        "        else:\n",
        "            raise AttributeError(f\"'{self.__class__.__name__}' object has no attribute '{name}'\")\n",
        "\n",
        "\n",
        "def plot_acc(history, ax = None, xlabel = 'Epoch #'):\n",
        "    history = history.history\n",
        "    history.update({'epoch':list(range(len(history['val_accuracy'])))})\n",
        "    history = pd.DataFrame.from_dict(history)\n",
        "\n",
        "    best_epoch = history.sort_values(by = 'val_accuracy', ascending = False).iloc[0]['epoch']\n",
        "\n",
        "    if not ax:\n",
        "      f, ax = plt.subplots(1,1)\n",
        "    sns.lineplot(x = 'epoch', y = 'val_accuracy', data = history, label = 'Validation', ax = ax)\n",
        "    sns.lineplot(x = 'epoch', y = 'accuracy', data = history, label = 'Training', ax = ax)\n",
        "    ax.axhline(0.5, linestyle = '--',color='red', label = 'Chance')\n",
        "    ax.axvline(x = best_epoch, linestyle = '--', color = 'green', label = 'Best Epoch')\n",
        "    ax.legend(loc = 7)\n",
        "    ax.set_ylim([0.4, 1])\n",
        "\n",
        "    ax.set_xlabel(xlabel)\n",
        "    ax.set_ylabel('Accuracy (Fraction)')\n",
        "\n",
        "    plt.show()\n",
        "\n",
        "def model_to_string(model):\n",
        "    import re\n",
        "    stringlist = []\n",
        "    model.summary(print_fn=lambda x: stringlist.append(x))\n",
        "    sms = \"\\n\".join(stringlist)\n",
        "    sms = re.sub('_\\d\\d\\d','', sms)\n",
        "    sms = re.sub('_\\d\\d','', sms)\n",
        "    sms = re.sub('_\\d','', sms)\n",
        "    return sms"
      ]
    },
    {
      "cell_type": "markdown",
      "metadata": {
        "id": "wkseZ14ms7vs"
      },
      "source": [
        "In this notebook, we will:\n",
        "\n",
        "- Use a pre-built CNN function to classify roads vs. dogs.\n",
        "- Build neural networks from scratch in Keras.\n",
        "- Experiment with building CNN models from scratch in Keras.\n",
        "- (Advanced, Optional) Build CNN models for distinguishing cats from dogs, and even experiment with implementing a famous architecture!\n"
      ]
    },
    {
      "cell_type": "markdown",
      "metadata": {
        "id": "qMWQRlTqt6Yn"
      },
      "source": [
        "<font color=darkorange>**Change Hardware Accelerator to GPU to train faster (Runtime -> Change Runtime Type -> Hardware Accelerator -> GPU)**"
      ]
    },
    {
      "cell_type": "markdown",
      "metadata": {
        "id": "1QxGsnvhnn8R"
      },
      "source": [
        "#Loading in Data"
      ]
    },
    {
      "cell_type": "markdown",
      "metadata": {
        "id": "btr24O6Hqgo6"
      },
      "source": [
        "Once again, let's load in our dog/road dataset and create our training and test set. **What's the shape of each dataset? Why?**"
      ]
    },
    {
      "cell_type": "code",
      "execution_count": null,
      "metadata": {
        "id": "MmZbrZoKnthN",
        "colab": {
          "base_uri": "https://localhost:8080/"
        },
        "outputId": "25ae4b5f-8ef9-4799-9fa2-53cdb517ef74"
      },
      "outputs": [
        {
          "output_type": "stream",
          "name": "stdout",
          "text": [
            "--2024-02-17 05:14:19--  https://storage.googleapis.com/inspirit-ai-data-bucket-1/Data/AI%20Scholars/Sessions%201%20-%205/Session%204%20_%205%20-%20Neural%20Networks%20_%20CNN/dogs_v_roads\n",
            "Resolving storage.googleapis.com (storage.googleapis.com)... 142.251.2.207, 2607:f8b0:4023:c0d::cf, 2607:f8b0:4023:c06::cf\n",
            "Connecting to storage.googleapis.com (storage.googleapis.com)|142.251.2.207|:443... connected.\n",
            "HTTP request sent, awaiting response... 200 OK\n",
            "Length: 3689015 (3.5M) [application/octet-stream]\n",
            "Saving to: ‘cifar_data’\n",
            "\n",
            "\rcifar_data            0%[                    ]       0  --.-KB/s               \rcifar_data          100%[===================>]   3.52M  --.-KB/s    in 0.02s   \n",
            "\n",
            "2024-02-17 05:14:19 (176 MB/s) - ‘cifar_data’ saved [3689015/3689015]\n",
            "\n",
            "Requirement already satisfied: icecream in /usr/local/lib/python3.10/dist-packages (2.1.3)\n",
            "Requirement already satisfied: colorama>=0.3.9 in /usr/local/lib/python3.10/dist-packages (from icecream) (0.4.6)\n",
            "Requirement already satisfied: pygments>=2.2.0 in /usr/local/lib/python3.10/dist-packages (from icecream) (2.16.1)\n",
            "Requirement already satisfied: executing>=0.3.1 in /usr/local/lib/python3.10/dist-packages (from icecream) (2.0.1)\n",
            "Requirement already satisfied: asttokens>=2.0.1 in /usr/local/lib/python3.10/dist-packages (from icecream) (2.4.1)\n",
            "Requirement already satisfied: six>=1.12.0 in /usr/local/lib/python3.10/dist-packages (from asttokens>=2.0.1->icecream) (1.16.0)\n"
          ]
        },
        {
          "output_type": "stream",
          "name": "stderr",
          "text": [
            "ic| X_train.shape: (960, 3072)\n",
            "    y_train.shape: (960, 2)\n",
            "    X_test.shape: (240, 3072)\n",
            "    y_test.shape: (240, 2)\n"
          ]
        },
        {
          "output_type": "execute_result",
          "data": {
            "text/plain": [
              "((960, 3072), (960, 2), (240, 3072), (240, 2))"
            ]
          },
          "metadata": {},
          "execution_count": 16
        }
      ],
      "source": [
        "# Load our data\n",
        "data_raw, labels_raw = load_data()\n",
        "data = data_raw.astype(float)\n",
        "labels = categorical_to_numpy(labels_raw)\n",
        "X_train, X_test, y_train, y_test = model_selection.train_test_split(data, labels, test_size=0.2, random_state=1)\n",
        "\n",
        "# Find the shape of our dataset using the shape attribute!\n",
        "### YOUR CODE HERE\n",
        "!pip install icecream\n",
        "from icecream import ic\n",
        "ic(X_train.shape, y_train.shape, X_test.shape, y_test.shape)\n",
        "### END CODE"
      ]
    },
    {
      "cell_type": "markdown",
      "metadata": {
        "id": "VcZra2S0NNSZ"
      },
      "source": [
        "Use the cell below as a reminder of what the data looks like."
      ]
    },
    {
      "cell_type": "code",
      "execution_count": null,
      "metadata": {
        "id": "B83F3CmPNSux",
        "colab": {
          "base_uri": "https://localhost:8080/",
          "height": 452
        },
        "outputId": "931ae10d-d19a-4a4d-a856-8cfe0e27ac8a"
      },
      "outputs": [
        {
          "output_type": "stream",
          "name": "stdout",
          "text": [
            "label: dog\n"
          ]
        },
        {
          "output_type": "display_data",
          "data": {
            "text/plain": [
              "<Figure size 640x480 with 1 Axes>"
            ],
            "image/png": "[encoded data removed]"
          },
          "metadata": {}
        }
      ],
      "source": [
        "plot_one_image(data_raw, labels_raw, 300) # change this number"
      ]
    },
    {
      "cell_type": "markdown",
      "metadata": {
        "id": "37O_VE_D1Bdy"
      },
      "source": [
        "# Models for Vision: Convolutional Neural Networks"
      ]
    },
    {
      "cell_type": "markdown",
      "metadata": {
        "id": "GqrfI4JiVeFr"
      },
      "source": [
        "###Exercise: Exploring Hyperparameters ✍️\n",
        "\n",
        "As you know, there is a famous type of neural network known as convolutional neural networks (CNNs). These types of neural networks work particularly well on problems to do with computer vision. Let's try one out!\n",
        "\n",
        "To load up a simple CNN, just run the following! The `CNNClassifier` is a custom class we've built for you that mimics the behavior of the scikit-learn models you're used to. Feel free to check out the set-up cell to see how it's built, especially after you've finished up building your Keras models later in the notebook!\n",
        "\n",
        "```python\n",
        "cnn = CNNClassifier(num_epochs, layers, dropout)\n",
        "```\n",
        "\n",
        "Here are some quick descriptions of each parameter; try to figure out how each might affect the model's performance!\n",
        "\n",
        "- **`num_epochs`**: the number of times we allow our model to train on the entire training dataset\n",
        "- **`layers`**: the number of convolutional layers we'd like to add to our model\n",
        "- **`dropout`**: the probability a given neuron's weight in a given layer is set to 0 during training.\n",
        "\n",
        "\n",
        "**Try different values of num_epochs, layers, and dropout so that you get the best possible accuracy on the test set!**\n",
        "\n",
        "*Tip*: You can use `model.score()` to find that accuracy, as we do below. This method allows us to give all the test data to the model for it to determine the accuracy score, thereby saving us the trouble of saving the predictions and calculating the score ourselves!"
      ]
    },
    {
      "cell_type": "code",
      "execution_count": null,
      "metadata": {
        "id": "bmC3-T4KRJgW",
        "colab": {
          "base_uri": "https://localhost:8080/"
        },
        "outputId": "20d524f7-1c8b-4180-bfac-37b3d199dcf7"
      },
      "outputs": [
        {
          "output_type": "stream",
          "name": "stdout",
          "text": [
            "Epoch 1/5\n",
            "96/96 - 6s - loss: 6.1157 - accuracy: 0.6052 - 6s/epoch - 58ms/step\n",
            "Epoch 2/5\n",
            "96/96 - 0s - loss: 1.1690 - accuracy: 0.7740 - 353ms/epoch - 4ms/step\n",
            "Epoch 3/5\n",
            "96/96 - 0s - loss: 0.6466 - accuracy: 0.8323 - 348ms/epoch - 4ms/step\n",
            "Epoch 4/5\n",
            "96/96 - 0s - loss: 0.4639 - accuracy: 0.8635 - 373ms/epoch - 4ms/step\n",
            "Epoch 5/5\n",
            "96/96 - 0s - loss: 0.3781 - accuracy: 0.8698 - 372ms/epoch - 4ms/step\n",
            "8/8 [==============================] - 1s 39ms/step\n",
            "0.9333333333333333\n"
          ]
        }
      ],
      "source": [
        "# Create and train our CNN model\n",
        "cnn = CNNClassifier(num_epochs=5, layers=2, dropout=0.5)\n",
        "cnn.fit(X_train, y_train)\n",
        "\n",
        "# Print the score on the testing data\n",
        "print(cnn.score(X_test, y_test))"
      ]
    },
    {
      "cell_type": "markdown",
      "metadata": {
        "id": "KGWpgsVXP1ut"
      },
      "source": [
        "**How well did your neural network perform?**\n",
        "\n",
        "CNNs typically perform better than fully-connected neural networks on vision problems, but, as before, they aren't always consistent. They are also sensitive to a number of parameters."
      ]
    },
    {
      "cell_type": "markdown",
      "metadata": {
        "id": "c-XRh5Y5P_CL"
      },
      "source": [
        "## Training and Validation Curves\n",
        "\n",
        "An important aspect of training neural networks is to prevent overfitting. **How would we recognize overfitting?**\n",
        "\n",
        "In the first line of code below, we first **fit** the model on the training data and pass in some validation (or test) data to evaluate it. We call it the **history** because we want to retain information about the accuracy at each epoch.\n",
        "\n",
        "In the second line we plot the history so that we can compare the training and validation accuracies.  \n",
        "\n",
        "```python\n",
        "history = model.fit(X_train, y_train, validation_data=(X_test, y_test))\n",
        "plot_acc(history)\n",
        "```"
      ]
    },
    {
      "cell_type": "markdown",
      "metadata": {
        "id": "8eaFvE2PQEFe"
      },
      "source": [
        "###Exercise: Plotting a Training vs. Validation Curve For Our CNN ✍️\n",
        "\n",
        "**After how many epochs does the model begin to overfit? How does this vary as you vary the number of hidden layers and dropout?** Overfitting occurs when the validation accuracy starts to drop below the training accuracy."
      ]
    },
    {
      "cell_type": "code",
      "execution_count": null,
      "metadata": {
        "id": "OsVAasDbjARJ",
        "colab": {
          "base_uri": "https://localhost:8080/",
          "height": 629
        },
        "outputId": "51530b3c-c760-4c9d-e08e-6df6d8bb35b6"
      },
      "outputs": [
        {
          "output_type": "stream",
          "name": "stdout",
          "text": [
            "Epoch 1/5\n",
            "96/96 - 1s - loss: 0.3114 - accuracy: 0.8917 - val_loss: 0.2007 - val_accuracy: 0.9167 - 718ms/epoch - 7ms/step\n",
            "Epoch 2/5\n",
            "96/96 - 0s - loss: 0.2946 - accuracy: 0.9062 - val_loss: 0.1714 - val_accuracy: 0.9500 - 432ms/epoch - 5ms/step\n",
            "Epoch 3/5\n",
            "96/96 - 0s - loss: 0.2767 - accuracy: 0.9104 - val_loss: 0.1578 - val_accuracy: 0.9458 - 491ms/epoch - 5ms/step\n",
            "Epoch 4/5\n",
            "96/96 - 0s - loss: 0.2306 - accuracy: 0.9115 - val_loss: 0.1382 - val_accuracy: 0.9458 - 414ms/epoch - 4ms/step\n",
            "Epoch 5/5\n",
            "96/96 - 0s - loss: 0.2218 - accuracy: 0.9208 - val_loss: 0.1389 - val_accuracy: 0.9583 - 456ms/epoch - 5ms/step\n"
          ]
        },
        {
          "output_type": "display_data",
          "data": {
            "text/plain": [
              "<Figure size 640x480 with 1 Axes>"
            ],
            "image/png": "[encoded data removed]"
          },
          "metadata": {}
        }
      ],
      "source": [
        "### YOUR CODE HERE\n",
        "history = cnn.fit(X_train, y_train, validation_data=(X_test, y_test))\n",
        "plot_acc(history)\n",
        "### END CODE"
      ]
    },
    {
      "cell_type": "code",
      "execution_count": null,
      "metadata": {
        "id": "zEYUz17TJCGX",
        "colab": {
          "base_uri": "https://localhost:8080/"
        },
        "outputId": "925e48ba-b123-4dfe-ed1c-fa82478974a2"
      },
      "outputs": [
        {
          "output_type": "stream",
          "name": "stdout",
          "text": [
            "CNN Testing Set Score:\n",
            "8/8 [==============================] - 0s 2ms/step\n",
            "0.9583333333333334\n"
          ]
        }
      ],
      "source": [
        "# Print the score on the testing data\n",
        "print(\"CNN Testing Set Score:\")\n",
        "print(cnn.score(X_test, y_test))"
      ]
    },
    {
      "cell_type": "markdown",
      "metadata": {
        "id": "76z4NAY6afd7"
      },
      "source": [
        "# Building Neural Networks from Scratch in Keras\n",
        "\n",
        "So far, we've used our helper class which pre-builds a Keras neural network model. Now, we can build them on our own!\n",
        "\n",
        "Let's start with a \"toy example\": a tiny neural network with just three numerical inputs.\n"
      ]
    },
    {
      "cell_type": "markdown",
      "metadata": {
        "id": "jdngkAX_aCVu"
      },
      "source": [
        "###Exercise: Building a Simple Neural Network Using Keras! ✍️\n",
        "\n"
      ]
    },
    {
      "cell_type": "markdown",
      "metadata": {
        "id": "Bj-Pt3wGCXRu"
      },
      "source": [
        "\n",
        "We're going to build this model:\n",
        "\n",
        "![](http://cs231n.github.io/assets/nn1/neural_net.jpeg)"
      ]
    },
    {
      "cell_type": "markdown",
      "metadata": {
        "id": "H-6WGeedvTCS"
      },
      "source": [
        "This network can be described as:\n",
        "* Input Layer: 3 neurons\n",
        "* Layer 1 (Hidden): 4 neurons that are activated by `'relu'`\n",
        "* Layer 2 (Output): 2 neurons that are activated by `'softmax'`\n",
        "\n",
        "\n",
        "We also want to compile the model with\n",
        "`loss = 'categorical_crossentropy'`\n",
        "\n",
        "What does this represent? Here's one way to interpret it:\n",
        "* This model classifies animals as \"cat\" or \"dog\"\n",
        "* Our three inputs are height, weight, and age\n",
        "* Our outputs represent \"probability of cat\" and \"probability of dog\"\n",
        "* Because this is a toy example, we aren't actually training the model here - just using randomly initialized weights! We will train later models in this notebook.\n",
        "\n",
        "Try looking at the template code below! Uncomment one line at a time and fill in each blank, and make sure you understand which line goes with which part of the above structure. **If you want a hint or more details, check out the optional reference below.**"
      ]
    },
    {
      "cell_type": "code",
      "execution_count": null,
      "metadata": {
        "id": "dp-g9qotbRPU",
        "colab": {
          "base_uri": "https://localhost:8080/"
        },
        "outputId": "26369d4e-51ab-4c37-fda3-5117f6f88166"
      },
      "outputs": [
        {
          "output_type": "stream",
          "name": "stdout",
          "text": [
            "1/1 [==============================] - 0s 73ms/step\n"
          ]
        },
        {
          "output_type": "execute_result",
          "data": {
            "text/plain": [
              "array([[1.0000000e+00, 9.4664075e-11]], dtype=float32)"
            ]
          },
          "metadata": {},
          "execution_count": 10
        }
      ],
      "source": [
        "# Fill in the blanks with your group!\n",
        "### YOUR CODE HERE:\n",
        "\n",
        "model_1 = Sequential()\n",
        "model_1.add(InputLayer(input_shape=(3,)))\n",
        "model_1.add(Dense(4, activation = 'relu'))\n",
        "model_1.add(Dense(2, activation = 'softmax'))\n",
        "model_1.compile(loss='categorical_crossentropy', optimizer='adam', metrics=['accuracy'])\n",
        "model_1.predict([[14,18,5]]) # Try any input! This represents an animal of height 14, weight 18, and age 5.\n",
        "\n",
        "### END CODE"
      ]
    },
    {
      "cell_type": "markdown",
      "metadata": {
        "id": "baWZ9zXtF2Cz"
      },
      "source": [
        "### 💡 Discussion Question\n",
        "\n",
        "How would you interpret this output? Does our (untrained) network classify this as a cat or a dog?"
      ]
    },
    {
      "cell_type": "markdown",
      "source": [
        "###**Optional Reference**\n"
      ],
      "metadata": {
        "id": "meAO63t-TU5P"
      }
    },
    {
      "cell_type": "markdown",
      "metadata": {
        "id": "781M4IyhssuA"
      },
      "source": [
        "\n",
        "Here's some information about each step of the process. **You don't need to read through all this - check it as a reference if needed!**\n",
        "\n",
        "#### **1. Specify model**\n",
        "\n",
        "```python\n",
        "model = Sequential()\n",
        "```\n",
        "\n",
        "In this line of code, we build our network where the information flows from LEFT to RIGHT through the network in ONE DIRECTION sequentially as opposed to multiple directions. Neurons on the right never pass informations to neurons on the left of it.\n",
        "\n",
        "\n",
        "#### **2. Add layers to the network**\n",
        "```python\n",
        "model.add(InputLayer(input_shape=(5,)))\n",
        "```\n",
        "\n",
        "In this code, we add the input layer to the model. Here, we specify that there is a 1-dimensional list of 5 values as input.\n",
        "\n",
        "```python\n",
        "model.add(Dense(4, activation='sigmoid'))\n",
        "```\n",
        "\n",
        "In this code, we add a layer of 4 neurons to our network. Each neuron is DENSE and connects to all of the previous layer's inputs and all of the subsequent layer's outputs.\n",
        "\n",
        "We also specify what kind of output the neuron will give. If you want the neuron to output a number between 0 and 1 (like a probability!) you would use `'softmax'` or `'sigmoid'`. If you want the neuron to output any number, you can use `'linear'`! You'll also often see `'relu'`, which is when a neuron will only output nonnegative numbers.\n",
        "\n",
        "```python\n",
        "model.add(Dense(1, activation='linear'))\n",
        "```\n",
        "\n",
        "This code would add ANOTHER layer to the network that has 1 neuron. Since this would be our last layer in this example, this one neuron is used to predict a continuous value!\n",
        "\n",
        "#### **3. Turn the model on by compiling it**\n",
        "\n",
        "After having built the network, we want to train and use it, so we have to 'compile' it to prepare. We have to specify at the very least: a loss (how the model measures the quality of its weights), an optimizer (which adjusts the weights), and a metric (how to evaluate our results). Here are some common choices:\n",
        "\n",
        "```python\n",
        "model.compile(loss='mean_squared_error',\n",
        "              optimizer='adam',\n",
        "              metrics=['mean_squared_error'])\n",
        "```\n",
        "\n",
        "Once we've created our network, we can use it very simply! Just like we did with sklearn, we define our input data (`X`), the true predictions from that data (`y`), and then train our model with `fit`.\n",
        "\n",
        "```\n",
        "model.fit(X, y)\n",
        "```\n",
        "\n",
        "To use the model, you can use it to predict something with:\n",
        "\n",
        "```\n",
        "y_pred = model.predict(X)\n",
        "```\n",
        "\n",
        "You can actually use the model before you even train it! It just won't perform very well."
      ]
    },
    {
      "cell_type": "markdown",
      "metadata": {
        "id": "YovNRgfuy0Oq"
      },
      "source": [
        "### Optional Exercise: Building a Multi-layer Neural Net Using Keras\n",
        "\n",
        "![](http://cs231n.github.io/assets/nn1/neural_net2.jpeg)\n",
        "\n",
        "Let's try another, bigger example!\n",
        "\n",
        "Here, we are predicting a house price: regression! Our inputs could be \"year the house was built\", \"home square footage\", and \"lot square footage\", while our output is price (in thousands of dollars).\n",
        "\n",
        "* Input Layer: 3 neurons\n",
        "\n",
        "* Layer 1: 4 neurons that are activated by `'relu' `\n",
        "\n",
        "* Layer 2: 4 neurons that are activated by `'relu'`\n",
        "\n",
        "* Layer 3 (out): 1 neuron that is activated by `'relu'`\n",
        "\n",
        "Compile the model with\n",
        "`'mean_squared_error'` as both loss and metric, and try making a prediction for some made-up data.\n"
      ]
    },
    {
      "cell_type": "code",
      "execution_count": null,
      "metadata": {
        "id": "pm-ylEWqbXrQ",
        "colab": {
          "base_uri": "https://localhost:8080/"
        },
        "outputId": "88e9fd31-66bb-408b-fe2d-833d0b7a4fb2"
      },
      "outputs": [
        {
          "output_type": "stream",
          "name": "stderr",
          "text": [
            "WARNING:tensorflow:5 out of the last 20 calls to <function Model.make_predict_function.<locals>.predict_function at 0x7b68a03a8b80> triggered tf.function retracing. Tracing is expensive and the excessive number of tracings could be due to (1) creating @tf.function repeatedly in a loop, (2) passing tensors with different shapes, (3) passing Python objects instead of tensors. For (1), please define your @tf.function outside of the loop. For (2), @tf.function has reduce_retracing=True option that can avoid unnecessary retracing. For (3), please refer to https://www.tensorflow.org/guide/function#controlling_retracing and https://www.tensorflow.org/api_docs/python/tf/function for  more details.\n"
          ]
        },
        {
          "output_type": "stream",
          "name": "stdout",
          "text": [
            "1/1 [==============================] - 0s 87ms/step\n"
          ]
        },
        {
          "output_type": "execute_result",
          "data": {
            "text/plain": [
              "array([[38.045002]], dtype=float32)"
            ]
          },
          "metadata": {},
          "execution_count": 12
        }
      ],
      "source": [
        "### YOUR CODE HERE\n",
        "model_1 = Sequential()\n",
        "model_1.add(InputLayer(input_shape=(3,)))\n",
        "model_1.add(Dense(4, activation = 'relu'))\n",
        "model_1.add(Dense(4, activation = 'relu'))\n",
        "model_1.add(Dense(1, activation = 'relu'))\n",
        "model_1.compile(loss='mean_squared_error', optimizer='adam', metrics=['mean_squared_error'])\n",
        "model_1.predict([[14,18,5]])\n",
        "### END CODE"
      ]
    },
    {
      "cell_type": "markdown",
      "metadata": {
        "id": "YVCmntRHRjPQ"
      },
      "source": [
        "### Optional Exercise: Dogs vs. Roads Using Keras\n",
        "\n",
        "Let's try an even bigger example! Here, we are going to distinguish between images of dogs and roads once again.\n",
        "\n",
        "* Input Layer: 3072 dimensions (32 pixels x 32 pixels x 3 color channels)\n",
        "\n",
        "* Layer 1: 32 neurons that are activated by `'relu' `and take in 3072 inputs.\n",
        "\n",
        "* Layer 2: 16 neurons that are activated by `'relu'`\n",
        "\n",
        "* Layer 3 (out): 2 neurons that are activated by `'softmax'`\n",
        "\n",
        "Compile the model with\n",
        "`loss='categorical_crossentropy'`, and try making predictions on `X_train`!\n",
        "\n",
        "Once again, we are not actually training this model - so the predictions won't be any good. Soon we will create a CNN, which we will train!"
      ]
    },
    {
      "cell_type": "code",
      "execution_count": null,
      "metadata": {
        "id": "DD2Dc4AYR31r",
        "colab": {
          "base_uri": "https://localhost:8080/"
        },
        "outputId": "d9b6bf0d-1077-4ce8-d7af-f0f0cc5d2ab0"
      },
      "outputs": [
        {
          "output_type": "stream",
          "name": "stderr",
          "text": [
            "WARNING:tensorflow:6 out of the last 21 calls to <function Model.make_predict_function.<locals>.predict_function at 0x7b68a013fd00> triggered tf.function retracing. Tracing is expensive and the excessive number of tracings could be due to (1) creating @tf.function repeatedly in a loop, (2) passing tensors with different shapes, (3) passing Python objects instead of tensors. For (1), please define your @tf.function outside of the loop. For (2), @tf.function has reduce_retracing=True option that can avoid unnecessary retracing. For (3), please refer to https://www.tensorflow.org/guide/function#controlling_retracing and https://www.tensorflow.org/api_docs/python/tf/function for  more details.\n"
          ]
        },
        {
          "output_type": "stream",
          "name": "stdout",
          "text": [
            "1/1 [==============================] - 0s 51ms/step\n"
          ]
        },
        {
          "output_type": "execute_result",
          "data": {
            "text/plain": [
              "array([[1., 0.]], dtype=float32)"
            ]
          },
          "metadata": {},
          "execution_count": 19
        }
      ],
      "source": [
        "### YOUR CODE HERE\n",
        "model_1 = Sequential()\n",
        "model_1.add(InputLayer(input_shape=(3072,)))\n",
        "model_1.add(Dense(32, activation = 'relu'))\n",
        "model_1.add(Dense(16, activation = 'relu'))\n",
        "model_1.add(Dense(2, activation = 'softmax'))\n",
        "model_1.compile(loss='categorical_crossentropy', optimizer='adam', metrics=['mean_squared_error'])\n",
        "model_1.predict(X_train[:1])\n",
        "### END CODE"
      ]
    },
    {
      "cell_type": "markdown",
      "metadata": {
        "id": "QCbD6siv-Ip-"
      },
      "source": [
        "##Exercise: Building a CNN Using Keras! ✍️\n",
        "\n",
        "Now that we know how to build simple neural networks in Keras, let's build a CNN! The CNN will perform well on our data set of car and road images.\n",
        "\n",
        "Below is Keras code for a CNN. It will run as-is on the conscientious cars dataset. However, the performance is suboptimal. Add more layers and change the neural network hyperparameters so that the performance will be better. **Can you get the train and validation accuracy to both be higher than 95%?**\n",
        "\n",
        "The Keras core layer API may be a useful reference: https://keras.io/layers/core/\n",
        "\n",
        "In particular and in addition to adding more of the existing convolutional layers and activations, consider using the following layers after a convolution + activation. Can you take a guess at what they'd be doing for a given input?\n",
        "\n",
        "```python\n",
        "Dropout(RATE)\n",
        "MaxPooling2D(pool_size=(N, N))\n",
        "```\n"
      ]
    },
    {
      "cell_type": "code",
      "execution_count": null,
      "metadata": {
        "id": "LFVHyPKn-V4N",
        "colab": {
          "base_uri": "https://localhost:8080/",
          "height": 1000
        },
        "outputId": "4faf5214-e8ca-4ab3-a4e8-db805e5f3e68"
      },
      "outputs": [
        {
          "output_type": "stream",
          "name": "stdout",
          "text": [
            "Epoch 1/70\n",
            "30/30 [==============================] - 1s 15ms/step - loss: 10.8652 - accuracy: 0.6042 - val_loss: 3.3598 - val_accuracy: 0.6375\n",
            "Epoch 2/70\n",
            "30/30 [==============================] - 0s 6ms/step - loss: 4.6900 - accuracy: 0.6948 - val_loss: 1.2769 - val_accuracy: 0.7792\n",
            "Epoch 3/70\n",
            "30/30 [==============================] - 0s 6ms/step - loss: 2.4429 - accuracy: 0.7656 - val_loss: 0.4832 - val_accuracy: 0.9042\n",
            "Epoch 4/70\n",
            "30/30 [==============================] - 0s 6ms/step - loss: 1.8456 - accuracy: 0.7917 - val_loss: 0.3999 - val_accuracy: 0.8833\n",
            "Epoch 5/70\n",
            "30/30 [==============================] - 0s 6ms/step - loss: 1.1295 - accuracy: 0.8354 - val_loss: 0.2151 - val_accuracy: 0.9292\n",
            "Epoch 6/70\n",
            "30/30 [==============================] - 0s 7ms/step - loss: 0.9452 - accuracy: 0.8479 - val_loss: 0.2591 - val_accuracy: 0.9208\n",
            "Epoch 7/70\n",
            "30/30 [==============================] - 0s 6ms/step - loss: 0.6632 - accuracy: 0.8771 - val_loss: 0.2081 - val_accuracy: 0.9250\n",
            "Epoch 8/70\n",
            "30/30 [==============================] - 0s 6ms/step - loss: 0.5468 - accuracy: 0.8958 - val_loss: 0.1460 - val_accuracy: 0.9500\n",
            "Epoch 9/70\n",
            "30/30 [==============================] - 0s 6ms/step - loss: 0.5329 - accuracy: 0.8802 - val_loss: 0.1475 - val_accuracy: 0.9542\n",
            "Epoch 10/70\n",
            "30/30 [==============================] - 0s 6ms/step - loss: 0.4328 - accuracy: 0.9021 - val_loss: 0.1713 - val_accuracy: 0.9375\n",
            "Epoch 11/70\n",
            "30/30 [==============================] - 0s 6ms/step - loss: 0.3587 - accuracy: 0.9062 - val_loss: 0.1423 - val_accuracy: 0.9375\n",
            "Epoch 12/70\n",
            "30/30 [==============================] - 0s 6ms/step - loss: 0.3473 - accuracy: 0.9229 - val_loss: 0.0981 - val_accuracy: 0.9708\n",
            "Epoch 13/70\n",
            "30/30 [==============================] - 0s 6ms/step - loss: 0.3207 - accuracy: 0.9135 - val_loss: 0.1317 - val_accuracy: 0.9500\n",
            "Epoch 14/70\n",
            "30/30 [==============================] - 0s 6ms/step - loss: 0.2276 - accuracy: 0.9396 - val_loss: 0.1184 - val_accuracy: 0.9583\n",
            "Epoch 15/70\n",
            "30/30 [==============================] - 0s 6ms/step - loss: 0.2113 - accuracy: 0.9385 - val_loss: 0.2042 - val_accuracy: 0.9125\n",
            "Epoch 16/70\n",
            "30/30 [==============================] - 0s 6ms/step - loss: 0.1971 - accuracy: 0.9427 - val_loss: 0.1224 - val_accuracy: 0.9625\n",
            "Epoch 17/70\n",
            "30/30 [==============================] - 0s 6ms/step - loss: 0.2168 - accuracy: 0.9271 - val_loss: 0.1278 - val_accuracy: 0.9708\n",
            "Epoch 18/70\n",
            "30/30 [==============================] - 0s 6ms/step - loss: 0.2342 - accuracy: 0.9354 - val_loss: 0.1310 - val_accuracy: 0.9625\n",
            "Epoch 19/70\n",
            "30/30 [==============================] - 0s 6ms/step - loss: 0.2620 - accuracy: 0.9250 - val_loss: 0.1679 - val_accuracy: 0.9417\n",
            "Epoch 20/70\n",
            "30/30 [==============================] - 0s 6ms/step - loss: 0.2237 - accuracy: 0.9333 - val_loss: 0.1371 - val_accuracy: 0.9625\n",
            "Epoch 21/70\n",
            "30/30 [==============================] - 0s 5ms/step - loss: 0.2057 - accuracy: 0.9344 - val_loss: 0.1336 - val_accuracy: 0.9542\n",
            "Epoch 22/70\n",
            "30/30 [==============================] - 0s 6ms/step - loss: 0.1986 - accuracy: 0.9385 - val_loss: 0.1656 - val_accuracy: 0.9458\n",
            "Epoch 23/70\n",
            "30/30 [==============================] - 0s 6ms/step - loss: 0.1776 - accuracy: 0.9396 - val_loss: 0.1467 - val_accuracy: 0.9500\n",
            "Epoch 24/70\n",
            "30/30 [==============================] - 0s 6ms/step - loss: 0.1749 - accuracy: 0.9448 - val_loss: 0.1359 - val_accuracy: 0.9625\n",
            "Epoch 25/70\n",
            "30/30 [==============================] - 0s 6ms/step - loss: 0.1863 - accuracy: 0.9396 - val_loss: 0.1343 - val_accuracy: 0.9542\n",
            "Epoch 26/70\n",
            "30/30 [==============================] - 0s 8ms/step - loss: 0.1563 - accuracy: 0.9531 - val_loss: 0.1301 - val_accuracy: 0.9542\n",
            "Epoch 27/70\n",
            "30/30 [==============================] - 0s 6ms/step - loss: 0.1248 - accuracy: 0.9563 - val_loss: 0.1339 - val_accuracy: 0.9500\n",
            "Epoch 28/70\n",
            "30/30 [==============================] - 0s 6ms/step - loss: 0.1232 - accuracy: 0.9594 - val_loss: 0.1344 - val_accuracy: 0.9500\n",
            "Epoch 29/70\n",
            "30/30 [==============================] - 0s 5ms/step - loss: 0.1738 - accuracy: 0.9458 - val_loss: 0.1249 - val_accuracy: 0.9542\n",
            "Epoch 30/70\n",
            "30/30 [==============================] - 0s 6ms/step - loss: 0.1136 - accuracy: 0.9625 - val_loss: 0.1556 - val_accuracy: 0.9500\n",
            "Epoch 31/70\n",
            "30/30 [==============================] - 0s 6ms/step - loss: 0.1485 - accuracy: 0.9542 - val_loss: 0.1454 - val_accuracy: 0.9583\n",
            "Epoch 32/70\n",
            "30/30 [==============================] - 0s 6ms/step - loss: 0.1242 - accuracy: 0.9646 - val_loss: 0.1750 - val_accuracy: 0.9458\n",
            "Epoch 33/70\n",
            "30/30 [==============================] - 0s 6ms/step - loss: 0.1527 - accuracy: 0.9500 - val_loss: 0.1241 - val_accuracy: 0.9667\n",
            "Epoch 34/70\n",
            "30/30 [==============================] - 0s 9ms/step - loss: 0.1141 - accuracy: 0.9646 - val_loss: 0.1288 - val_accuracy: 0.9583\n",
            "Epoch 35/70\n",
            "30/30 [==============================] - 0s 9ms/step - loss: 0.0974 - accuracy: 0.9719 - val_loss: 0.1453 - val_accuracy: 0.9583\n",
            "Epoch 36/70\n",
            "30/30 [==============================] - 0s 9ms/step - loss: 0.1047 - accuracy: 0.9615 - val_loss: 0.1271 - val_accuracy: 0.9542\n",
            "Epoch 37/70\n",
            "30/30 [==============================] - 0s 10ms/step - loss: 0.1089 - accuracy: 0.9625 - val_loss: 0.1285 - val_accuracy: 0.9542\n",
            "Epoch 38/70\n",
            "30/30 [==============================] - 0s 8ms/step - loss: 0.1193 - accuracy: 0.9625 - val_loss: 0.1789 - val_accuracy: 0.9417\n",
            "Epoch 39/70\n",
            "30/30 [==============================] - 0s 9ms/step - loss: 0.0831 - accuracy: 0.9688 - val_loss: 0.1433 - val_accuracy: 0.9625\n",
            "Epoch 40/70\n",
            "30/30 [==============================] - 0s 8ms/step - loss: 0.1018 - accuracy: 0.9615 - val_loss: 0.1472 - val_accuracy: 0.9542\n",
            "Epoch 41/70\n",
            "30/30 [==============================] - 0s 8ms/step - loss: 0.0865 - accuracy: 0.9635 - val_loss: 0.1166 - val_accuracy: 0.9583\n",
            "Epoch 42/70\n",
            "30/30 [==============================] - 0s 9ms/step - loss: 0.0803 - accuracy: 0.9688 - val_loss: 0.1497 - val_accuracy: 0.9458\n",
            "Epoch 43/70\n",
            "30/30 [==============================] - 0s 9ms/step - loss: 0.1219 - accuracy: 0.9573 - val_loss: 0.1364 - val_accuracy: 0.9542\n",
            "Epoch 44/70\n",
            "30/30 [==============================] - 0s 9ms/step - loss: 0.0706 - accuracy: 0.9594 - val_loss: 0.1396 - val_accuracy: 0.9500\n",
            "Epoch 45/70\n",
            "30/30 [==============================] - 0s 9ms/step - loss: 0.0961 - accuracy: 0.9656 - val_loss: 0.1209 - val_accuracy: 0.9583\n",
            "Epoch 46/70\n",
            "30/30 [==============================] - 0s 9ms/step - loss: 0.0846 - accuracy: 0.9719 - val_loss: 0.1860 - val_accuracy: 0.9250\n",
            "Epoch 47/70\n",
            "30/30 [==============================] - 0s 10ms/step - loss: 0.0633 - accuracy: 0.9760 - val_loss: 0.2430 - val_accuracy: 0.9125\n",
            "Epoch 48/70\n",
            "30/30 [==============================] - 0s 7ms/step - loss: 0.0714 - accuracy: 0.9740 - val_loss: 0.1503 - val_accuracy: 0.9458\n",
            "Epoch 49/70\n",
            "30/30 [==============================] - 0s 7ms/step - loss: 0.0669 - accuracy: 0.9781 - val_loss: 0.1345 - val_accuracy: 0.9500\n",
            "Epoch 50/70\n",
            "30/30 [==============================] - 0s 6ms/step - loss: 0.0714 - accuracy: 0.9698 - val_loss: 0.1403 - val_accuracy: 0.9458\n",
            "Epoch 51/70\n",
            "30/30 [==============================] - 0s 6ms/step - loss: 0.0768 - accuracy: 0.9750 - val_loss: 0.2090 - val_accuracy: 0.9375\n",
            "Epoch 52/70\n",
            "30/30 [==============================] - 0s 6ms/step - loss: 0.0911 - accuracy: 0.9635 - val_loss: 0.1603 - val_accuracy: 0.9458\n",
            "Epoch 53/70\n",
            "30/30 [==============================] - 0s 6ms/step - loss: 0.0429 - accuracy: 0.9823 - val_loss: 0.1475 - val_accuracy: 0.9542\n",
            "Epoch 54/70\n",
            "30/30 [==============================] - 0s 6ms/step - loss: 0.0635 - accuracy: 0.9760 - val_loss: 0.1563 - val_accuracy: 0.9500\n",
            "Epoch 55/70\n",
            "30/30 [==============================] - 0s 6ms/step - loss: 0.0706 - accuracy: 0.9750 - val_loss: 0.1420 - val_accuracy: 0.9583\n",
            "Epoch 56/70\n",
            "30/30 [==============================] - 0s 6ms/step - loss: 0.0355 - accuracy: 0.9865 - val_loss: 0.1437 - val_accuracy: 0.9583\n",
            "Epoch 57/70\n",
            "30/30 [==============================] - 0s 6ms/step - loss: 0.0541 - accuracy: 0.9802 - val_loss: 0.1425 - val_accuracy: 0.9583\n",
            "Epoch 58/70\n",
            "30/30 [==============================] - 0s 6ms/step - loss: 0.0760 - accuracy: 0.9740 - val_loss: 0.1394 - val_accuracy: 0.9542\n",
            "Epoch 59/70\n",
            "30/30 [==============================] - 0s 6ms/step - loss: 0.0855 - accuracy: 0.9719 - val_loss: 0.1375 - val_accuracy: 0.9667\n",
            "Epoch 60/70\n",
            "30/30 [==============================] - 0s 6ms/step - loss: 0.0630 - accuracy: 0.9771 - val_loss: 0.1593 - val_accuracy: 0.9583\n",
            "Epoch 61/70\n",
            "30/30 [==============================] - 0s 6ms/step - loss: 0.0618 - accuracy: 0.9792 - val_loss: 0.1357 - val_accuracy: 0.9667\n",
            "Epoch 62/70\n",
            "30/30 [==============================] - 0s 6ms/step - loss: 0.0589 - accuracy: 0.9833 - val_loss: 0.1515 - val_accuracy: 0.9583\n",
            "Epoch 63/70\n",
            "30/30 [==============================] - 0s 6ms/step - loss: 0.0566 - accuracy: 0.9802 - val_loss: 0.1314 - val_accuracy: 0.9625\n",
            "Epoch 64/70\n",
            "30/30 [==============================] - 0s 6ms/step - loss: 0.0603 - accuracy: 0.9823 - val_loss: 0.1377 - val_accuracy: 0.9625\n",
            "Epoch 65/70\n",
            "30/30 [==============================] - 0s 6ms/step - loss: 0.0310 - accuracy: 0.9896 - val_loss: 0.1318 - val_accuracy: 0.9542\n",
            "Epoch 66/70\n",
            "30/30 [==============================] - 0s 7ms/step - loss: 0.0684 - accuracy: 0.9792 - val_loss: 0.1243 - val_accuracy: 0.9583\n",
            "Epoch 67/70\n",
            "30/30 [==============================] - 0s 6ms/step - loss: 0.0490 - accuracy: 0.9792 - val_loss: 0.1314 - val_accuracy: 0.9542\n",
            "Epoch 68/70\n",
            "30/30 [==============================] - 0s 6ms/step - loss: 0.0407 - accuracy: 0.9865 - val_loss: 0.1487 - val_accuracy: 0.9333\n",
            "Epoch 69/70\n",
            "30/30 [==============================] - 0s 6ms/step - loss: 0.0892 - accuracy: 0.9719 - val_loss: 0.1397 - val_accuracy: 0.9542\n",
            "Epoch 70/70\n",
            "30/30 [==============================] - 0s 6ms/step - loss: 0.0526 - accuracy: 0.9771 - val_loss: 0.1571 - val_accuracy: 0.9458\n"
          ]
        },
        {
          "output_type": "display_data",
          "data": {
            "text/plain": [
              "<Figure size 640x480 with 1 Axes>"
            ],
            "image/png": "[encoded data removed]"
          },
          "metadata": {}
        }
      ],
      "source": [
        "model = Sequential()\n",
        "model.add(Reshape((32, 32, 3))) # Try to figure out why this layer is necessary!\n",
        "\n",
        "model.add(Conv2D(32, (3, 3), padding='same'))\n",
        "model.add(Activation('relu'))\n",
        "model.add(Dropout(0.2))\n",
        "model.add(MaxPooling2D(pool_size=(2, 2)))\n",
        "\n",
        "###\n",
        "###\n",
        "model.add(Conv2D(64, (3, 3), padding='same'))\n",
        "model.add(Activation('relu'))\n",
        "model.add(MaxPooling2D(pool_size=(2, 2)))\n",
        "model.add(Dropout(0.2))\n",
        "\n",
        "model.add(Conv2D(32, (3, 3), padding='same'))\n",
        "model.add(Activation('relu'))\n",
        "model.add(MaxPooling2D(pool_size=(2, 2)))\n",
        "model.add(Dropout(0.2))\n",
        "###\n",
        "###\n",
        "\n",
        "model.add(Flatten())\n",
        "model.add(Dense(512))\n",
        "model.add(Activation('relu'))\n",
        "model.add(Dense(2))\n",
        "model.add(Activation('softmax'))\n",
        "\n",
        "# initiate RMSprop optimizer\n",
        "opt = keras.optimizers.legacy.RMSprop(learning_rate=0.0001, decay=1e-6)\n",
        "\n",
        "# Let's train the model using RMSprop\n",
        "model.compile(loss='categorical_crossentropy',\n",
        "              optimizer=opt,\n",
        "              metrics=['accuracy'])\n",
        "\n",
        "# Train the CNN and plot accuracy.\n",
        "history = model.fit(X_train, y_train,\n",
        "                    validation_data=(X_test, y_test),\n",
        "                    epochs=70)\n",
        "plot_acc(history)\n"
      ]
    },
    {
      "cell_type": "markdown",
      "metadata": {
        "id": "9JFLu0CdXM6K"
      },
      "source": [
        "**What interesting observations** do you make from the graph? How many epochs should you train for?\n",
        "\n",
        "We can also print out the structure of our model. What do the parts of the summary mean?"
      ]
    },
    {
      "cell_type": "code",
      "execution_count": null,
      "metadata": {
        "id": "RGwXs3C8YZl-"
      },
      "outputs": [],
      "source": [
        "model.summary()"
      ]
    },
    {
      "cell_type": "markdown",
      "metadata": {
        "id": "YXINPAJvRr9W"
      },
      "source": [
        "#Advanced: Cats vs. Dogs with CNN\n",
        "\n",
        "So far, we've trained a CNN to distinguish between small images of roads and small images of dogs. It's more challenging and time-consuming to train CNNs for bigger images or harder tasks, like distinguishing dogs from cats (which look a lot more like dogs than roads do!)\n",
        "\n",
        "In this exercise, you'll adapt your previous model to classify large images of dogs vs. cats, and then try implementing a famous CNN architecture. Along the way, you'll deal with some of the debugging that machine learning engineers often have to handle."
      ]
    },
    {
      "cell_type": "code",
      "execution_count": null,
      "metadata": {
        "id": "6gU39z3jNMAt"
      },
      "outputs": [],
      "source": [
        "#@title Run this to load cat and dog data!\n",
        "\n",
        "# Code here from https://colab.research.google.com/github/google/eng-edu/blob/master/ml/pc/exercises/image_classification_part1.ipynb#scrollTo=4PIP1rkmeAYS\n",
        "\n",
        "import tensorflow as tf\n",
        "import os\n",
        "from tensorflow.keras.preprocessing.image import ImageDataGenerator\n",
        "from google.colab.patches import cv2_imshow\n",
        "import cv2\n",
        "import matplotlib.pyplot as plt\n",
        "\n",
        "try:\n",
        "  road_model = model\n",
        "  road_saved = True\n",
        "except NameError:\n",
        "  road_saved = False\n",
        "\n",
        "IMG_SHAPE  = 150  # Our training data consists of images with width of 150 pixels and height of 150 pixels\n",
        "_URL = 'https://storage.googleapis.com/mledu-datasets/cats_and_dogs_filtered.zip'\n",
        "zip_dir = tf.keras.utils.get_file('cats_and_dogs_filterted.zip', origin=_URL, extract=True)\n",
        "base_dir = os.path.join(os.path.dirname(zip_dir), 'cats_and_dogs_filtered')\n",
        "train_dir = os.path.join(base_dir, 'train')\n",
        "validation_dir = os.path.join(base_dir, 'validation')\n",
        "\n",
        "train_cats_dir = os.path.join(train_dir, 'cats')  # directory with our training cat pictures\n",
        "train_dogs_dir = os.path.join(train_dir, 'dogs')  # directory with our training dog pictures\n",
        "validation_cats_dir = os.path.join(validation_dir, 'cats')  # directory with our validation cat pictures\n",
        "validation_dogs_dir = os.path.join(validation_dir, 'dogs')  # directory with our validation dog pictures\n",
        "train_image_generator      = ImageDataGenerator()  # Generator for our training data\n",
        "validation_image_generator = ImageDataGenerator()  # Generator for our validation data\n",
        "train_data = train_image_generator.flow_from_directory(batch_size=2000,\n",
        "                                                           directory=train_dir,\n",
        "                                                           shuffle=True,\n",
        "                                                           target_size=(IMG_SHAPE,IMG_SHAPE), #(150,150)\n",
        "                                                           class_mode='binary').next()\n",
        "val_data = validation_image_generator.flow_from_directory(batch_size=1000,\n",
        "                                                              directory=validation_dir,\n",
        "                                                              shuffle=False,\n",
        "                                                              target_size=(IMG_SHAPE,IMG_SHAPE), #(150,150)\n",
        "\n",
        "                                                              class_mode='binary').next()\n",
        "cd_train_inputs, cd_train_labels = train_data\n",
        "cd_test_inputs, cd_test_labels = val_data"
      ]
    },
    {
      "cell_type": "markdown",
      "metadata": {
        "id": "1y5etOJwScaG"
      },
      "source": [
        "**Run the code below to see the dimensions of our training and validation data. What does each number mean? What is different than our previous dataset?**"
      ]
    },
    {
      "cell_type": "code",
      "execution_count": null,
      "metadata": {
        "id": "kjdedJ0VNvWg"
      },
      "outputs": [],
      "source": [
        "print(cd_train_inputs.shape)\n",
        "print(cd_train_labels.shape)\n",
        "print(cd_test_inputs.shape)\n",
        "print(cd_test_labels.shape)"
      ]
    },
    {
      "cell_type": "markdown",
      "metadata": {
        "id": "qIAkgOqWTAL7"
      },
      "source": [
        "**Run this code to see a random image from our training data (different each time).**"
      ]
    },
    {
      "cell_type": "code",
      "execution_count": null,
      "metadata": {
        "id": "HooiJ-RrQPcA"
      },
      "outputs": [],
      "source": [
        "index = np.random.randint(len(cd_train_inputs))\n",
        "plt.imshow(cd_train_inputs[index] / 255)\n",
        "plt.show()\n",
        "print(\"Label:\", cd_train_labels[index])"
      ]
    },
    {
      "cell_type": "markdown",
      "metadata": {
        "id": "HOwP9kX9UshH"
      },
      "source": [
        "**By adapting code from the previous exercise, build, train, and test a CNN to classify cats vs. dogs.**\n",
        "**Hints:**\n",
        "*   Use `print(model.summary())` for a useful visualization of your model's architecture. Compare the summary of your cat/road and cat/dog classifiers.\n",
        "*  Substitute the names of the new datasets.\n",
        "*  Get a \"first try\" working by making small adjustments to a previous model before trying to optimize the accuracy. You can temporarily comment out layers as you figure things out.\n",
        "*  The outputs have different shapes betweeen the two datasets. What do you need to change? (You will get a ValueError that suggests how to transform the output to a one-hot encoding. Hint: you may want to look into how to use the `to_categorical()` function)\n",
        "*  If you run out of memory, restart the notebook and/or use your knowledge of convolution arithmetic to reduce the size of an intermediate output (see [Keras documentation](https://www.tensorflow.org/api_docs/python/tf/keras/layers/Conv2D)).\n",
        "* Dropout layers help reduce overfitting."
      ]
    },
    {
      "cell_type": "code",
      "execution_count": null,
      "metadata": {
        "id": "AeuqlzigZZ8I"
      },
      "outputs": [],
      "source": [
        "model = Sequential()\n",
        "# TODO: Your code here to build, train, and test a cats vs. dogs CNN! (If you run into errors, see the hints above for help debugging!)\n"
      ]
    },
    {
      "cell_type": "markdown",
      "metadata": {
        "id": "m6sFSGEqjPwe"
      },
      "source": [
        "#Advanced Challenge: Implementing a Famous Architecture for Cats vs. Dogs\n",
        "\n",
        "Having trouble designing an effective architecture? Try implementing a version of AlexNet, one of the most famous CNNs for image convolution ever. You can find this image and other useful information on this network [here](https://towardsdatascience.com/the-w3h-of-alexnet-vggnet-resnet-and-inception-7baaaecccc96).\n",
        "\n",
        "![](https://lh4.googleusercontent.com/gFAxn9Z-Y1lgkNy2GfsqjXy1DvSuYF8rvP3CslRvmuoP5SUaJMrEOr24YShU_LwalLpYNJFwpJgcDh9whk9XrMOGQ1ADQ9FY_0saicCVH0jsNPDKOYBcTG4YhbqpbPolW4hZSdUsDQ)\n",
        "\n",
        "How do we read this diagram?\n",
        "\n",
        "On the left side, we start with images of dimension 227x227x3 (RGB). We apply a filter composed of 96 kernels of size 11x11, with stride size 4. We end up with data of dimension 55x55x96. We pass through multiple layers of convolution and max pooling as shown, before ending with three dense (fully connected) layers.\n",
        "\n",
        "Not shown: each layer uses ReLU activation, and we include dropout before the first two dense layers. Make sure to include those!\n",
        "\n",
        "You'll want to adjust some of these dimensions, for a few reasons: we're starting with 150x150 rather than 227x227 images, ending with 2 labels rather than 1000, and have limited data and memory. Use your knowledge of convolution arithmetic (see CNN slides) and the [Keras documentation](https://www.tensorflow.org/api_docs/python/tf/keras/layers/Conv2D) to change the stride, kernel, and/or padding.\n",
        "\n",
        "Use `model.summary()` to understand the dimensions of your data at each step. To speed things up as you're building, you can set the number of epochs to 1."
      ]
    },
    {
      "cell_type": "code",
      "execution_count": null,
      "metadata": {
        "id": "8FHg8YTGtQ2t"
      },
      "outputs": [],
      "source": [
        "model = Sequential()\n",
        "#TODO: Your code to run, train, and test AlexNet here:\n"
      ]
    },
    {
      "cell_type": "markdown",
      "metadata": {
        "id": "PlF308hDjwyC"
      },
      "source": [
        "You might find that even AlexNet isn't working that well for you!\n",
        "\n",
        "This is because having a good architecture is only half the battle: AlexNet is a complex model designed to learn from millions of images. We're using a small dataset of only 2000 training images, so it's not surprising that our results aren't great. Our model is overfitting: essentially memorizing the few training images, rather than really learning the difference between a cat and a dog. (The advantage is that our model trains quickly.)\n",
        "\n",
        "To get really good performance, we need more data. If we can't find more, we could use *data augmentation*: inventing new training data by transforming our existing images. You can read more about it at https://blog.keras.io/building-powerful-image-classification-models-using-very-little-data.html."
      ]
    },
    {
      "cell_type": "markdown",
      "source": [
        "#From AlexNet to VGGNet: A Better Choice for Image Classification\n",
        "\n",
        "AlexNet's architecture may not be complex enough to capture the nuanced differences between cats and dogs, which might result in lower accuracy in classification tasks.\n",
        "\n",
        "VGGNet, or simply VGG, introduced by the Visual Geometry Group, is a much deeper model with its variants VGG16 and VGG19 having 16 and 19 layers respectively. VGG architecture has smaller, but more number of convolutional filters compared to AlexNet, allowing it to learn more complex features. This depth, along with the use of small 3x3 filters throughout the network, makes it excellent at learning hierarchical features in images, making it more suitable for our cat versus dog classification task.\n",
        "\n",
        "Moreover, VGG models have been trained on millions of images from the ImageNet\n",
        "database, which includes a wide variety of animal images, making the learned features more generalized and better suited for our task. Hence, moving from AlexNet to VGG for our specific classification task would be a strategic choice to potentially improve our model's performance.\n",
        "\n",
        "So let's see how good it is at our task!"
      ],
      "metadata": {
        "id": "ePRiJhGdEgQL"
      }
    },
    {
      "cell_type": "code",
      "source": [
        "#@title Run this to load images and imports! { display-mode: \"form\" }\n",
        "\n",
        "from keras.applications.vgg16 import VGG16\n",
        "from keras.models import Model\n",
        "from matplotlib import pyplot\n",
        "from keras.utils import to_categorical\n",
        "from keras.layers import BatchNormalization\n",
        "from keras.optimizers import SGD\n",
        "from keras.layers import Dense\n",
        "from keras.layers import Flatten\n",
        "\n",
        "\n",
        "train_data = train_image_generator.flow_from_directory(batch_size=2000,\n",
        "                                                           directory=train_dir,\n",
        "                                                           shuffle=True,\n",
        "                                                           target_size=(224,224), #(150,150)\n",
        "                                                           class_mode='binary').next()\n",
        "val_data = validation_image_generator.flow_from_directory(batch_size=1000,\n",
        "                                                              directory=validation_dir,\n",
        "                                                              shuffle=False,\n",
        "                                                              target_size=(224,224), #(150,150)\n",
        "                                                              class_mode='binary').next()\n",
        "cd_train_inputs, cd_train_labels = train_data\n",
        "cd_test_inputs, cd_test_labels = val_data"
      ],
      "metadata": {
        "id": "de8Dp3x9Eqgb"
      },
      "execution_count": null,
      "outputs": []
    },
    {
      "cell_type": "markdown",
      "source": [
        "It's crucial to note that VGG16 model requires input images to have a size of 224x224 pixels. We've already preprocessed our images to match this requirement, but ensure the model's input shape is set to this dimensionality as well!\n",
        "\n",
        "Also, you might have noticed that there's another dimension specified in the model's input shape. Wondering what that is? It's the channel dimension. For colored images, it is usually 3, representing the Red, Green, and Blue channels.\n",
        "\n",
        "Now, let's move onto our model configuration. For the first Dense layer, we will be using the 'relu' (Rectified Linear Unit) activation function. It's a commonly used activation function that introduces non-linearity in our model.\n",
        "\n",
        "Following that, we'll utilize the 'sigmoid' activation function in our final Dense layer. The sigmoid function squashes the output between the range of 0 and 1, making it suitable for binary classification tasks."
      ],
      "metadata": {
        "id": "SxBngnvRFaDf"
      }
    },
    {
      "cell_type": "code",
      "source": [
        "# Fill in the underlines!\n",
        "\n",
        "model = VGG16(include_top=False, input_shape=(____,_____,_____))\n",
        "\n",
        "# mark loaded layers as not trainable\n",
        "for layer in model.layers:\n",
        "  layer.trainable = False\n",
        "\n",
        "flat1 = Flatten()(model.layers[-1].output)\n",
        "class1 = Dense(128, activation='_____', kernel_initializer='he_uniform')(flat1)\n",
        "output = Dense(2, activation='_______')(class1)\n",
        "\n",
        "# define new model\n",
        "model = Model(inputs=model.inputs, outputs=output)\n",
        "\n",
        "# compile model\n",
        "opt = SGD(learning_rate=0.001, momentum=0.9)\n",
        "model.compile(optimizer=opt, loss='binary_crossentropy', metrics=['accuracy'])\n",
        "\n",
        "# Train the CNN and plot accuracy.\n",
        "# Substituted new dataset names; to_categorical converts to one-hot, as ValueError suggests\n",
        "history = model.fit(cd_train_inputs, to_categorical(cd_train_labels),\n",
        "                    validation_data=(cd_test_inputs, to_categorical(cd_test_labels)),\n",
        "                    epochs=2)\n",
        "plot_acc(history)\n",
        "\n",
        "print(model.summary())"
      ],
      "metadata": {
        "id": "bhkQWKVxEuGF"
      },
      "execution_count": null,
      "outputs": []
    },
    {
      "cell_type": "markdown",
      "source": [
        "# You've reached the end!\n",
        "Moving from AlexNet to VGGNet represents a shift towards more complex and powerful models. Don't feel discouraged if it feels overwhelming – the depth and complexity of VGGNet are part of its strength and why it performs so well.\n",
        "\n",
        "By experimenting with different hyperparameters, layers, and models you're not only enhancing your problem-solving skills but also your intuition about how neural networks operate.\n",
        "\n",
        "Remember, even if you don't hit 95% accuracy, the key is to learn from the process and understand why a certain setup works or why it doesn't.\n",
        "\n",
        "Keep up the fantastic work! Remember, the path to mastering machine learning is a marathon, not a sprint. Keep exploring, keep questioning, and most importantly, have fun with it!"
      ],
      "metadata": {
        "id": "GF1gDyE9NqpE"
      }
    },
    {
      "cell_type": "markdown",
      "metadata": {
        "id": "RVzEpI_xWpE5"
      },
      "source": [
        "![](https://images.pexels.com/photos/316/black-and-white-animal-dog-pet.jpg?auto=compress&cs=tinysrgb&dpr=2&h=650&w=940)"
      ]
    }
  ],
  "metadata": {
    "accelerator": "GPU",
    "colab": {
      "provenance": [],
      "include_colab_link": true
    },
    "kernelspec": {
      "display_name": "Python 3",
      "language": "python",
      "name": "python3"
    },
    "language_info": {
      "codemirror_mode": {
        "name": "ipython",
        "version": 3
      },
      "file_extension": ".py",
      "mimetype": "text/x-python",
      "name": "python",
      "nbconvert_exporter": "python",
      "pygments_lexer": "ipython3",
      "version": "3.8.2"
    }
  },
  "nbformat": 4,
  "nbformat_minor": 0
}